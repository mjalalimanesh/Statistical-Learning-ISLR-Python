{
  "nbformat": 4,
  "nbformat_minor": 0,
  "metadata": {
    "colab": {
      "name": "lab6.ipynb",
      "provenance": [],
      "authorship_tag": "ABX9TyPswVI2B/jifyZSLXsvWdto",
      "include_colab_link": true
    },
    "kernelspec": {
      "name": "python3",
      "display_name": "Python 3"
    }
  },
  "cells": [
    {
      "cell_type": "markdown",
      "metadata": {
        "id": "view-in-github",
        "colab_type": "text"
      },
      "source": [
        "<a href=\"https://colab.research.google.com/github/mjalalimanesh/statistical-learning-ISLR-python/blob/master/lab6.ipynb\" target=\"_parent\"><img src=\"https://colab.research.google.com/assets/colab-badge.svg\" alt=\"Open In Colab\"/></a>"
      ]
    },
    {
      "cell_type": "markdown",
      "metadata": {
        "id": "kMWhrJ3mnFNL"
      },
      "source": [
        "My [ISLR Notebooks](https://github.com/mjalalimanesh/statistical-learning-ISLR-python)"
      ]
    },
    {
      "cell_type": "markdown",
      "metadata": {
        "id": "F3W6FD2Skz-L"
      },
      "source": [
        "# 6.5 Lab 1 : Subset Selection Methods"
      ]
    },
    {
      "cell_type": "code",
      "metadata": {
        "id": "Y9-0FrqZUFhr",
        "outputId": "68444bbd-677c-43ff-9623-9ccdc906e731",
        "colab": {
          "base_uri": "https://localhost:8080/"
        }
      },
      "source": [
        "import numpy as np\n",
        "import pandas as pd\n",
        "\n",
        "import matplotlib.pyplot as plt\n",
        "\n",
        "from itertools import chain, combinations\n",
        "import statsmodels.api as sm\n",
        "\n",
        "pd.set_option('precision', 2) # number precision for pandas\n",
        "pd.set_option('display.max_rows', 12)\n",
        "pd.set_option('display.max_columns', 12)\n",
        "\n",
        "plt.style.use('seaborn') # pretty matplotlib plots"
      ],
      "execution_count": 1,
      "outputs": [
        {
          "output_type": "stream",
          "text": [
            "/usr/local/lib/python3.6/dist-packages/statsmodels/tools/_testing.py:19: FutureWarning: pandas.util.testing is deprecated. Use the functions in the public API at pandas.testing instead.\n",
            "  import pandas.util.testing as tm\n"
          ],
          "name": "stderr"
        }
      ]
    },
    {
      "cell_type": "code",
      "metadata": {
        "id": "2q0vBLfid_Qr",
        "outputId": "bfdc4088-12cf-4aa4-c00f-c261556c62b2",
        "colab": {
          "base_uri": "https://localhost:8080/",
          "height": 256
        }
      },
      "source": [
        "hitters = pd.read_csv('https://raw.githubusercontent.com/mjalalimanesh/statistical-learning-ISLR-python/master/datasets/Hitters.csv', index_col=0).dropna()\n",
        "hitters.index.name = 'Player'\n",
        "\n",
        "hitters = hitters.iloc[:, [0,1,2,3,4,5,6,7,8,9,10,11,12,13,14,15,16,17,19,18]] # push salary at the end\n",
        "hitters['League'] = pd.get_dummies(hitters['League']).iloc[:, 0]\n",
        "hitters['Division'] = pd.get_dummies(hitters['Division']).iloc[:, 0]\n",
        "hitters['NewLeague'] = pd.get_dummies(hitters['NewLeague']).iloc[:, 0]\n",
        "\n",
        "\n",
        "X = hitters.iloc[:, 0:19]\n",
        "y = hitters.iloc[:, 19]\n",
        "\n",
        "hitters.head()"
      ],
      "execution_count": 4,
      "outputs": [
        {
          "output_type": "execute_result",
          "data": {
            "text/html": [
              "<div>\n",
              "<style scoped>\n",
              "    .dataframe tbody tr th:only-of-type {\n",
              "        vertical-align: middle;\n",
              "    }\n",
              "\n",
              "    .dataframe tbody tr th {\n",
              "        vertical-align: top;\n",
              "    }\n",
              "\n",
              "    .dataframe thead th {\n",
              "        text-align: right;\n",
              "    }\n",
              "</style>\n",
              "<table border=\"1\" class=\"dataframe\">\n",
              "  <thead>\n",
              "    <tr style=\"text-align: right;\">\n",
              "      <th></th>\n",
              "      <th>AtBat</th>\n",
              "      <th>Hits</th>\n",
              "      <th>HmRun</th>\n",
              "      <th>Runs</th>\n",
              "      <th>RBI</th>\n",
              "      <th>Walks</th>\n",
              "      <th>...</th>\n",
              "      <th>Division</th>\n",
              "      <th>PutOuts</th>\n",
              "      <th>Assists</th>\n",
              "      <th>Errors</th>\n",
              "      <th>NewLeague</th>\n",
              "      <th>Salary</th>\n",
              "    </tr>\n",
              "    <tr>\n",
              "      <th>Player</th>\n",
              "      <th></th>\n",
              "      <th></th>\n",
              "      <th></th>\n",
              "      <th></th>\n",
              "      <th></th>\n",
              "      <th></th>\n",
              "      <th></th>\n",
              "      <th></th>\n",
              "      <th></th>\n",
              "      <th></th>\n",
              "      <th></th>\n",
              "      <th></th>\n",
              "      <th></th>\n",
              "    </tr>\n",
              "  </thead>\n",
              "  <tbody>\n",
              "    <tr>\n",
              "      <th>-Alan Ashby</th>\n",
              "      <td>315</td>\n",
              "      <td>81</td>\n",
              "      <td>7</td>\n",
              "      <td>24</td>\n",
              "      <td>38</td>\n",
              "      <td>39</td>\n",
              "      <td>...</td>\n",
              "      <td>0</td>\n",
              "      <td>632</td>\n",
              "      <td>43</td>\n",
              "      <td>10</td>\n",
              "      <td>0</td>\n",
              "      <td>475.0</td>\n",
              "    </tr>\n",
              "    <tr>\n",
              "      <th>-Alvin Davis</th>\n",
              "      <td>479</td>\n",
              "      <td>130</td>\n",
              "      <td>18</td>\n",
              "      <td>66</td>\n",
              "      <td>72</td>\n",
              "      <td>76</td>\n",
              "      <td>...</td>\n",
              "      <td>0</td>\n",
              "      <td>880</td>\n",
              "      <td>82</td>\n",
              "      <td>14</td>\n",
              "      <td>1</td>\n",
              "      <td>480.0</td>\n",
              "    </tr>\n",
              "    <tr>\n",
              "      <th>-Andre Dawson</th>\n",
              "      <td>496</td>\n",
              "      <td>141</td>\n",
              "      <td>20</td>\n",
              "      <td>65</td>\n",
              "      <td>78</td>\n",
              "      <td>37</td>\n",
              "      <td>...</td>\n",
              "      <td>1</td>\n",
              "      <td>200</td>\n",
              "      <td>11</td>\n",
              "      <td>3</td>\n",
              "      <td>0</td>\n",
              "      <td>500.0</td>\n",
              "    </tr>\n",
              "    <tr>\n",
              "      <th>-Andres Galarraga</th>\n",
              "      <td>321</td>\n",
              "      <td>87</td>\n",
              "      <td>10</td>\n",
              "      <td>39</td>\n",
              "      <td>42</td>\n",
              "      <td>30</td>\n",
              "      <td>...</td>\n",
              "      <td>1</td>\n",
              "      <td>805</td>\n",
              "      <td>40</td>\n",
              "      <td>4</td>\n",
              "      <td>0</td>\n",
              "      <td>91.5</td>\n",
              "    </tr>\n",
              "    <tr>\n",
              "      <th>-Alfredo Griffin</th>\n",
              "      <td>594</td>\n",
              "      <td>169</td>\n",
              "      <td>4</td>\n",
              "      <td>74</td>\n",
              "      <td>51</td>\n",
              "      <td>35</td>\n",
              "      <td>...</td>\n",
              "      <td>0</td>\n",
              "      <td>282</td>\n",
              "      <td>421</td>\n",
              "      <td>25</td>\n",
              "      <td>1</td>\n",
              "      <td>750.0</td>\n",
              "    </tr>\n",
              "  </tbody>\n",
              "</table>\n",
              "<p>5 rows × 20 columns</p>\n",
              "</div>"
            ],
            "text/plain": [
              "                   AtBat  Hits  HmRun  Runs  RBI  Walks  ...  Division  \\\n",
              "Player                                                   ...             \n",
              "-Alan Ashby          315    81      7    24   38     39  ...         0   \n",
              "-Alvin Davis         479   130     18    66   72     76  ...         0   \n",
              "-Andre Dawson        496   141     20    65   78     37  ...         1   \n",
              "-Andres Galarraga    321    87     10    39   42     30  ...         1   \n",
              "-Alfredo Griffin     594   169      4    74   51     35  ...         0   \n",
              "\n",
              "                   PutOuts  Assists  Errors  NewLeague  Salary  \n",
              "Player                                                          \n",
              "-Alan Ashby            632       43      10          0   475.0  \n",
              "-Alvin Davis           880       82      14          1   480.0  \n",
              "-Andre Dawson          200       11       3          0   500.0  \n",
              "-Andres Galarraga      805       40       4          0    91.5  \n",
              "-Alfredo Griffin       282      421      25          1   750.0  \n",
              "\n",
              "[5 rows x 20 columns]"
            ]
          },
          "metadata": {
            "tags": []
          },
          "execution_count": 4
        }
      ]
    },
    {
      "cell_type": "markdown",
      "metadata": {
        "id": "rf7bVwFWk7TK"
      },
      "source": [
        "## 6.5.1 Best Subset Selection"
      ]
    },
    {
      "cell_type": "code",
      "metadata": {
        "id": "RaDxJJIRfTHX"
      },
      "source": [
        "# adapted from: \n",
        "# https://songhuiming.github.io/pages/2016/07/12/variable-selection-in-python/\n",
        "# and:\n",
        "# http://www.science.smith.edu/~jcrouser/SDS293/labs/\n",
        "# takes a f**in' long time\n",
        "\n",
        "\n",
        "sub = []\n",
        "reg = []\n",
        "kft = []\n",
        "\n",
        "n_features = X.shape[1]\n",
        "\n",
        "for k_features in range(1, 20):\n",
        "    subsets = chain(combinations(range(n_features), k_features))\n",
        "\n",
        "    best_score = np.inf\n",
        "\n",
        "    for subset in subsets:\n",
        "        lin_reg = sm.OLS(y, sm.add_constant(X.iloc[:, list(subset)])).fit()\n",
        "        score = lin_reg.ssr\n",
        "        if score < best_score:\n",
        "            best_score, best_subset = score, list(subset)\n",
        "            best_reg = lin_reg\n",
        "\n",
        "    sub.append(best_subset)\n",
        "    reg.append(best_reg)\n",
        "    kft.append(k_features)\n",
        "\n",
        "results = pd.DataFrame({'kft': kft, 'sub': sub, 'reg': reg},\n",
        "                       columns = ['sub', 'reg', 'kft']).set_index('kft')"
      ],
      "execution_count": null,
      "outputs": []
    },
    {
      "cell_type": "code",
      "metadata": {
        "colab": {
          "base_uri": "https://localhost:8080/",
          "height": 436
        },
        "id": "u0E_mUv7ggyx",
        "outputId": "7653d6ed-fb14-472b-d43c-b89009be9926"
      },
      "source": [
        "results"
      ],
      "execution_count": null,
      "outputs": [
        {
          "output_type": "execute_result",
          "data": {
            "text/html": [
              "<div>\n",
              "<style scoped>\n",
              "    .dataframe tbody tr th:only-of-type {\n",
              "        vertical-align: middle;\n",
              "    }\n",
              "\n",
              "    .dataframe tbody tr th {\n",
              "        vertical-align: top;\n",
              "    }\n",
              "\n",
              "    .dataframe thead th {\n",
              "        text-align: right;\n",
              "    }\n",
              "</style>\n",
              "<table border=\"1\" class=\"dataframe\">\n",
              "  <thead>\n",
              "    <tr style=\"text-align: right;\">\n",
              "      <th></th>\n",
              "      <th>sub</th>\n",
              "      <th>reg</th>\n",
              "    </tr>\n",
              "    <tr>\n",
              "      <th>kft</th>\n",
              "      <th></th>\n",
              "      <th></th>\n",
              "    </tr>\n",
              "  </thead>\n",
              "  <tbody>\n",
              "    <tr>\n",
              "      <th>1</th>\n",
              "      <td>[11]</td>\n",
              "      <td>&lt;statsmodels.regression.linear_model.Regressio...</td>\n",
              "    </tr>\n",
              "    <tr>\n",
              "      <th>2</th>\n",
              "      <td>[1, 11]</td>\n",
              "      <td>&lt;statsmodels.regression.linear_model.Regressio...</td>\n",
              "    </tr>\n",
              "    <tr>\n",
              "      <th>3</th>\n",
              "      <td>[1, 11, 15]</td>\n",
              "      <td>&lt;statsmodels.regression.linear_model.Regressio...</td>\n",
              "    </tr>\n",
              "    <tr>\n",
              "      <th>4</th>\n",
              "      <td>[1, 11, 14, 15]</td>\n",
              "      <td>&lt;statsmodels.regression.linear_model.Regressio...</td>\n",
              "    </tr>\n",
              "    <tr>\n",
              "      <th>5</th>\n",
              "      <td>[0, 1, 11, 14, 15]</td>\n",
              "      <td>&lt;statsmodels.regression.linear_model.Regressio...</td>\n",
              "    </tr>\n",
              "    <tr>\n",
              "      <th>...</th>\n",
              "      <td>...</td>\n",
              "      <td>...</td>\n",
              "    </tr>\n",
              "    <tr>\n",
              "      <th>15</th>\n",
              "      <td>[0, 1, 2, 3, 5, 7, 8, 10, 11, 12, 13, 14, 15, ...</td>\n",
              "      <td>&lt;statsmodels.regression.linear_model.Regressio...</td>\n",
              "    </tr>\n",
              "    <tr>\n",
              "      <th>16</th>\n",
              "      <td>[0, 1, 2, 3, 4, 5, 7, 8, 10, 11, 12, 13, 14, 1...</td>\n",
              "      <td>&lt;statsmodels.regression.linear_model.Regressio...</td>\n",
              "    </tr>\n",
              "    <tr>\n",
              "      <th>17</th>\n",
              "      <td>[0, 1, 2, 3, 4, 5, 7, 8, 10, 11, 12, 13, 14, 1...</td>\n",
              "      <td>&lt;statsmodels.regression.linear_model.Regressio...</td>\n",
              "    </tr>\n",
              "    <tr>\n",
              "      <th>18</th>\n",
              "      <td>[0, 1, 2, 3, 4, 5, 6, 7, 8, 10, 11, 12, 13, 14...</td>\n",
              "      <td>&lt;statsmodels.regression.linear_model.Regressio...</td>\n",
              "    </tr>\n",
              "    <tr>\n",
              "      <th>19</th>\n",
              "      <td>[0, 1, 2, 3, 4, 5, 6, 7, 8, 9, 10, 11, 12, 13,...</td>\n",
              "      <td>&lt;statsmodels.regression.linear_model.Regressio...</td>\n",
              "    </tr>\n",
              "  </tbody>\n",
              "</table>\n",
              "<p>19 rows × 2 columns</p>\n",
              "</div>"
            ],
            "text/plain": [
              "                                                   sub  \\\n",
              "kft                                                      \n",
              "1                                                 [11]   \n",
              "2                                              [1, 11]   \n",
              "3                                          [1, 11, 15]   \n",
              "4                                      [1, 11, 14, 15]   \n",
              "5                                   [0, 1, 11, 14, 15]   \n",
              "..                                                 ...   \n",
              "15   [0, 1, 2, 3, 5, 7, 8, 10, 11, 12, 13, 14, 15, ...   \n",
              "16   [0, 1, 2, 3, 4, 5, 7, 8, 10, 11, 12, 13, 14, 1...   \n",
              "17   [0, 1, 2, 3, 4, 5, 7, 8, 10, 11, 12, 13, 14, 1...   \n",
              "18   [0, 1, 2, 3, 4, 5, 6, 7, 8, 10, 11, 12, 13, 14...   \n",
              "19   [0, 1, 2, 3, 4, 5, 6, 7, 8, 9, 10, 11, 12, 13,...   \n",
              "\n",
              "                                                   reg  \n",
              "kft                                                     \n",
              "1    <statsmodels.regression.linear_model.Regressio...  \n",
              "2    <statsmodels.regression.linear_model.Regressio...  \n",
              "3    <statsmodels.regression.linear_model.Regressio...  \n",
              "4    <statsmodels.regression.linear_model.Regressio...  \n",
              "5    <statsmodels.regression.linear_model.Regressio...  \n",
              "..                                                 ...  \n",
              "15   <statsmodels.regression.linear_model.Regressio...  \n",
              "16   <statsmodels.regression.linear_model.Regressio...  \n",
              "17   <statsmodels.regression.linear_model.Regressio...  \n",
              "18   <statsmodels.regression.linear_model.Regressio...  \n",
              "19   <statsmodels.regression.linear_model.Regressio...  \n",
              "\n",
              "[19 rows x 2 columns]"
            ]
          },
          "metadata": {
            "tags": []
          },
          "execution_count": 6
        }
      ]
    },
    {
      "cell_type": "code",
      "metadata": {
        "colab": {
          "base_uri": "https://localhost:8080/",
          "height": 436
        },
        "id": "kj95UQs_p4TQ",
        "outputId": "bde8e9ac-9c5d-4f51-a910-1966fe578341"
      },
      "source": [
        "from operator import attrgetter\n",
        "\n",
        "results['rss'] = results['reg'].apply(attrgetter('ssr'))\n",
        "results['AIC'] = results['reg'].apply(attrgetter('aic'))\n",
        "results['BIC'] = results['reg'].apply(attrgetter('bic'))\n",
        "results['AdjR2'] = results['reg'].apply(attrgetter('rsquared_adj'))\n",
        "\n",
        "results"
      ],
      "execution_count": null,
      "outputs": [
        {
          "output_type": "execute_result",
          "data": {
            "text/html": [
              "<div>\n",
              "<style scoped>\n",
              "    .dataframe tbody tr th:only-of-type {\n",
              "        vertical-align: middle;\n",
              "    }\n",
              "\n",
              "    .dataframe tbody tr th {\n",
              "        vertical-align: top;\n",
              "    }\n",
              "\n",
              "    .dataframe thead th {\n",
              "        text-align: right;\n",
              "    }\n",
              "</style>\n",
              "<table border=\"1\" class=\"dataframe\">\n",
              "  <thead>\n",
              "    <tr style=\"text-align: right;\">\n",
              "      <th></th>\n",
              "      <th>sub</th>\n",
              "      <th>reg</th>\n",
              "      <th>rss</th>\n",
              "      <th>AIC</th>\n",
              "      <th>BIC</th>\n",
              "      <th>AdjR2</th>\n",
              "    </tr>\n",
              "    <tr>\n",
              "      <th>kft</th>\n",
              "      <th></th>\n",
              "      <th></th>\n",
              "      <th></th>\n",
              "      <th></th>\n",
              "      <th></th>\n",
              "      <th></th>\n",
              "    </tr>\n",
              "  </thead>\n",
              "  <tbody>\n",
              "    <tr>\n",
              "      <th>1</th>\n",
              "      <td>[11]</td>\n",
              "      <td>&lt;statsmodels.regression.linear_model.Regressio...</td>\n",
              "      <td>3.62e+07</td>\n",
              "      <td>3862.14</td>\n",
              "      <td>3869.28</td>\n",
              "      <td>0.32</td>\n",
              "    </tr>\n",
              "    <tr>\n",
              "      <th>2</th>\n",
              "      <td>[1, 11]</td>\n",
              "      <td>&lt;statsmodels.regression.linear_model.Regressio...</td>\n",
              "      <td>3.06e+07</td>\n",
              "      <td>3820.49</td>\n",
              "      <td>3831.20</td>\n",
              "      <td>0.42</td>\n",
              "    </tr>\n",
              "    <tr>\n",
              "      <th>3</th>\n",
              "      <td>[1, 11, 15]</td>\n",
              "      <td>&lt;statsmodels.regression.linear_model.Regressio...</td>\n",
              "      <td>2.92e+07</td>\n",
              "      <td>3810.21</td>\n",
              "      <td>3824.50</td>\n",
              "      <td>0.45</td>\n",
              "    </tr>\n",
              "    <tr>\n",
              "      <th>4</th>\n",
              "      <td>[1, 11, 14, 15]</td>\n",
              "      <td>&lt;statsmodels.regression.linear_model.Regressio...</td>\n",
              "      <td>2.80e+07</td>\n",
              "      <td>3800.46</td>\n",
              "      <td>3818.32</td>\n",
              "      <td>0.47</td>\n",
              "    </tr>\n",
              "    <tr>\n",
              "      <th>5</th>\n",
              "      <td>[0, 1, 11, 14, 15]</td>\n",
              "      <td>&lt;statsmodels.regression.linear_model.Regressio...</td>\n",
              "      <td>2.71e+07</td>\n",
              "      <td>3794.63</td>\n",
              "      <td>3816.06</td>\n",
              "      <td>0.48</td>\n",
              "    </tr>\n",
              "    <tr>\n",
              "      <th>...</th>\n",
              "      <td>...</td>\n",
              "      <td>...</td>\n",
              "      <td>...</td>\n",
              "      <td>...</td>\n",
              "      <td>...</td>\n",
              "      <td>...</td>\n",
              "    </tr>\n",
              "    <tr>\n",
              "      <th>15</th>\n",
              "      <td>[0, 1, 2, 3, 5, 7, 8, 10, 11, 12, 13, 14, 15, ...</td>\n",
              "      <td>&lt;statsmodels.regression.linear_model.Regressio...</td>\n",
              "      <td>2.42e+07</td>\n",
              "      <td>3784.76</td>\n",
              "      <td>3841.91</td>\n",
              "      <td>0.52</td>\n",
              "    </tr>\n",
              "    <tr>\n",
              "      <th>16</th>\n",
              "      <td>[0, 1, 2, 3, 4, 5, 7, 8, 10, 11, 12, 13, 14, 1...</td>\n",
              "      <td>&lt;statsmodels.regression.linear_model.Regressio...</td>\n",
              "      <td>2.42e+07</td>\n",
              "      <td>3786.59</td>\n",
              "      <td>3847.31</td>\n",
              "      <td>0.52</td>\n",
              "    </tr>\n",
              "    <tr>\n",
              "      <th>17</th>\n",
              "      <td>[0, 1, 2, 3, 4, 5, 7, 8, 10, 11, 12, 13, 14, 1...</td>\n",
              "      <td>&lt;statsmodels.regression.linear_model.Regressio...</td>\n",
              "      <td>2.42e+07</td>\n",
              "      <td>3788.48</td>\n",
              "      <td>3852.78</td>\n",
              "      <td>0.51</td>\n",
              "    </tr>\n",
              "    <tr>\n",
              "      <th>18</th>\n",
              "      <td>[0, 1, 2, 3, 4, 5, 6, 7, 8, 10, 11, 12, 13, 14...</td>\n",
              "      <td>&lt;statsmodels.regression.linear_model.Regressio...</td>\n",
              "      <td>2.42e+07</td>\n",
              "      <td>3790.40</td>\n",
              "      <td>3858.27</td>\n",
              "      <td>0.51</td>\n",
              "    </tr>\n",
              "    <tr>\n",
              "      <th>19</th>\n",
              "      <td>[0, 1, 2, 3, 4, 5, 6, 7, 8, 9, 10, 11, 12, 13,...</td>\n",
              "      <td>&lt;statsmodels.regression.linear_model.Regressio...</td>\n",
              "      <td>2.42e+07</td>\n",
              "      <td>3792.38</td>\n",
              "      <td>3863.83</td>\n",
              "      <td>0.51</td>\n",
              "    </tr>\n",
              "  </tbody>\n",
              "</table>\n",
              "<p>19 rows × 6 columns</p>\n",
              "</div>"
            ],
            "text/plain": [
              "                                                   sub  \\\n",
              "kft                                                      \n",
              "1                                                 [11]   \n",
              "2                                              [1, 11]   \n",
              "3                                          [1, 11, 15]   \n",
              "4                                      [1, 11, 14, 15]   \n",
              "5                                   [0, 1, 11, 14, 15]   \n",
              "..                                                 ...   \n",
              "15   [0, 1, 2, 3, 5, 7, 8, 10, 11, 12, 13, 14, 15, ...   \n",
              "16   [0, 1, 2, 3, 4, 5, 7, 8, 10, 11, 12, 13, 14, 1...   \n",
              "17   [0, 1, 2, 3, 4, 5, 7, 8, 10, 11, 12, 13, 14, 1...   \n",
              "18   [0, 1, 2, 3, 4, 5, 6, 7, 8, 10, 11, 12, 13, 14...   \n",
              "19   [0, 1, 2, 3, 4, 5, 6, 7, 8, 9, 10, 11, 12, 13,...   \n",
              "\n",
              "                                                   reg       rss      AIC  \\\n",
              "kft                                                                         \n",
              "1    <statsmodels.regression.linear_model.Regressio...  3.62e+07  3862.14   \n",
              "2    <statsmodels.regression.linear_model.Regressio...  3.06e+07  3820.49   \n",
              "3    <statsmodels.regression.linear_model.Regressio...  2.92e+07  3810.21   \n",
              "4    <statsmodels.regression.linear_model.Regressio...  2.80e+07  3800.46   \n",
              "5    <statsmodels.regression.linear_model.Regressio...  2.71e+07  3794.63   \n",
              "..                                                 ...       ...      ...   \n",
              "15   <statsmodels.regression.linear_model.Regressio...  2.42e+07  3784.76   \n",
              "16   <statsmodels.regression.linear_model.Regressio...  2.42e+07  3786.59   \n",
              "17   <statsmodels.regression.linear_model.Regressio...  2.42e+07  3788.48   \n",
              "18   <statsmodels.regression.linear_model.Regressio...  2.42e+07  3790.40   \n",
              "19   <statsmodels.regression.linear_model.Regressio...  2.42e+07  3792.38   \n",
              "\n",
              "         BIC  AdjR2  \n",
              "kft                  \n",
              "1    3869.28   0.32  \n",
              "2    3831.20   0.42  \n",
              "3    3824.50   0.45  \n",
              "4    3818.32   0.47  \n",
              "5    3816.06   0.48  \n",
              "..       ...    ...  \n",
              "15   3841.91   0.52  \n",
              "16   3847.31   0.52  \n",
              "17   3852.78   0.51  \n",
              "18   3858.27   0.51  \n",
              "19   3863.83   0.51  \n",
              "\n",
              "[19 rows x 6 columns]"
            ]
          },
          "metadata": {
            "tags": []
          },
          "execution_count": 15
        }
      ]
    },
    {
      "cell_type": "code",
      "metadata": {
        "colab": {
          "base_uri": "https://localhost:8080/",
          "height": 734
        },
        "id": "dDGgHqkUqghG",
        "outputId": "878cca87-0d56-4289-cfdc-51bfc34f53b9"
      },
      "source": [
        "plt.figure(figsize=(16,12))\n",
        "\n",
        "plt.subplot(2, 2, 1)\n",
        "results.rss.plot(title='RSS', lw=1, color='blue')\n",
        "\n",
        "plt.subplot(2, 2, 2)\n",
        "max_r2a = results.AdjR2.argmax()\n",
        "results.AdjR2.plot(title='Adj. $R^2$', markevery=[max_r2a], marker='D', lw=1, color='red')\n",
        "\n",
        "plt.subplot(2, 2, 3)\n",
        "min_aic = results.AIC.argmin()\n",
        "results.AIC.plot(title='AIC', markevery=[min_aic], marker='D', lw=1, color='green')\n",
        "\n",
        "plt.subplot(2, 2, 4)\n",
        "min_bic = results.BIC.argmin()\n",
        "results.BIC.plot(title='BIC', markevery=[min_bic], marker='D', lw=1, color='purple');"
      ],
      "execution_count": null,
      "outputs": [
        {
          "output_type": "display_data",
          "data": {
            "image/png": "[encoded data removed]",
            "text/plain": [
              "<Figure size 1152x864 with 4 Axes>"
            ]
          },
          "metadata": {
            "tags": []
          }
        }
      ]
    },
    {
      "cell_type": "markdown",
      "metadata": {
        "id": "uruiAGhOlEvO"
      },
      "source": [
        "## 6.5.2 Forward and Backward Stepwise Selection"
      ]
    },
    {
      "cell_type": "code",
      "metadata": {
        "id": "Q6lhPDtVlJv1"
      },
      "source": [
        "def processSubset(feature_set):\n",
        "    # Fit model on feature_set and calculate RSS\n",
        "    model = sm.OLS(y,X[list(feature_set)])\n",
        "    regr = model.fit()\n",
        "    RSS = regr.ssr\n",
        "    return {'model': regr, 'RSS': RSS}"
      ],
      "execution_count": 5,
      "outputs": []
    },
    {
      "cell_type": "code",
      "metadata": {
        "id": "Q7RV_t2_nlg5"
      },
      "source": [
        "def forward(predictors):\n",
        "\n",
        "    # Pull out predictors we still need to process\n",
        "    remaining_predictors = [p for p in X.columns if p not in predictors]\n",
        "      \n",
        "    results = []\n",
        "    \n",
        "    for p in remaining_predictors:\n",
        "        results.append(processSubset(predictors+[p]))\n",
        "    \n",
        "    # Wrap everything up in a nice dataframe\n",
        "    models = pd.DataFrame(results)\n",
        "    \n",
        "    # Choose the model with the highest RSS\n",
        "    best_model = models.loc[models['RSS'].argmin()]\n",
        "    \n",
        "    # Return the best model, along with some other useful information about the model\n",
        "    return best_model\n",
        "\n",
        "def backward(predictors):\n",
        "    \n",
        "    results = []\n",
        "    \n",
        "    for combo in combinations(predictors, len(predictors)-1):\n",
        "        results.append(processSubset(combo))\n",
        "    \n",
        "    # Wrap everything up in a nice dataframe\n",
        "    models = pd.DataFrame(results)\n",
        "    \n",
        "    # Choose the model with the highest RSS\n",
        "    best_model = models.loc[models['RSS'].argmin()]\n",
        "\n",
        "    return best_model"
      ],
      "execution_count": 6,
      "outputs": []
    },
    {
      "cell_type": "markdown",
      "metadata": {
        "id": "0q9vk_2Dnrbn"
      },
      "source": [
        "#### Forward Selection"
      ]
    },
    {
      "cell_type": "code",
      "metadata": {
        "id": "jtKt6gDjnuVg",
        "outputId": "754cc9d7-0fc6-440f-ecb0-dc0f32c29b2c",
        "colab": {
          "base_uri": "https://localhost:8080/"
        }
      },
      "source": [
        "models2 = pd.DataFrame(columns=['RSS', 'model'])\n",
        "\n",
        "predictors = []\n",
        "\n",
        "for i in range(1,len(X.columns)+1):    \n",
        "    models2.loc[i] = forward(predictors)\n",
        "    predictors = models2.loc[i]['model'].model.exog_names\n",
        "\n",
        "bic_f = []\n",
        "\n",
        "for m in models2.model:\n",
        "    bic_f.append(m.bic)\n",
        "    \n",
        "min_bic_ind = np.array(bic_f).argmin()\n",
        "print(min_bic_ind)\n",
        "models2.loc[min_bic_ind]['model'].model.exog_names"
      ],
      "execution_count": 15,
      "outputs": [
        {
          "output_type": "stream",
          "text": [
            "5\n"
          ],
          "name": "stdout"
        },
        {
          "output_type": "execute_result",
          "data": {
            "text/plain": [
              "['Hits', 'CRBI', 'PutOuts', 'AtBat', 'Division']"
            ]
          },
          "metadata": {
            "tags": []
          },
          "execution_count": 15
        }
      ]
    },
    {
      "cell_type": "markdown",
      "metadata": {
        "id": "YBLTKtC2nvbl"
      },
      "source": [
        "#### Backward Selection"
      ]
    },
    {
      "cell_type": "code",
      "metadata": {
        "id": "7rBJ-2lenyZS",
        "outputId": "21ed02d4-1033-4f9b-84d5-037b27ab49c1",
        "colab": {
          "base_uri": "https://localhost:8080/"
        }
      },
      "source": [
        "models3 = pd.DataFrame(columns=['RSS', 'model'], index = range(1, len(X.columns)))\n",
        "\n",
        "predictors = X.columns\n",
        "\n",
        "while(len(predictors) > 1):  \n",
        "    models3.loc[len(predictors)-1] = backward(predictors)\n",
        "    predictors = models3.loc[len(predictors)-1]['model'].model.exog_names\n",
        "    \n",
        "bic_b = []\n",
        "\n",
        "for m in models3.model:\n",
        "    bic_b.append(m.bic)\n",
        "    \n",
        "min_bic_ind = np.array(bic_b).argmin()\n",
        "print(min_bic_ind)\n",
        "models3.loc[min_bic_ind]['model'].model.exog_names"
      ],
      "execution_count": 16,
      "outputs": [
        {
          "output_type": "stream",
          "text": [
            "7\n"
          ],
          "name": "stdout"
        },
        {
          "output_type": "execute_result",
          "data": {
            "text/plain": [
              "['AtBat', 'Hits', 'Walks', 'CRuns', 'CWalks', 'Division', 'PutOuts']"
            ]
          },
          "metadata": {
            "tags": []
          },
          "execution_count": 16
        }
      ]
    },
    {
      "cell_type": "markdown",
      "metadata": {
        "id": "ucVchhh6s_Ve"
      },
      "source": [
        "## 6.5.3 Choosing Among Models Using the Validation Set Approach and Cross-Validation"
      ]
    },
    {
      "cell_type": "markdown",
      "metadata": {
        "id": "FQ02N97c0P9T"
      },
      "source": [
        "#### Validation Set Approach"
      ]
    },
    {
      "cell_type": "code",
      "metadata": {
        "id": "cenb2yhjrLOh"
      },
      "source": [
        "from sklearn.model_selection import train_test_split\n",
        "from sklearn.metrics import mean_squared_error\n",
        "\n",
        "X_train, X_test, y_train, y_test = train_test_split(X, y, test_size=0.5, random_state=3)"
      ],
      "execution_count": 17,
      "outputs": []
    },
    {
      "cell_type": "code",
      "metadata": {
        "id": "YPmql_2mvrcV"
      },
      "source": [
        "def processSubset(feature_set, X_train, y_train, X_test, y_test):\n",
        "    # Fit model on feature_set and calculate RSS\n",
        "    model = sm.OLS(y_train,X_train[list(feature_set)])\n",
        "    regr = model.fit()\n",
        "    RSS = ((regr.predict(X_test[list(feature_set)]) - y_test) ** 2).sum()\n",
        "    return {'model':regr, 'RSS':RSS}"
      ],
      "execution_count": 20,
      "outputs": []
    },
    {
      "cell_type": "code",
      "metadata": {
        "id": "JtDcTh-Kvtth"
      },
      "source": [
        "def forward(predictors, X_train, y_train, X_test, y_test):\n",
        "\n",
        "    # Pull out predictors we still need to process\n",
        "    remaining_predictors = [p for p in X_train.columns if p not in predictors]\n",
        "    \n",
        "    results = []\n",
        "    \n",
        "    for p in remaining_predictors:\n",
        "        results.append(processSubset(predictors+[p], X_train, y_train, X_test, y_test))\n",
        "    \n",
        "    # Wrap everything up in a nice dataframe\n",
        "    models = pd.DataFrame(results)\n",
        "    \n",
        "    # Choose the model with the lowest RSS\n",
        "    best_model = models.loc[models['RSS'].argmin()]\n",
        "    \n",
        "    # Return the best model, along with some other useful information about the model\n",
        "    return best_model"
      ],
      "execution_count": 19,
      "outputs": []
    },
    {
      "cell_type": "code",
      "metadata": {
        "id": "vRjVUcK8yR6U"
      },
      "source": [
        "models_train = pd.DataFrame(columns=['RSS', 'model'])\n",
        "\n",
        "predictors = []\n",
        "\n",
        "for i in range(1,len(X.columns)+1):    \n",
        "    models_train.loc[i] = forward(predictors, X_train, y_train, X_test, y_test)\n",
        "    predictors = models_train.loc[i]['model'].model.exog_names"
      ],
      "execution_count": 21,
      "outputs": []
    },
    {
      "cell_type": "code",
      "metadata": {
        "id": "JLPrjqx7yU20",
        "outputId": "4a93f95f-68bb-41fa-c88c-510c94c3ed8f",
        "colab": {
          "base_uri": "https://localhost:8080/",
          "height": 294
        }
      },
      "source": [
        "plt.plot(models_train['RSS'])\n",
        "plt.xlabel('# Predictors')\n",
        "plt.ylabel('RSS')\n",
        "plt.title('Test Error')\n",
        "plt.plot(models_train['RSS'].argmin(), models_train['RSS'].min(), 'or');"
      ],
      "execution_count": 27,
      "outputs": [
        {
          "output_type": "display_data",
          "data": {
            "image/png": "[encoded data removed]",
            "text/plain": [
              "<Figure size 432x288 with 1 Axes>"
            ]
          },
          "metadata": {
            "tags": [],
            "needs_background": "light"
          }
        }
      ]
    },
    {
      "cell_type": "code",
      "metadata": {
        "id": "bN0SJRnyysFI"
      },
      "source": [
        "models_full = pd.DataFrame(columns=['RSS', 'model'])\n",
        "\n",
        "predictors = []\n",
        "\n",
        "for i in range(1,20):    \n",
        "    models_full.loc[i] = forward(predictors, X, y, X, y)\n",
        "    predictors = models_full.loc[i]['model'].model.exog_names"
      ],
      "execution_count": 23,
      "outputs": []
    },
    {
      "cell_type": "code",
      "metadata": {
        "id": "I3OqDWYj2Pmv",
        "outputId": "fb7b7b4d-c64a-443f-fef4-83db865af98a",
        "colab": {
          "base_uri": "https://localhost:8080/",
          "height": 294
        }
      },
      "source": [
        "plt.plot(models_full['RSS'])\n",
        "plt.xlabel('# Predictors')\n",
        "plt.ylabel('RSS')\n",
        "plt.title('Training Error')\n",
        "plt.plot(models_full['RSS'].argmin(), models_full['RSS'].min(), 'or');"
      ],
      "execution_count": 26,
      "outputs": [
        {
          "output_type": "display_data",
          "data": {
            "image/png": "[encoded data removed]",
            "text/plain": [
              "<Figure size 432x288 with 1 Axes>"
            ]
          },
          "metadata": {
            "tags": [],
            "needs_background": "light"
          }
        }
      ]
    },
    {
      "cell_type": "code",
      "metadata": {
        "id": "ysfBAYE1ytoR",
        "outputId": "429d7fa0-e2f5-4357-f908-9b6c073b58ad",
        "colab": {
          "base_uri": "https://localhost:8080/"
        }
      },
      "source": [
        "print(sorted(models_train.loc[10, 'model'].model.exog_names))\n",
        "print(sorted(models_full.loc[10, 'model'].model.exog_names))"
      ],
      "execution_count": 24,
      "outputs": [
        {
          "output_type": "stream",
          "text": [
            "['Assists', 'AtBat', 'CRBI', 'CRuns', 'CWalks', 'Division', 'Hits', 'League', 'PutOuts', 'Runs']\n",
            "['Assists', 'AtBat', 'CAtBat', 'CRBI', 'CRuns', 'CWalks', 'Division', 'Hits', 'PutOuts', 'Walks']\n"
          ],
          "name": "stdout"
        }
      ]
    },
    {
      "cell_type": "markdown",
      "metadata": {
        "id": "_8KKPm_F1qAK"
      },
      "source": [
        "# 6.6 Lab 2 : Ridge Regression and Lasso"
      ]
    },
    {
      "cell_type": "code",
      "metadata": {
        "id": "mfYkI8cO1v8p"
      },
      "source": [
        ""
      ],
      "execution_count": null,
      "outputs": []
    }
  ]
}