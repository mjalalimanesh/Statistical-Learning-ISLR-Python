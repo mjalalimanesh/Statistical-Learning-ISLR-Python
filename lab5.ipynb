{
  "nbformat": 4,
  "nbformat_minor": 0,
  "metadata": {
    "colab": {
      "name": "lab5.ipynb",
      "provenance": [],
      "authorship_tag": "ABX9TyPuyEXw+eGaPzAWza/3vQg6",
      "include_colab_link": true
    },
    "kernelspec": {
      "name": "python3",
      "display_name": "Python 3"
    }
  },
  "cells": [
    {
      "cell_type": "markdown",
      "metadata": {
        "id": "view-in-github",
        "colab_type": "text"
      },
      "source": [
        "<a href=\"https://colab.research.google.com/github/mjalalimanesh/statistical-learning-ISLR-python/blob/master/lab5.ipynb\" target=\"_parent\"><img src=\"https://colab.research.google.com/assets/colab-badge.svg\" alt=\"Open In Colab\"/></a>"
      ]
    },
    {
      "cell_type": "markdown",
      "metadata": {
        "id": "D5uNV1r6THgF"
      },
      "source": [
        "ISLR Chapter 5\n",
        "\n",
        "# 5.3 Lab: Cross-Validation and the Bootstrap\n"
      ]
    },
    {
      "cell_type": "code",
      "metadata": {
        "id": "ZDDr4UfLFwnm"
      },
      "source": [
        "# imports and setup\n",
        "%matplotlib inline\n",
        "\n",
        "import numpy as np\n",
        "\n",
        "import seaborn as sns\n",
        "import matplotlib.pyplot as plt\n",
        "\n",
        "import pandas as pd\n",
        "\n",
        "pd.set_option('display.max_rows', 12)\n",
        "plt.style.use('seaborn') # pretty matplotlib plots"
      ],
      "execution_count": 1,
      "outputs": []
    },
    {
      "cell_type": "code",
      "metadata": {
        "colab": {
          "base_uri": "https://localhost:8080/",
          "height": 197
        },
        "id": "NrYp0FZFGFt7",
        "outputId": "0cb8acdc-41b5-4733-f06c-87da128df410"
      },
      "source": [
        "# load data\n",
        "auto = pd.read_csv('https://raw.githubusercontent.com/mjalalimanesh/statistical-learning-ISLR-python/master/datasets/Auto.csv', na_values='?')\n",
        "auto.head()"
      ],
      "execution_count": 10,
      "outputs": [
        {
          "output_type": "execute_result",
          "data": {
            "text/html": [
              "<div>\n",
              "<style scoped>\n",
              "    .dataframe tbody tr th:only-of-type {\n",
              "        vertical-align: middle;\n",
              "    }\n",
              "\n",
              "    .dataframe tbody tr th {\n",
              "        vertical-align: top;\n",
              "    }\n",
              "\n",
              "    .dataframe thead th {\n",
              "        text-align: right;\n",
              "    }\n",
              "</style>\n",
              "<table border=\"1\" class=\"dataframe\">\n",
              "  <thead>\n",
              "    <tr style=\"text-align: right;\">\n",
              "      <th></th>\n",
              "      <th>mpg</th>\n",
              "      <th>cylinders</th>\n",
              "      <th>displacement</th>\n",
              "      <th>horsepower</th>\n",
              "      <th>weight</th>\n",
              "      <th>acceleration</th>\n",
              "      <th>year</th>\n",
              "      <th>origin</th>\n",
              "      <th>name</th>\n",
              "    </tr>\n",
              "  </thead>\n",
              "  <tbody>\n",
              "    <tr>\n",
              "      <th>0</th>\n",
              "      <td>18.0</td>\n",
              "      <td>8</td>\n",
              "      <td>307.0</td>\n",
              "      <td>130.0</td>\n",
              "      <td>3504</td>\n",
              "      <td>12.0</td>\n",
              "      <td>70</td>\n",
              "      <td>1</td>\n",
              "      <td>chevrolet chevelle malibu</td>\n",
              "    </tr>\n",
              "    <tr>\n",
              "      <th>1</th>\n",
              "      <td>15.0</td>\n",
              "      <td>8</td>\n",
              "      <td>350.0</td>\n",
              "      <td>165.0</td>\n",
              "      <td>3693</td>\n",
              "      <td>11.5</td>\n",
              "      <td>70</td>\n",
              "      <td>1</td>\n",
              "      <td>buick skylark 320</td>\n",
              "    </tr>\n",
              "    <tr>\n",
              "      <th>2</th>\n",
              "      <td>18.0</td>\n",
              "      <td>8</td>\n",
              "      <td>318.0</td>\n",
              "      <td>150.0</td>\n",
              "      <td>3436</td>\n",
              "      <td>11.0</td>\n",
              "      <td>70</td>\n",
              "      <td>1</td>\n",
              "      <td>plymouth satellite</td>\n",
              "    </tr>\n",
              "    <tr>\n",
              "      <th>3</th>\n",
              "      <td>16.0</td>\n",
              "      <td>8</td>\n",
              "      <td>304.0</td>\n",
              "      <td>150.0</td>\n",
              "      <td>3433</td>\n",
              "      <td>12.0</td>\n",
              "      <td>70</td>\n",
              "      <td>1</td>\n",
              "      <td>amc rebel sst</td>\n",
              "    </tr>\n",
              "    <tr>\n",
              "      <th>4</th>\n",
              "      <td>17.0</td>\n",
              "      <td>8</td>\n",
              "      <td>302.0</td>\n",
              "      <td>140.0</td>\n",
              "      <td>3449</td>\n",
              "      <td>10.5</td>\n",
              "      <td>70</td>\n",
              "      <td>1</td>\n",
              "      <td>ford torino</td>\n",
              "    </tr>\n",
              "  </tbody>\n",
              "</table>\n",
              "</div>"
            ],
            "text/plain": [
              "    mpg  cylinders  displacement  ...  year  origin                       name\n",
              "0  18.0          8         307.0  ...    70       1  chevrolet chevelle malibu\n",
              "1  15.0          8         350.0  ...    70       1          buick skylark 320\n",
              "2  18.0          8         318.0  ...    70       1         plymouth satellite\n",
              "3  16.0          8         304.0  ...    70       1              amc rebel sst\n",
              "4  17.0          8         302.0  ...    70       1                ford torino\n",
              "\n",
              "[5 rows x 9 columns]"
            ]
          },
          "metadata": {
            "tags": []
          },
          "execution_count": 10
        }
      ]
    },
    {
      "cell_type": "code",
      "metadata": {
        "id": "SSKFnulRMfyc",
        "outputId": "f4aeb81a-171f-423c-8cae-bac14e9d64c2",
        "colab": {
          "base_uri": "https://localhost:8080/"
        }
      },
      "source": [
        "auto.dtypes"
      ],
      "execution_count": 11,
      "outputs": [
        {
          "output_type": "execute_result",
          "data": {
            "text/plain": [
              "mpg             float64\n",
              "cylinders         int64\n",
              "displacement    float64\n",
              "horsepower      float64\n",
              "weight            int64\n",
              "acceleration    float64\n",
              "year              int64\n",
              "origin            int64\n",
              "name             object\n",
              "dtype: object"
            ]
          },
          "metadata": {
            "tags": []
          },
          "execution_count": 11
        }
      ]
    },
    {
      "cell_type": "code",
      "metadata": {
        "id": "g6NW7i2kNUvW",
        "outputId": "b323cc9a-f53a-4029-c1a1-3d2ddaa560f4",
        "colab": {
          "base_uri": "https://localhost:8080/"
        }
      },
      "source": [
        "auto.horsepower.unique()"
      ],
      "execution_count": 12,
      "outputs": [
        {
          "output_type": "execute_result",
          "data": {
            "text/plain": [
              "array([130., 165., 150., 140., 198., 220., 215., 225., 190., 170., 160.,\n",
              "        95.,  97.,  85.,  88.,  46.,  87.,  90., 113., 200., 210., 193.,\n",
              "        nan, 100., 105., 175., 153., 180., 110.,  72.,  86.,  70.,  76.,\n",
              "        65.,  69.,  60.,  80.,  54., 208., 155., 112.,  92., 145., 137.,\n",
              "       158., 167.,  94., 107., 230.,  49.,  75.,  91., 122.,  67.,  83.,\n",
              "        78.,  52.,  61.,  93., 148., 129.,  96.,  71.,  98., 115.,  53.,\n",
              "        81.,  79., 120., 152., 102., 108.,  68.,  58., 149.,  89.,  63.,\n",
              "        48.,  66., 139., 103., 125., 133., 138., 135., 142.,  77.,  62.,\n",
              "       132.,  84.,  64.,  74., 116.,  82.])"
            ]
          },
          "metadata": {
            "tags": []
          },
          "execution_count": 12
        }
      ]
    },
    {
      "cell_type": "code",
      "metadata": {
        "colab": {
          "base_uri": "https://localhost:8080/"
        },
        "id": "JahuLqMzPqAq",
        "outputId": "8d89b22d-df8a-4467-82dd-a97e99def95c"
      },
      "source": [
        "auto.isnull().any()"
      ],
      "execution_count": 13,
      "outputs": [
        {
          "output_type": "execute_result",
          "data": {
            "text/plain": [
              "mpg             False\n",
              "cylinders       False\n",
              "displacement    False\n",
              "horsepower       True\n",
              "weight          False\n",
              "acceleration    False\n",
              "year            False\n",
              "origin          False\n",
              "name            False\n",
              "dtype: bool"
            ]
          },
          "metadata": {
            "tags": []
          },
          "execution_count": 13
        }
      ]
    },
    {
      "cell_type": "code",
      "metadata": {
        "id": "pW11pF2kNkx4"
      },
      "source": [
        "auto.dropna(axis=0, inplace=True)"
      ],
      "execution_count": 14,
      "outputs": []
    },
    {
      "cell_type": "code",
      "metadata": {
        "id": "0XNG-9UiPlnt"
      },
      "source": [
        "auto.cylinders = auto.cylinders.astype('category')"
      ],
      "execution_count": 15,
      "outputs": []
    },
    {
      "cell_type": "code",
      "metadata": {
        "id": "tXvLw6L3MQF1"
      },
      "source": [
        "auto['horsepower_2'] = np.power(auto.horsepower, 2)\n",
        "auto['horsepower_3'] = np.power(auto.horsepower, 3)\n",
        "auto['horsepower_4'] = np.power(auto.horsepower, 4)\n",
        "auto['horsepower_5'] = np.power(auto.horsepower, 5)"
      ],
      "execution_count": 16,
      "outputs": []
    },
    {
      "cell_type": "code",
      "metadata": {
        "id": "fXAejYRNIAjN"
      },
      "source": [
        "from sklearn.model_selection import train_test_split\n",
        "\n",
        "X, y = auto.loc[:, ['horsepower', 'horsepower_2', 'horsepower_3']], auto.mpg\n",
        "\n",
        "X_train, X_test, y_train, y_test = train_test_split(X, y, test_size=0.5, random_state=24)"
      ],
      "execution_count": 22,
      "outputs": []
    },
    {
      "cell_type": "markdown",
      "metadata": {
        "id": "jW0I9n2zTXkp"
      },
      "source": [
        "## 5.3.1 The Validation Set Approach"
      ]
    },
    {
      "cell_type": "code",
      "metadata": {
        "id": "ju8H2krqIFHZ",
        "outputId": "725a83e9-49f2-4206-8556-eaf9b34ebd6a",
        "colab": {
          "base_uri": "https://localhost:8080/"
        }
      },
      "source": [
        "from sklearn.linear_model import LinearRegression\n",
        "from sklearn.metrics import mean_squared_error\n",
        "\n",
        "# ols model with intercept\n",
        "lm1 = LinearRegression(fit_intercept=True)\n",
        "lm2 = LinearRegression(fit_intercept=True)\n",
        "lm3 = LinearRegression(fit_intercept=True)\n",
        "\n",
        "lm1_fit = lm1.fit(X_train.loc[:, ['horsepower']], y_train)\n",
        "lm2_fit = lm2.fit(X_train.loc[:, ['horsepower', 'horsepower_2']], y_train)\n",
        "lm3_fit = lm3.fit(X_train.loc[:, ['horsepower', 'horsepower_2', 'horsepower_3']], y_train)\n",
        "\n",
        "lm1_predict = lm1_fit.predict(X_test.loc[:, ['horsepower']])\n",
        "lm2_predict = lm2_fit.predict(X_test.loc[:, ['horsepower', 'horsepower_2']])\n",
        "lm3_predict = lm3_fit.predict(X_test.loc[:, ['horsepower', 'horsepower_2', 'horsepower_3']])\n",
        "\n",
        "print('lm1 MSE:', mean_squared_error(y_test, lm1_predict))\n",
        "print('lm2 MSE:', mean_squared_error(y_test, lm2_predict))\n",
        "print('lm3 MSE:', mean_squared_error(y_test, lm3_predict))"
      ],
      "execution_count": 23,
      "outputs": [
        {
          "output_type": "stream",
          "text": [
            "lm1 MSE: 26.69873513822076\n",
            "lm2 MSE: 20.945047941761047\n",
            "lm3 MSE: 20.895213535496005\n"
          ],
          "name": "stdout"
        }
      ]
    },
    {
      "cell_type": "markdown",
      "metadata": {
        "id": "mmFTHD1lTk3B"
      },
      "source": [
        "## 5.3.2 Leave-One-Out Cross-Validation"
      ]
    },
    {
      "cell_type": "code",
      "metadata": {
        "id": "MUlCVzu4Os1F",
        "outputId": "8075e7b5-72b6-4df0-a89b-b248eb7b4b61",
        "colab": {
          "base_uri": "https://localhost:8080/"
        }
      },
      "source": [
        "from sklearn.model_selection import LeaveOneOut\n",
        "\n",
        "X, y = auto.loc[:, ['horsepower', 'horsepower_2', 'horsepower_3', 'horsepower_4', 'horsepower_5']], auto.mpg\n",
        "\n",
        "loocv = LeaveOneOut()\n",
        "loocv.get_n_splits(X)"
      ],
      "execution_count": 24,
      "outputs": [
        {
          "output_type": "execute_result",
          "data": {
            "text/plain": [
              "392"
            ]
          },
          "metadata": {
            "tags": []
          },
          "execution_count": 24
        }
      ]
    },
    {
      "cell_type": "code",
      "metadata": {
        "id": "rspkLbZoQwXB",
        "outputId": "bc009a55-079a-4bd0-d4ba-a740e08b9348",
        "colab": {
          "base_uri": "https://localhost:8080/"
        }
      },
      "source": [
        "loocv_mse = []\n",
        "lm = LinearRegression(fit_intercept=True)\n",
        "\n",
        "for train_index, test_index in loocv.split(X):\n",
        "    X_train, X_test = X.iloc[train_index], X.iloc[test_index]\n",
        "    y_train, y_test = y.iloc[train_index], y.iloc[test_index]\n",
        "    \n",
        "    lm1_fit = lm.fit(X_train.loc[:, ['horsepower']], y_train)\n",
        "    lm1_predict = lm1_fit.predict(X_test.loc[:, ['horsepower']])\n",
        "    \n",
        "    loocv_mse.append(mean_squared_error(y_test, lm1_predict))\n",
        "    \n",
        "np.array(loocv_mse).mean()"
      ],
      "execution_count": 25,
      "outputs": [
        {
          "output_type": "execute_result",
          "data": {
            "text/plain": [
              "24.231513517929226"
            ]
          },
          "metadata": {
            "tags": []
          },
          "execution_count": 25
        }
      ]
    },
    {
      "cell_type": "code",
      "metadata": {
        "id": "uF0EWmCoRgHo",
        "outputId": "2407888a-53cc-4cc4-c4c8-636e3315e891",
        "colab": {
          "base_uri": "https://localhost:8080/"
        }
      },
      "source": [
        "# using sklearn cross_validation_score\n",
        "from sklearn.model_selection import cross_val_score\n",
        "\n",
        "lm = LinearRegression(fit_intercept=True)\n",
        "\n",
        "cval = cross_val_score(lm, \n",
        "                       auto.loc[:, ['horsepower']], \n",
        "                       auto.mpg, \n",
        "                       cv=len(auto), # k=n k-Fold -> LOOCV\n",
        "                       n_jobs=-1, \n",
        "                       scoring='neg_mean_squared_error')\n",
        "-cval.mean()"
      ],
      "execution_count": 29,
      "outputs": [
        {
          "output_type": "execute_result",
          "data": {
            "text/plain": [
              "24.231513517929226"
            ]
          },
          "metadata": {
            "tags": []
          },
          "execution_count": 29
        }
      ]
    },
    {
      "cell_type": "markdown",
      "metadata": {
        "id": "0Nv5WLTdT__-"
      },
      "source": [
        "## 5.3.3 k-Fold Cross-Validation "
      ]
    },
    {
      "cell_type": "code",
      "metadata": {
        "id": "QFB6uO6AUClp"
      },
      "source": [
        "from sklearn.model_selection import KFold\n",
        "\n",
        "X, y = auto.loc[:, ['horsepower', 'horsepower_2', 'horsepower_3', 'horsepower_4', 'horsepower_5']], auto.mpg\n",
        "\n",
        "kf = KFold(n_splits=10, shuffle=True, random_state=42)"
      ],
      "execution_count": 30,
      "outputs": []
    },
    {
      "cell_type": "code",
      "metadata": {
        "id": "Pw2yXCjMUX6j",
        "outputId": "d8d4bfbe-16a5-4c06-e548-92bd26921594",
        "colab": {
          "base_uri": "https://localhost:8080/"
        }
      },
      "source": [
        "# Loop for 5 degree polinomial linear regressions with k-Fold CV\n",
        "\n",
        "kf_poly = {}\n",
        "\n",
        "for i in range(1, 6):\n",
        "    \n",
        "    kf_mse = []\n",
        "    \n",
        "    for train_index, test_index in kf.split(X):\n",
        "        X_train, X_test = X.iloc[train_index], X.iloc[test_index]\n",
        "        y_train, y_test = y.iloc[train_index], y.iloc[test_index]\n",
        "        \n",
        "        if i == 1:\n",
        "            X_TRAIN = X_train.iloc[:,0:1].values.reshape(-1, 1)\n",
        "            X_TEST = X_test.iloc[:,0:1].values.reshape(-1, 1)\n",
        "        else:\n",
        "            X_TRAIN = X_train.iloc[:,0:i]\n",
        "            X_TEST = X_test.iloc[:,0:i]\n",
        "        \n",
        "        kf_mse.append(\n",
        "            mean_squared_error(\n",
        "                y_test, \n",
        "                LinearRegression(fit_intercept=True)\n",
        "                .fit(\n",
        "                    X_TRAIN, \n",
        "                    y_train\n",
        "                )\n",
        "                .predict(\n",
        "                    X_TEST\n",
        "                )\n",
        "            )\n",
        "        )\n",
        "        \n",
        "        kf_poly['lm' + str(i) + '_MSE'] = np.array(kf_mse).mean()\n",
        "\n",
        "kf_poly"
      ],
      "execution_count": 35,
      "outputs": [
        {
          "output_type": "execute_result",
          "data": {
            "text/plain": [
              "{'lm1_MSE': 24.199808197692477,\n",
              " 'lm2_MSE': 19.228636614268016,\n",
              " 'lm3_MSE': 19.26626534663179,\n",
              " 'lm4_MSE': 19.35109227292693,\n",
              " 'lm5_MSE': 19.02323339651184}"
            ]
          },
          "metadata": {
            "tags": []
          },
          "execution_count": 35
        }
      ]
    },
    {
      "cell_type": "code",
      "metadata": {
        "id": "OnuyorRdVGWZ",
        "outputId": "3ba60624-b33c-45e3-f17f-699a5a03fc3d",
        "colab": {
          "base_uri": "https://localhost:8080/"
        }
      },
      "source": [
        "# using sklearn cross_validation_score\n",
        "from sklearn.model_selection import cross_val_score\n",
        "\n",
        "lm = LinearRegression(fit_intercept=True)\n",
        "\n",
        "cval = cross_val_score(lm, \n",
        "                       X.loc[:, ['horsepower', 'horsepower_2']], \n",
        "                       y, \n",
        "                       cv=10, \n",
        "                       n_jobs=-1, \n",
        "                       scoring='neg_mean_squared_error')\n",
        "-cval.mean()"
      ],
      "execution_count": 38,
      "outputs": [
        {
          "output_type": "execute_result",
          "data": {
            "text/plain": [
              "21.235840055802225"
            ]
          },
          "metadata": {
            "tags": []
          },
          "execution_count": 38
        }
      ]
    },
    {
      "cell_type": "markdown",
      "metadata": {
        "id": "33YKqH4nYJqf"
      },
      "source": [
        "## 5.3.4 The Bootstrap"
      ]
    },
    {
      "cell_type": "code",
      "metadata": {
        "id": "i0vWvaCZVz-z",
        "outputId": "dfcd4e6b-a66e-477f-f01b-b84ac64ec278",
        "colab": {
          "base_uri": "https://localhost:8080/",
          "height": 197
        }
      },
      "source": [
        "portfolio = pd.read_csv('https://raw.githubusercontent.com/mjalalimanesh/statistical-learning-ISLR-python/master/datasets/Portfolio.csv', index_col=0)\n",
        "portfolio.head()"
      ],
      "execution_count": 40,
      "outputs": [
        {
          "output_type": "execute_result",
          "data": {
            "text/html": [
              "<div>\n",
              "<style scoped>\n",
              "    .dataframe tbody tr th:only-of-type {\n",
              "        vertical-align: middle;\n",
              "    }\n",
              "\n",
              "    .dataframe tbody tr th {\n",
              "        vertical-align: top;\n",
              "    }\n",
              "\n",
              "    .dataframe thead th {\n",
              "        text-align: right;\n",
              "    }\n",
              "</style>\n",
              "<table border=\"1\" class=\"dataframe\">\n",
              "  <thead>\n",
              "    <tr style=\"text-align: right;\">\n",
              "      <th></th>\n",
              "      <th>X</th>\n",
              "      <th>Y</th>\n",
              "    </tr>\n",
              "  </thead>\n",
              "  <tbody>\n",
              "    <tr>\n",
              "      <th>1</th>\n",
              "      <td>-0.895251</td>\n",
              "      <td>-0.234924</td>\n",
              "    </tr>\n",
              "    <tr>\n",
              "      <th>2</th>\n",
              "      <td>-1.562454</td>\n",
              "      <td>-0.885176</td>\n",
              "    </tr>\n",
              "    <tr>\n",
              "      <th>3</th>\n",
              "      <td>-0.417090</td>\n",
              "      <td>0.271888</td>\n",
              "    </tr>\n",
              "    <tr>\n",
              "      <th>4</th>\n",
              "      <td>1.044356</td>\n",
              "      <td>-0.734198</td>\n",
              "    </tr>\n",
              "    <tr>\n",
              "      <th>5</th>\n",
              "      <td>-0.315568</td>\n",
              "      <td>0.841983</td>\n",
              "    </tr>\n",
              "  </tbody>\n",
              "</table>\n",
              "</div>"
            ],
            "text/plain": [
              "          X         Y\n",
              "1 -0.895251 -0.234924\n",
              "2 -1.562454 -0.885176\n",
              "3 -0.417090  0.271888\n",
              "4  1.044356 -0.734198\n",
              "5 -0.315568  0.841983"
            ]
          },
          "metadata": {
            "tags": []
          },
          "execution_count": 40
        }
      ]
    },
    {
      "cell_type": "code",
      "metadata": {
        "id": "DT0zp84GbKO8"
      },
      "source": [
        "def alpha_fn(data, start_index, end_index):\n",
        "    X = data['X'][start_index:end_index]\n",
        "    Y = data['Y'][start_index:end_index]\n",
        "    return ((np.var(Y) - np.cov(X, Y)[0][1]) / (np.var(X) + np.var(Y) - 2 * np.cov(X, Y)[0][1]))"
      ],
      "execution_count": 42,
      "outputs": []
    },
    {
      "cell_type": "code",
      "metadata": {
        "id": "IrAN8ZVVbcP8",
        "outputId": "1f0d4671-a9e5-456f-fd13-f02896acb2ff",
        "colab": {
          "base_uri": "https://localhost:8080/"
        }
      },
      "source": [
        "alpha_fn(portfolio, 0, 100)"
      ],
      "execution_count": 43,
      "outputs": [
        {
          "output_type": "execute_result",
          "data": {
            "text/plain": [
              "0.5766511516104118"
            ]
          },
          "metadata": {
            "tags": []
          },
          "execution_count": 43
        }
      ]
    },
    {
      "cell_type": "code",
      "metadata": {
        "id": "5FsTSX-kbcum",
        "outputId": "46ff6fd6-eaaa-4784-8416-687c6d856818",
        "colab": {
          "base_uri": "https://localhost:8080/"
        }
      },
      "source": [
        "from sklearn.utils import resample\n",
        "\n",
        "portfolio_bs = resample(portfolio, replace=True, n_samples=100)\n",
        "\n",
        "alpha_fn(portfolio_bs, 0, 100)"
      ],
      "execution_count": 44,
      "outputs": [
        {
          "output_type": "execute_result",
          "data": {
            "text/plain": [
              "0.5632181593911421"
            ]
          },
          "metadata": {
            "tags": []
          },
          "execution_count": 44
        }
      ]
    },
    {
      "cell_type": "code",
      "metadata": {
        "id": "d2SXxheqb3Ui",
        "outputId": "2f8885ce-0661-4f5a-8d15-6937b9c326b6",
        "colab": {
          "base_uri": "https://localhost:8080/"
        }
      },
      "source": [
        "# Bootstrap is removed from sklearn\n",
        "\n",
        "bs_alpha = []\n",
        "\n",
        "for i in range(0, 1000):\n",
        "    bs_alpha.append(\n",
        "        alpha_fn(resample(portfolio, replace=True, n_samples=100), 0, 100)\n",
        "    )\n",
        "\n",
        "bs_alpha = np.array(bs_alpha)\n",
        "\n",
        "print('Bootstrapped alpha:', bs_alpha.mean())\n",
        "print('SE:',  bs_alpha.std())"
      ],
      "execution_count": 45,
      "outputs": [
        {
          "output_type": "stream",
          "text": [
            "Bootstrapped alpha: 0.5791770366859285\n",
            "SE: 0.09490562802044483\n"
          ],
          "name": "stdout"
        }
      ]
    },
    {
      "cell_type": "markdown",
      "metadata": {
        "id": "sVdXqMp3c2f4"
      },
      "source": [
        "### Estimating accuracy of a Linear regression Model"
      ]
    },
    {
      "cell_type": "code",
      "metadata": {
        "id": "kyLjiuvHc1rZ",
        "outputId": "3183f895-265b-4bb1-cfa4-8d0b253c266e",
        "colab": {
          "base_uri": "https://localhost:8080/"
        }
      },
      "source": [
        "def boot_fn(data, start_index, end_index):\n",
        "    m = LinearRegression(fit_intercept=True).fit(\n",
        "        data['horsepower'][start_index:end_index].values.reshape(-1, 1),\n",
        "        data['mpg'][start_index:end_index]\n",
        "    )\n",
        "    \n",
        "    return m.intercept_, m.coef_\n",
        "    \n",
        "boot_fn(auto, 0, 392)"
      ],
      "execution_count": 46,
      "outputs": [
        {
          "output_type": "execute_result",
          "data": {
            "text/plain": [
              "(39.93586102117047, array([-0.15784473]))"
            ]
          },
          "metadata": {
            "tags": []
          },
          "execution_count": 46
        }
      ]
    },
    {
      "cell_type": "code",
      "metadata": {
        "id": "sJTl33W_b6uY",
        "outputId": "f4c4ec0a-27a9-4672-8f6a-dfbdfe68b400",
        "colab": {
          "base_uri": "https://localhost:8080/"
        }
      },
      "source": [
        "boot_fn(resample(auto, replace=True, n_samples=392), 0, 392)"
      ],
      "execution_count": 47,
      "outputs": [
        {
          "output_type": "execute_result",
          "data": {
            "text/plain": [
              "(38.95393827253029, array([-0.14646831]))"
            ]
          },
          "metadata": {
            "tags": []
          },
          "execution_count": 47
        }
      ]
    },
    {
      "cell_type": "code",
      "metadata": {
        "id": "wFOIu82ddXXj",
        "outputId": "83f297d3-55b6-4cd2-a998-181ebb7e6fdf",
        "colab": {
          "base_uri": "https://localhost:8080/"
        }
      },
      "source": [
        "bs_boot = {'t1': [], 't2': []}\n",
        "\n",
        "for i in range(0, 1000):\n",
        "    bs_boot['t1'].append(\n",
        "        boot_fn(resample(auto, replace=True, n_samples=392), 0, 392)[0]\n",
        "    )\n",
        "    bs_boot['t2'].append(\n",
        "        boot_fn(resample(auto, replace=True, n_samples=392), 0, 392)[1][0]\n",
        "    )\n",
        "\n",
        "t1_es = np.array(bs_boot['t1']).mean()\n",
        "t1_se = np.array(bs_boot['t1']).std()\n",
        "t2_es = np.array(bs_boot['t2']).mean()\n",
        "t2_se = np.array(bs_boot['t2']).std()\n",
        "\n",
        "print('t1 bs estimate & se:', t1_es, t1_se)\n",
        "print('t2 bs estimate & se:', t2_es, t2_se)"
      ],
      "execution_count": 48,
      "outputs": [
        {
          "output_type": "stream",
          "text": [
            "t1 bs estimate & se: 39.98682988953808 0.8471241597592658\n",
            "t2 bs estimate & se: -0.15832415288371668 0.007601294489843631\n"
          ],
          "name": "stdout"
        }
      ]
    },
    {
      "cell_type": "code",
      "metadata": {
        "id": "vdIZVGzMdrPJ",
        "outputId": "c5f5daba-a7f4-4ef2-c10c-a1c2ce37559d",
        "colab": {
          "base_uri": "https://localhost:8080/"
        }
      },
      "source": [
        "import statsmodels.formula.api as sm\n",
        "\n",
        "ols = sm.ols('mpg ~ horsepower', data=auto).fit()\n",
        "print(ols.summary().tables[1])"
      ],
      "execution_count": 50,
      "outputs": [
        {
          "output_type": "stream",
          "text": [
            "==============================================================================\n",
            "                 coef    std err          t      P>|t|      [0.025      0.975]\n",
            "------------------------------------------------------------------------------\n",
            "Intercept     39.9359      0.717     55.660      0.000      38.525      41.347\n",
            "horsepower    -0.1578      0.006    -24.489      0.000      -0.171      -0.145\n",
            "==============================================================================\n"
          ],
          "name": "stdout"
        }
      ]
    },
    {
      "cell_type": "code",
      "metadata": {
        "id": "vsjFM8rxdrrn"
      },
      "source": [
        "def boot_fn2(data, start_index, end_index):\n",
        "    m = LinearRegression(fit_intercept=True).fit(\n",
        "        data[['horsepower', 'horsepower_2']][start_index:end_index],\n",
        "        data['mpg'][start_index:end_index]\n",
        "    )\n",
        "    \n",
        "    return m.intercept_, m.coef_"
      ],
      "execution_count": 51,
      "outputs": []
    },
    {
      "cell_type": "code",
      "metadata": {
        "id": "XZyKP5F9eTIx",
        "outputId": "b1feb8ee-d82d-4d8b-c5c2-6810e2e31343",
        "colab": {
          "base_uri": "https://localhost:8080/"
        }
      },
      "source": [
        "bs_boot2 = {'t1': [], 't2': [], 't3': []}\n",
        "\n",
        "for i in range(0, 1000):\n",
        "    bs_boot2['t1'].append(\n",
        "        boot_fn2(resample(auto, replace=True, n_samples=392), 0, 392)[0]\n",
        "    )\n",
        "    bs_boot2['t2'].append(\n",
        "        boot_fn2(resample(auto, replace=True, n_samples=392), 0, 392)[1][0]\n",
        "    )\n",
        "    bs_boot2['t3'].append(\n",
        "        boot_fn2(resample(auto, replace=True, n_samples=392), 0, 392)[1][1]\n",
        "    )\n",
        "\n",
        "\n",
        "t1_es = np.array(bs_boot2['t1']).mean()\n",
        "t1_se = np.array(bs_boot2['t1']).std()\n",
        "t2_es = np.array(bs_boot2['t2']).mean()\n",
        "t2_se = np.array(bs_boot2['t2']).std()\n",
        "t3_es = np.array(bs_boot2['t3']).mean()\n",
        "t3_se = np.array(bs_boot2['t3']).std()\n",
        "\n",
        "print('t1 bs estimate & se:', t1_es, t1_se)\n",
        "print('t2 bs estimate & se:', t2_es, t2_se)\n",
        "print('t3 bs estimate & se:', t3_es, t3_se)"
      ],
      "execution_count": 52,
      "outputs": [
        {
          "output_type": "stream",
          "text": [
            "t1 bs estimate & se: 56.91831002856803 2.1882644489496355\n",
            "t2 bs estimate & se: -0.4679142773168464 0.03359322829124546\n",
            "t3 bs estimate & se: 0.0012385339720369717 0.00011778213730320324\n"
          ],
          "name": "stdout"
        }
      ]
    },
    {
      "cell_type": "code",
      "metadata": {
        "id": "NxHIWAemeTmH",
        "outputId": "6c9273ee-beab-4f7d-c3ff-a0dad23ec505",
        "colab": {
          "base_uri": "https://localhost:8080/"
        }
      },
      "source": [
        "import statsmodels.formula.api as sm\n",
        "\n",
        "ols2 = sm.ols('mpg ~ horsepower + horsepower_2', data=auto).fit()\n",
        "print(ols2.summary().tables[1])"
      ],
      "execution_count": 54,
      "outputs": [
        {
          "output_type": "stream",
          "text": [
            "================================================================================\n",
            "                   coef    std err          t      P>|t|      [0.025      0.975]\n",
            "--------------------------------------------------------------------------------\n",
            "Intercept       56.9001      1.800     31.604      0.000      53.360      60.440\n",
            "horsepower      -0.4662      0.031    -14.978      0.000      -0.527      -0.405\n",
            "horsepower_2     0.0012      0.000     10.080      0.000       0.001       0.001\n",
            "================================================================================\n"
          ],
          "name": "stdout"
        }
      ]
    },
    {
      "cell_type": "code",
      "metadata": {
        "id": "0CBGyPoPeVUv"
      },
      "source": [
        ""
      ],
      "execution_count": null,
      "outputs": []
    }
  ]
}