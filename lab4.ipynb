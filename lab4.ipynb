{
  "nbformat": 4,
  "nbformat_minor": 0,
  "metadata": {
    "colab": {
      "name": "lab4.ipynb",
      "provenance": [],
      "authorship_tag": "ABX9TyO0dsqvZCXcJfn0RJP/f8M+",
      "include_colab_link": true
    },
    "kernelspec": {
      "name": "python3",
      "display_name": "Python 3"
    }
  },
  "cells": [
    {
      "cell_type": "markdown",
      "metadata": {
        "id": "view-in-github",
        "colab_type": "text"
      },
      "source": [
        "<a href=\"https://colab.research.google.com/github/mjalalimanesh/statistical-learning-ISLR-python/blob/master/lab4.ipynb\" target=\"_parent\"><img src=\"https://colab.research.google.com/assets/colab-badge.svg\" alt=\"Open In Colab\"/></a>"
      ]
    },
    {
      "cell_type": "markdown",
      "metadata": {
        "id": "vPirBmxBvEjK"
      },
      "source": [
        "**ISLR book**\n",
        "\n",
        "https://github.com/mjalalimanesh/statistical-learning-ISLR-python\n",
        "\n",
        "**Chapter 4 Lab : Logistic Regression, LDA, QDA, and KNN**"
      ]
    },
    {
      "cell_type": "markdown",
      "metadata": {
        "id": "sQsxSGirvkpc"
      },
      "source": [
        "Import libraries"
      ]
    },
    {
      "cell_type": "code",
      "metadata": {
        "id": "6umprrPGuZil",
        "outputId": "1a44c062-ad86-48bb-c743-5f49e714c5ac",
        "colab": {
          "base_uri": "https://localhost:8080/"
        }
      },
      "source": [
        "# %load ../standard_import.txt\n",
        "import pandas as pd\n",
        "import numpy as np\n",
        "import matplotlib as mpl\n",
        "import matplotlib.pyplot as plt\n",
        "import seaborn as sns\n",
        "\n",
        "import sklearn.linear_model as skl_lm\n",
        "from sklearn.discriminant_analysis import LinearDiscriminantAnalysis\n",
        "from sklearn.discriminant_analysis import QuadraticDiscriminantAnalysis\n",
        "from sklearn.metrics import confusion_matrix, classification_report, precision_score\n",
        "from sklearn import preprocessing\n",
        "from sklearn import neighbors\n",
        "\n",
        "import statsmodels.api as sm\n",
        "import statsmodels.formula.api as smf\n",
        "\n",
        "%matplotlib inline\n",
        "plt.style.use('seaborn-white')"
      ],
      "execution_count": 2,
      "outputs": [
        {
          "output_type": "stream",
          "text": [
            "/usr/local/lib/python3.6/dist-packages/statsmodels/tools/_testing.py:19: FutureWarning: pandas.util.testing is deprecated. Use the functions in the public API at pandas.testing instead.\n",
            "  import pandas.util.testing as tm\n"
          ],
          "name": "stderr"
        }
      ]
    },
    {
      "cell_type": "markdown",
      "metadata": {
        "id": "sP18lBl6vo6r"
      },
      "source": [
        "## 4.6.1 The Stock market data"
      ]
    },
    {
      "cell_type": "code",
      "metadata": {
        "id": "WslWKMIvvuLj",
        "outputId": "f2bf5a8e-ffaa-4034-bdf6-5ed38cb3a8e0",
        "colab": {
          "base_uri": "https://localhost:8080/",
          "height": 197
        }
      },
      "source": [
        "# load data\n",
        "smarket = pd.read_csv('https://raw.githubusercontent.com/mjalalimanesh/statistical-learning-ISLR-python/master/datasets/Smarket.csv', index_col=0)\n",
        "smarket.Direction = smarket.Direction.astype('category')\n",
        "smarket.head()"
      ],
      "execution_count": 3,
      "outputs": [
        {
          "output_type": "execute_result",
          "data": {
            "text/html": [
              "<div>\n",
              "<style scoped>\n",
              "    .dataframe tbody tr th:only-of-type {\n",
              "        vertical-align: middle;\n",
              "    }\n",
              "\n",
              "    .dataframe tbody tr th {\n",
              "        vertical-align: top;\n",
              "    }\n",
              "\n",
              "    .dataframe thead th {\n",
              "        text-align: right;\n",
              "    }\n",
              "</style>\n",
              "<table border=\"1\" class=\"dataframe\">\n",
              "  <thead>\n",
              "    <tr style=\"text-align: right;\">\n",
              "      <th></th>\n",
              "      <th>Year</th>\n",
              "      <th>Lag1</th>\n",
              "      <th>Lag2</th>\n",
              "      <th>Lag3</th>\n",
              "      <th>Lag4</th>\n",
              "      <th>Lag5</th>\n",
              "      <th>Volume</th>\n",
              "      <th>Today</th>\n",
              "      <th>Direction</th>\n",
              "    </tr>\n",
              "  </thead>\n",
              "  <tbody>\n",
              "    <tr>\n",
              "      <th>1</th>\n",
              "      <td>2001</td>\n",
              "      <td>0.381</td>\n",
              "      <td>-0.192</td>\n",
              "      <td>-2.624</td>\n",
              "      <td>-1.055</td>\n",
              "      <td>5.010</td>\n",
              "      <td>1.1913</td>\n",
              "      <td>0.959</td>\n",
              "      <td>Up</td>\n",
              "    </tr>\n",
              "    <tr>\n",
              "      <th>2</th>\n",
              "      <td>2001</td>\n",
              "      <td>0.959</td>\n",
              "      <td>0.381</td>\n",
              "      <td>-0.192</td>\n",
              "      <td>-2.624</td>\n",
              "      <td>-1.055</td>\n",
              "      <td>1.2965</td>\n",
              "      <td>1.032</td>\n",
              "      <td>Up</td>\n",
              "    </tr>\n",
              "    <tr>\n",
              "      <th>3</th>\n",
              "      <td>2001</td>\n",
              "      <td>1.032</td>\n",
              "      <td>0.959</td>\n",
              "      <td>0.381</td>\n",
              "      <td>-0.192</td>\n",
              "      <td>-2.624</td>\n",
              "      <td>1.4112</td>\n",
              "      <td>-0.623</td>\n",
              "      <td>Down</td>\n",
              "    </tr>\n",
              "    <tr>\n",
              "      <th>4</th>\n",
              "      <td>2001</td>\n",
              "      <td>-0.623</td>\n",
              "      <td>1.032</td>\n",
              "      <td>0.959</td>\n",
              "      <td>0.381</td>\n",
              "      <td>-0.192</td>\n",
              "      <td>1.2760</td>\n",
              "      <td>0.614</td>\n",
              "      <td>Up</td>\n",
              "    </tr>\n",
              "    <tr>\n",
              "      <th>5</th>\n",
              "      <td>2001</td>\n",
              "      <td>0.614</td>\n",
              "      <td>-0.623</td>\n",
              "      <td>1.032</td>\n",
              "      <td>0.959</td>\n",
              "      <td>0.381</td>\n",
              "      <td>1.2057</td>\n",
              "      <td>0.213</td>\n",
              "      <td>Up</td>\n",
              "    </tr>\n",
              "  </tbody>\n",
              "</table>\n",
              "</div>"
            ],
            "text/plain": [
              "   Year   Lag1   Lag2   Lag3   Lag4   Lag5  Volume  Today Direction\n",
              "1  2001  0.381 -0.192 -2.624 -1.055  5.010  1.1913  0.959        Up\n",
              "2  2001  0.959  0.381 -0.192 -2.624 -1.055  1.2965  1.032        Up\n",
              "3  2001  1.032  0.959  0.381 -0.192 -2.624  1.4112 -0.623      Down\n",
              "4  2001 -0.623  1.032  0.959  0.381 -0.192  1.2760  0.614        Up\n",
              "5  2001  0.614 -0.623  1.032  0.959  0.381  1.2057  0.213        Up"
            ]
          },
          "metadata": {
            "tags": []
          },
          "execution_count": 3
        }
      ]
    },
    {
      "cell_type": "code",
      "metadata": {
        "id": "_OOyUOQRwIAj",
        "outputId": "e4eb5e75-f9af-4b20-9321-aac728379277",
        "colab": {
          "base_uri": "https://localhost:8080/"
        }
      },
      "source": [
        "smarket.columns"
      ],
      "execution_count": 4,
      "outputs": [
        {
          "output_type": "execute_result",
          "data": {
            "text/plain": [
              "Index(['Year', 'Lag1', 'Lag2', 'Lag3', 'Lag4', 'Lag5', 'Volume', 'Today',\n",
              "       'Direction'],\n",
              "      dtype='object')"
            ]
          },
          "metadata": {
            "tags": []
          },
          "execution_count": 4
        }
      ]
    },
    {
      "cell_type": "code",
      "metadata": {
        "id": "ZDRHyCTDwX95",
        "outputId": "2c914e61-ae47-4e17-d5d5-40bafceec11d",
        "colab": {
          "base_uri": "https://localhost:8080/"
        }
      },
      "source": [
        "smarket.shape"
      ],
      "execution_count": 5,
      "outputs": [
        {
          "output_type": "execute_result",
          "data": {
            "text/plain": [
              "(1250, 9)"
            ]
          },
          "metadata": {
            "tags": []
          },
          "execution_count": 5
        }
      ]
    },
    {
      "cell_type": "code",
      "metadata": {
        "id": "V553dMY5wZxj",
        "outputId": "c626f202-2262-45a2-f6b0-e2c324792be5",
        "colab": {
          "base_uri": "https://localhost:8080/",
          "height": 377
        }
      },
      "source": [
        "smarket.describe(include='all')"
      ],
      "execution_count": 6,
      "outputs": [
        {
          "output_type": "execute_result",
          "data": {
            "text/html": [
              "<div>\n",
              "<style scoped>\n",
              "    .dataframe tbody tr th:only-of-type {\n",
              "        vertical-align: middle;\n",
              "    }\n",
              "\n",
              "    .dataframe tbody tr th {\n",
              "        vertical-align: top;\n",
              "    }\n",
              "\n",
              "    .dataframe thead th {\n",
              "        text-align: right;\n",
              "    }\n",
              "</style>\n",
              "<table border=\"1\" class=\"dataframe\">\n",
              "  <thead>\n",
              "    <tr style=\"text-align: right;\">\n",
              "      <th></th>\n",
              "      <th>Year</th>\n",
              "      <th>Lag1</th>\n",
              "      <th>Lag2</th>\n",
              "      <th>Lag3</th>\n",
              "      <th>Lag4</th>\n",
              "      <th>Lag5</th>\n",
              "      <th>Volume</th>\n",
              "      <th>Today</th>\n",
              "      <th>Direction</th>\n",
              "    </tr>\n",
              "  </thead>\n",
              "  <tbody>\n",
              "    <tr>\n",
              "      <th>count</th>\n",
              "      <td>1250.000000</td>\n",
              "      <td>1250.000000</td>\n",
              "      <td>1250.000000</td>\n",
              "      <td>1250.000000</td>\n",
              "      <td>1250.000000</td>\n",
              "      <td>1250.00000</td>\n",
              "      <td>1250.000000</td>\n",
              "      <td>1250.000000</td>\n",
              "      <td>1250</td>\n",
              "    </tr>\n",
              "    <tr>\n",
              "      <th>unique</th>\n",
              "      <td>NaN</td>\n",
              "      <td>NaN</td>\n",
              "      <td>NaN</td>\n",
              "      <td>NaN</td>\n",
              "      <td>NaN</td>\n",
              "      <td>NaN</td>\n",
              "      <td>NaN</td>\n",
              "      <td>NaN</td>\n",
              "      <td>2</td>\n",
              "    </tr>\n",
              "    <tr>\n",
              "      <th>top</th>\n",
              "      <td>NaN</td>\n",
              "      <td>NaN</td>\n",
              "      <td>NaN</td>\n",
              "      <td>NaN</td>\n",
              "      <td>NaN</td>\n",
              "      <td>NaN</td>\n",
              "      <td>NaN</td>\n",
              "      <td>NaN</td>\n",
              "      <td>Up</td>\n",
              "    </tr>\n",
              "    <tr>\n",
              "      <th>freq</th>\n",
              "      <td>NaN</td>\n",
              "      <td>NaN</td>\n",
              "      <td>NaN</td>\n",
              "      <td>NaN</td>\n",
              "      <td>NaN</td>\n",
              "      <td>NaN</td>\n",
              "      <td>NaN</td>\n",
              "      <td>NaN</td>\n",
              "      <td>648</td>\n",
              "    </tr>\n",
              "    <tr>\n",
              "      <th>mean</th>\n",
              "      <td>2003.016000</td>\n",
              "      <td>0.003834</td>\n",
              "      <td>0.003919</td>\n",
              "      <td>0.001716</td>\n",
              "      <td>0.001636</td>\n",
              "      <td>0.00561</td>\n",
              "      <td>1.478305</td>\n",
              "      <td>0.003138</td>\n",
              "      <td>NaN</td>\n",
              "    </tr>\n",
              "    <tr>\n",
              "      <th>std</th>\n",
              "      <td>1.409018</td>\n",
              "      <td>1.136299</td>\n",
              "      <td>1.136280</td>\n",
              "      <td>1.138703</td>\n",
              "      <td>1.138774</td>\n",
              "      <td>1.14755</td>\n",
              "      <td>0.360357</td>\n",
              "      <td>1.136334</td>\n",
              "      <td>NaN</td>\n",
              "    </tr>\n",
              "    <tr>\n",
              "      <th>min</th>\n",
              "      <td>2001.000000</td>\n",
              "      <td>-4.922000</td>\n",
              "      <td>-4.922000</td>\n",
              "      <td>-4.922000</td>\n",
              "      <td>-4.922000</td>\n",
              "      <td>-4.92200</td>\n",
              "      <td>0.356070</td>\n",
              "      <td>-4.922000</td>\n",
              "      <td>NaN</td>\n",
              "    </tr>\n",
              "    <tr>\n",
              "      <th>25%</th>\n",
              "      <td>2002.000000</td>\n",
              "      <td>-0.639500</td>\n",
              "      <td>-0.639500</td>\n",
              "      <td>-0.640000</td>\n",
              "      <td>-0.640000</td>\n",
              "      <td>-0.64000</td>\n",
              "      <td>1.257400</td>\n",
              "      <td>-0.639500</td>\n",
              "      <td>NaN</td>\n",
              "    </tr>\n",
              "    <tr>\n",
              "      <th>50%</th>\n",
              "      <td>2003.000000</td>\n",
              "      <td>0.039000</td>\n",
              "      <td>0.039000</td>\n",
              "      <td>0.038500</td>\n",
              "      <td>0.038500</td>\n",
              "      <td>0.03850</td>\n",
              "      <td>1.422950</td>\n",
              "      <td>0.038500</td>\n",
              "      <td>NaN</td>\n",
              "    </tr>\n",
              "    <tr>\n",
              "      <th>75%</th>\n",
              "      <td>2004.000000</td>\n",
              "      <td>0.596750</td>\n",
              "      <td>0.596750</td>\n",
              "      <td>0.596750</td>\n",
              "      <td>0.596750</td>\n",
              "      <td>0.59700</td>\n",
              "      <td>1.641675</td>\n",
              "      <td>0.596750</td>\n",
              "      <td>NaN</td>\n",
              "    </tr>\n",
              "    <tr>\n",
              "      <th>max</th>\n",
              "      <td>2005.000000</td>\n",
              "      <td>5.733000</td>\n",
              "      <td>5.733000</td>\n",
              "      <td>5.733000</td>\n",
              "      <td>5.733000</td>\n",
              "      <td>5.73300</td>\n",
              "      <td>3.152470</td>\n",
              "      <td>5.733000</td>\n",
              "      <td>NaN</td>\n",
              "    </tr>\n",
              "  </tbody>\n",
              "</table>\n",
              "</div>"
            ],
            "text/plain": [
              "               Year         Lag1  ...        Today  Direction\n",
              "count   1250.000000  1250.000000  ...  1250.000000       1250\n",
              "unique          NaN          NaN  ...          NaN          2\n",
              "top             NaN          NaN  ...          NaN         Up\n",
              "freq            NaN          NaN  ...          NaN        648\n",
              "mean    2003.016000     0.003834  ...     0.003138        NaN\n",
              "std        1.409018     1.136299  ...     1.136334        NaN\n",
              "min     2001.000000    -4.922000  ...    -4.922000        NaN\n",
              "25%     2002.000000    -0.639500  ...    -0.639500        NaN\n",
              "50%     2003.000000     0.039000  ...     0.038500        NaN\n",
              "75%     2004.000000     0.596750  ...     0.596750        NaN\n",
              "max     2005.000000     5.733000  ...     5.733000        NaN\n",
              "\n",
              "[11 rows x 9 columns]"
            ]
          },
          "metadata": {
            "tags": []
          },
          "execution_count": 6
        }
      ]
    },
    {
      "cell_type": "code",
      "metadata": {
        "id": "tJhvYYlUwdvf",
        "outputId": "15d2ea7c-b2c4-4c0f-ce66-b70dad3720cb",
        "colab": {
          "base_uri": "https://localhost:8080/"
        }
      },
      "source": [
        "smarket.info(memory_usage='deep')"
      ],
      "execution_count": 7,
      "outputs": [
        {
          "output_type": "stream",
          "text": [
            "<class 'pandas.core.frame.DataFrame'>\n",
            "Int64Index: 1250 entries, 1 to 1250\n",
            "Data columns (total 9 columns):\n",
            " #   Column     Non-Null Count  Dtype   \n",
            "---  ------     --------------  -----   \n",
            " 0   Year       1250 non-null   int64   \n",
            " 1   Lag1       1250 non-null   float64 \n",
            " 2   Lag2       1250 non-null   float64 \n",
            " 3   Lag3       1250 non-null   float64 \n",
            " 4   Lag4       1250 non-null   float64 \n",
            " 5   Lag5       1250 non-null   float64 \n",
            " 6   Volume     1250 non-null   float64 \n",
            " 7   Today      1250 non-null   float64 \n",
            " 8   Direction  1250 non-null   category\n",
            "dtypes: category(1), float64(7), int64(1)\n",
            "memory usage: 89.3 KB\n"
          ],
          "name": "stdout"
        }
      ]
    },
    {
      "cell_type": "code",
      "metadata": {
        "id": "HylSUF4Aw7V3"
      },
      "source": [
        "sns.pairplot(smarket, hue='Direction');"
      ],
      "execution_count": null,
      "outputs": []
    },
    {
      "cell_type": "code",
      "metadata": {
        "id": "q4zLis8Ow75-",
        "outputId": "a47540e5-5952-4df3-c261-cc71de12ed26",
        "colab": {
          "base_uri": "https://localhost:8080/",
          "height": 287
        }
      },
      "source": [
        "smarket.corr()"
      ],
      "execution_count": 9,
      "outputs": [
        {
          "output_type": "execute_result",
          "data": {
            "text/html": [
              "<div>\n",
              "<style scoped>\n",
              "    .dataframe tbody tr th:only-of-type {\n",
              "        vertical-align: middle;\n",
              "    }\n",
              "\n",
              "    .dataframe tbody tr th {\n",
              "        vertical-align: top;\n",
              "    }\n",
              "\n",
              "    .dataframe thead th {\n",
              "        text-align: right;\n",
              "    }\n",
              "</style>\n",
              "<table border=\"1\" class=\"dataframe\">\n",
              "  <thead>\n",
              "    <tr style=\"text-align: right;\">\n",
              "      <th></th>\n",
              "      <th>Year</th>\n",
              "      <th>Lag1</th>\n",
              "      <th>Lag2</th>\n",
              "      <th>Lag3</th>\n",
              "      <th>Lag4</th>\n",
              "      <th>Lag5</th>\n",
              "      <th>Volume</th>\n",
              "      <th>Today</th>\n",
              "    </tr>\n",
              "  </thead>\n",
              "  <tbody>\n",
              "    <tr>\n",
              "      <th>Year</th>\n",
              "      <td>1.000000</td>\n",
              "      <td>0.029700</td>\n",
              "      <td>0.030596</td>\n",
              "      <td>0.033195</td>\n",
              "      <td>0.035689</td>\n",
              "      <td>0.029788</td>\n",
              "      <td>0.539006</td>\n",
              "      <td>0.030095</td>\n",
              "    </tr>\n",
              "    <tr>\n",
              "      <th>Lag1</th>\n",
              "      <td>0.029700</td>\n",
              "      <td>1.000000</td>\n",
              "      <td>-0.026294</td>\n",
              "      <td>-0.010803</td>\n",
              "      <td>-0.002986</td>\n",
              "      <td>-0.005675</td>\n",
              "      <td>0.040910</td>\n",
              "      <td>-0.026155</td>\n",
              "    </tr>\n",
              "    <tr>\n",
              "      <th>Lag2</th>\n",
              "      <td>0.030596</td>\n",
              "      <td>-0.026294</td>\n",
              "      <td>1.000000</td>\n",
              "      <td>-0.025897</td>\n",
              "      <td>-0.010854</td>\n",
              "      <td>-0.003558</td>\n",
              "      <td>-0.043383</td>\n",
              "      <td>-0.010250</td>\n",
              "    </tr>\n",
              "    <tr>\n",
              "      <th>Lag3</th>\n",
              "      <td>0.033195</td>\n",
              "      <td>-0.010803</td>\n",
              "      <td>-0.025897</td>\n",
              "      <td>1.000000</td>\n",
              "      <td>-0.024051</td>\n",
              "      <td>-0.018808</td>\n",
              "      <td>-0.041824</td>\n",
              "      <td>-0.002448</td>\n",
              "    </tr>\n",
              "    <tr>\n",
              "      <th>Lag4</th>\n",
              "      <td>0.035689</td>\n",
              "      <td>-0.002986</td>\n",
              "      <td>-0.010854</td>\n",
              "      <td>-0.024051</td>\n",
              "      <td>1.000000</td>\n",
              "      <td>-0.027084</td>\n",
              "      <td>-0.048414</td>\n",
              "      <td>-0.006900</td>\n",
              "    </tr>\n",
              "    <tr>\n",
              "      <th>Lag5</th>\n",
              "      <td>0.029788</td>\n",
              "      <td>-0.005675</td>\n",
              "      <td>-0.003558</td>\n",
              "      <td>-0.018808</td>\n",
              "      <td>-0.027084</td>\n",
              "      <td>1.000000</td>\n",
              "      <td>-0.022002</td>\n",
              "      <td>-0.034860</td>\n",
              "    </tr>\n",
              "    <tr>\n",
              "      <th>Volume</th>\n",
              "      <td>0.539006</td>\n",
              "      <td>0.040910</td>\n",
              "      <td>-0.043383</td>\n",
              "      <td>-0.041824</td>\n",
              "      <td>-0.048414</td>\n",
              "      <td>-0.022002</td>\n",
              "      <td>1.000000</td>\n",
              "      <td>0.014592</td>\n",
              "    </tr>\n",
              "    <tr>\n",
              "      <th>Today</th>\n",
              "      <td>0.030095</td>\n",
              "      <td>-0.026155</td>\n",
              "      <td>-0.010250</td>\n",
              "      <td>-0.002448</td>\n",
              "      <td>-0.006900</td>\n",
              "      <td>-0.034860</td>\n",
              "      <td>0.014592</td>\n",
              "      <td>1.000000</td>\n",
              "    </tr>\n",
              "  </tbody>\n",
              "</table>\n",
              "</div>"
            ],
            "text/plain": [
              "            Year      Lag1      Lag2  ...      Lag5    Volume     Today\n",
              "Year    1.000000  0.029700  0.030596  ...  0.029788  0.539006  0.030095\n",
              "Lag1    0.029700  1.000000 -0.026294  ... -0.005675  0.040910 -0.026155\n",
              "Lag2    0.030596 -0.026294  1.000000  ... -0.003558 -0.043383 -0.010250\n",
              "Lag3    0.033195 -0.010803 -0.025897  ... -0.018808 -0.041824 -0.002448\n",
              "Lag4    0.035689 -0.002986 -0.010854  ... -0.027084 -0.048414 -0.006900\n",
              "Lag5    0.029788 -0.005675 -0.003558  ...  1.000000 -0.022002 -0.034860\n",
              "Volume  0.539006  0.040910 -0.043383  ... -0.022002  1.000000  0.014592\n",
              "Today   0.030095 -0.026155 -0.010250  ... -0.034860  0.014592  1.000000\n",
              "\n",
              "[8 rows x 8 columns]"
            ]
          },
          "metadata": {
            "tags": []
          },
          "execution_count": 9
        }
      ]
    },
    {
      "cell_type": "code",
      "metadata": {
        "id": "KpWMegWuyEYf",
        "outputId": "e6bd8373-36be-48c7-972f-1f45432bfdf4",
        "colab": {
          "base_uri": "https://localhost:8080/",
          "height": 262
        }
      },
      "source": [
        "plt.plot(smarket.Volume);"
      ],
      "execution_count": 10,
      "outputs": [
        {
          "output_type": "display_data",
          "data": {
            "image/png": "[encoded data removed]",
            "text/plain": [
              "<Figure size 432x288 with 1 Axes>"
            ]
          },
          "metadata": {
            "tags": []
          }
        }
      ]
    },
    {
      "cell_type": "markdown",
      "metadata": {
        "id": "wozK6Khz1Ocw"
      },
      "source": [
        "## 4.6.2 Logistic Regression"
      ]
    },
    {
      "cell_type": "markdown",
      "metadata": {
        "id": "JpGJhwdpwwiA"
      },
      "source": [
        "### Using statsmodels"
      ]
    },
    {
      "cell_type": "code",
      "metadata": {
        "id": "116NuyqNybtc",
        "outputId": "edbce56e-8a25-4798-ab4f-29043ac7b670",
        "colab": {
          "base_uri": "https://localhost:8080/"
        }
      },
      "source": [
        "X_sm = smarket.loc[:,'Lag1':'Volume']\n",
        "y_sm_1 = pd.get_dummies(smarket.Direction).iloc[:, 1] # dummy encoding\n",
        "y_sm = preprocessing.LabelEncoder().fit_transform(smarket.Direction)\n",
        "print((y_sm.dtype))\n",
        "print((y_sm_1.dtype))\n",
        "glm_fit_sm = sm.Logit(y_sm, sm.add_constant(X_sm)).fit()\n",
        "print(glm_fit_sm.summary2())"
      ],
      "execution_count": 38,
      "outputs": [
        {
          "output_type": "stream",
          "text": [
            "int64\n",
            "uint8\n",
            "Optimization terminated successfully.\n",
            "         Current function value: 0.691034\n",
            "         Iterations 4\n",
            "                         Results: Logit\n",
            "================================================================\n",
            "Model:              Logit            Pseudo R-squared: 0.002    \n",
            "Dependent Variable: y                AIC:              1741.5841\n",
            "Date:               2020-11-11 05:56 BIC:              1777.5004\n",
            "No. Observations:   1250             Log-Likelihood:   -863.79  \n",
            "Df Model:           6                LL-Null:          -865.59  \n",
            "Df Residuals:       1243             LLR p-value:      0.73187  \n",
            "Converged:          1.0000           Scale:            1.0000   \n",
            "No. Iterations:     4.0000                                      \n",
            "------------------------------------------------------------------\n",
            "           Coef.    Std.Err.      z      P>|z|     [0.025   0.975]\n",
            "------------------------------------------------------------------\n",
            "const     -0.1260     0.2407   -0.5234   0.6007   -0.5978   0.3458\n",
            "Lag1      -0.0731     0.0502   -1.4566   0.1452   -0.1714   0.0253\n",
            "Lag2      -0.0423     0.0501   -0.8446   0.3984   -0.1405   0.0559\n",
            "Lag3       0.0111     0.0499    0.2220   0.8243   -0.0868   0.1090\n",
            "Lag4       0.0094     0.0500    0.1873   0.8514   -0.0886   0.1073\n",
            "Lag5       0.0103     0.0495    0.2083   0.8350   -0.0867   0.1074\n",
            "Volume     0.1354     0.1584    0.8553   0.3924   -0.1749   0.4458\n",
            "================================================================\n",
            "\n"
          ],
          "name": "stdout"
        }
      ]
    },
    {
      "cell_type": "code",
      "metadata": {
        "id": "ou2M5uZEyXvN",
        "outputId": "9b78f82d-c870-412b-f367-d663d64418de",
        "colab": {
          "base_uri": "https://localhost:8080/"
        }
      },
      "source": [
        "glm_fit_sm.params"
      ],
      "execution_count": 37,
      "outputs": [
        {
          "output_type": "execute_result",
          "data": {
            "text/plain": [
              "const    -0.126000\n",
              "Lag1     -0.073074\n",
              "Lag2     -0.042301\n",
              "Lag3      0.011085\n",
              "Lag4      0.009359\n",
              "Lag5      0.010313\n",
              "Volume    0.135441\n",
              "dtype: float64"
            ]
          },
          "metadata": {
            "tags": []
          },
          "execution_count": 37
        }
      ]
    },
    {
      "cell_type": "code",
      "metadata": {
        "id": "82EEq0WQ3zMq",
        "outputId": "5bf269c1-935f-443b-812f-0ed370e5748b",
        "colab": {
          "base_uri": "https://localhost:8080/"
        }
      },
      "source": [
        "glm_fit_sm.predict()[0:5]"
      ],
      "execution_count": 43,
      "outputs": [
        {
          "output_type": "execute_result",
          "data": {
            "text/plain": [
              "array([0.50708413, 0.48146788, 0.48113883, 0.51522236, 0.51078116])"
            ]
          },
          "metadata": {
            "tags": []
          },
          "execution_count": 43
        }
      ]
    },
    {
      "cell_type": "code",
      "metadata": {
        "id": "jMm3t2tK5QQz"
      },
      "source": [
        "glm_fit_sm_pred = glm_fit_sm.predict() >= 0.5"
      ],
      "execution_count": 45,
      "outputs": []
    },
    {
      "cell_type": "code",
      "metadata": {
        "id": "X9h45vTu4c7H",
        "outputId": "81e8e074-ddb4-48d2-ce9f-069469661b7f",
        "colab": {
          "base_uri": "https://localhost:8080/"
        }
      },
      "source": [
        "glm_fit_sm.pred_table()"
      ],
      "execution_count": 42,
      "outputs": [
        {
          "output_type": "execute_result",
          "data": {
            "text/plain": [
              "array([[145., 457.],\n",
              "       [141., 507.]])"
            ]
          },
          "metadata": {
            "tags": []
          },
          "execution_count": 42
        }
      ]
    },
    {
      "cell_type": "code",
      "metadata": {
        "id": "Aw4jiXEI43oa",
        "outputId": "0b5f85ea-d2aa-4800-af51-bd077a22b4cf",
        "colab": {
          "base_uri": "https://localhost:8080/"
        }
      },
      "source": [
        "np.mean(glm_fit_sm_pred == y_sm)"
      ],
      "execution_count": 46,
      "outputs": [
        {
          "output_type": "execute_result",
          "data": {
            "text/plain": [
              "0.5216"
            ]
          },
          "metadata": {
            "tags": []
          },
          "execution_count": 46
        }
      ]
    },
    {
      "cell_type": "markdown",
      "metadata": {
        "id": "mKgHzmbM5tvT"
      },
      "source": [
        "### Using scikit-learn"
      ]
    },
    {
      "cell_type": "code",
      "metadata": {
        "id": "GeUhOuXR5wx7"
      },
      "source": [
        "from sklearn.linear_model import LogisticRegression\n",
        "\n",
        "X_sk = smarket.loc[:,'Lag1':'Volume']\n",
        "y_sk = smarket.Direction\n",
        "\n",
        "glm_model = LogisticRegression(fit_intercept=True, C=1e9) # Large C for no regularization\n",
        "glm_fit = glm_model.fit(X_sk, y_sk)"
      ],
      "execution_count": 78,
      "outputs": []
    },
    {
      "cell_type": "code",
      "metadata": {
        "id": "A6JzvvE756pC",
        "outputId": "98cf8b7f-70ad-4388-d186-4ff6168a27e6",
        "colab": {
          "base_uri": "https://localhost:8080/"
        }
      },
      "source": [
        "glm_fit.intercept_, glm_fit.coef_"
      ],
      "execution_count": 49,
      "outputs": [
        {
          "output_type": "execute_result",
          "data": {
            "text/plain": [
              "(array([-0.12600781]),\n",
              " array([[-0.07307339, -0.04230074,  0.01108552,  0.00935968,  0.01031339,\n",
              "          0.13544567]]))"
            ]
          },
          "metadata": {
            "tags": []
          },
          "execution_count": 49
        }
      ]
    },
    {
      "cell_type": "code",
      "metadata": {
        "id": "qyUxFmOa6Zq5",
        "outputId": "d3ea0ea5-3d26-4072-d4e9-519b9caa359f",
        "colab": {
          "base_uri": "https://localhost:8080/",
          "height": 406
        }
      },
      "source": [
        "# prediction summary\n",
        "pd.DataFrame({'prob_0': glm_fit.predict_proba(X_sk)[:, 0], \n",
        "              'prob_1': glm_fit.predict_proba(X_sk)[:, 1], \n",
        "              'pred_class': glm_fit.predict(X_sk)}, \n",
        "             columns=['prob_0', 'prob_1', 'pred_class'])"
      ],
      "execution_count": 54,
      "outputs": [
        {
          "output_type": "execute_result",
          "data": {
            "text/html": [
              "<div>\n",
              "<style scoped>\n",
              "    .dataframe tbody tr th:only-of-type {\n",
              "        vertical-align: middle;\n",
              "    }\n",
              "\n",
              "    .dataframe tbody tr th {\n",
              "        vertical-align: top;\n",
              "    }\n",
              "\n",
              "    .dataframe thead th {\n",
              "        text-align: right;\n",
              "    }\n",
              "</style>\n",
              "<table border=\"1\" class=\"dataframe\">\n",
              "  <thead>\n",
              "    <tr style=\"text-align: right;\">\n",
              "      <th></th>\n",
              "      <th>prob_0</th>\n",
              "      <th>prob_1</th>\n",
              "      <th>pred_class</th>\n",
              "    </tr>\n",
              "  </thead>\n",
              "  <tbody>\n",
              "    <tr>\n",
              "      <th>0</th>\n",
              "      <td>0.492916</td>\n",
              "      <td>0.507084</td>\n",
              "      <td>Up</td>\n",
              "    </tr>\n",
              "    <tr>\n",
              "      <th>1</th>\n",
              "      <td>0.518533</td>\n",
              "      <td>0.481467</td>\n",
              "      <td>Down</td>\n",
              "    </tr>\n",
              "    <tr>\n",
              "      <th>2</th>\n",
              "      <td>0.518861</td>\n",
              "      <td>0.481139</td>\n",
              "      <td>Down</td>\n",
              "    </tr>\n",
              "    <tr>\n",
              "      <th>3</th>\n",
              "      <td>0.484778</td>\n",
              "      <td>0.515222</td>\n",
              "      <td>Up</td>\n",
              "    </tr>\n",
              "    <tr>\n",
              "      <th>4</th>\n",
              "      <td>0.489219</td>\n",
              "      <td>0.510781</td>\n",
              "      <td>Up</td>\n",
              "    </tr>\n",
              "    <tr>\n",
              "      <th>...</th>\n",
              "      <td>...</td>\n",
              "      <td>...</td>\n",
              "      <td>...</td>\n",
              "    </tr>\n",
              "    <tr>\n",
              "      <th>1245</th>\n",
              "      <td>0.480107</td>\n",
              "      <td>0.519893</td>\n",
              "      <td>Up</td>\n",
              "    </tr>\n",
              "    <tr>\n",
              "      <th>1246</th>\n",
              "      <td>0.494075</td>\n",
              "      <td>0.505925</td>\n",
              "      <td>Up</td>\n",
              "    </tr>\n",
              "    <tr>\n",
              "      <th>1247</th>\n",
              "      <td>0.460732</td>\n",
              "      <td>0.539268</td>\n",
              "      <td>Up</td>\n",
              "    </tr>\n",
              "    <tr>\n",
              "      <th>1248</th>\n",
              "      <td>0.473882</td>\n",
              "      <td>0.526118</td>\n",
              "      <td>Up</td>\n",
              "    </tr>\n",
              "    <tr>\n",
              "      <th>1249</th>\n",
              "      <td>0.482084</td>\n",
              "      <td>0.517916</td>\n",
              "      <td>Up</td>\n",
              "    </tr>\n",
              "  </tbody>\n",
              "</table>\n",
              "<p>1250 rows × 3 columns</p>\n",
              "</div>"
            ],
            "text/plain": [
              "        prob_0    prob_1 pred_class\n",
              "0     0.492916  0.507084         Up\n",
              "1     0.518533  0.481467       Down\n",
              "2     0.518861  0.481139       Down\n",
              "3     0.484778  0.515222         Up\n",
              "4     0.489219  0.510781         Up\n",
              "...        ...       ...        ...\n",
              "1245  0.480107  0.519893         Up\n",
              "1246  0.494075  0.505925         Up\n",
              "1247  0.460732  0.539268         Up\n",
              "1248  0.473882  0.526118         Up\n",
              "1249  0.482084  0.517916         Up\n",
              "\n",
              "[1250 rows x 3 columns]"
            ]
          },
          "metadata": {
            "tags": []
          },
          "execution_count": 54
        }
      ]
    },
    {
      "cell_type": "code",
      "metadata": {
        "id": "nGNQOwWZ57Gt",
        "outputId": "27c3492c-e4fb-4386-8aa2-269856454fd1",
        "colab": {
          "base_uri": "https://localhost:8080/",
          "height": 137
        }
      },
      "source": [
        "from sklearn.metrics import confusion_matrix, accuracy_score\n",
        "\n",
        "# labeled confusion matrix for predicted values\n",
        "conf_m = pd.DataFrame(confusion_matrix(y_sk, glm_fit.predict(X_sk)))\n",
        "conf_m.columns.name = 'Predicted'\n",
        "conf_m.index.name = 'True'\n",
        "conf_m"
      ],
      "execution_count": 53,
      "outputs": [
        {
          "output_type": "execute_result",
          "data": {
            "text/html": [
              "<div>\n",
              "<style scoped>\n",
              "    .dataframe tbody tr th:only-of-type {\n",
              "        vertical-align: middle;\n",
              "    }\n",
              "\n",
              "    .dataframe tbody tr th {\n",
              "        vertical-align: top;\n",
              "    }\n",
              "\n",
              "    .dataframe thead th {\n",
              "        text-align: right;\n",
              "    }\n",
              "</style>\n",
              "<table border=\"1\" class=\"dataframe\">\n",
              "  <thead>\n",
              "    <tr style=\"text-align: right;\">\n",
              "      <th>Predicted</th>\n",
              "      <th>0</th>\n",
              "      <th>1</th>\n",
              "    </tr>\n",
              "    <tr>\n",
              "      <th>True</th>\n",
              "      <th></th>\n",
              "      <th></th>\n",
              "    </tr>\n",
              "  </thead>\n",
              "  <tbody>\n",
              "    <tr>\n",
              "      <th>0</th>\n",
              "      <td>145</td>\n",
              "      <td>457</td>\n",
              "    </tr>\n",
              "    <tr>\n",
              "      <th>1</th>\n",
              "      <td>141</td>\n",
              "      <td>507</td>\n",
              "    </tr>\n",
              "  </tbody>\n",
              "</table>\n",
              "</div>"
            ],
            "text/plain": [
              "Predicted    0    1\n",
              "True               \n",
              "0          145  457\n",
              "1          141  507"
            ]
          },
          "metadata": {
            "tags": []
          },
          "execution_count": 53
        }
      ]
    },
    {
      "cell_type": "code",
      "metadata": {
        "id": "0YC7o-BR6gbq",
        "outputId": "3f8c8d40-deb3-4a04-943c-e60682721004",
        "colab": {
          "base_uri": "https://localhost:8080/"
        }
      },
      "source": [
        "print('Train Accuracy: ' + str(accuracy_score(y_sk, glm_fit.predict(X_sk))))\n",
        "print('Training Error: ' + str(1 - accuracy_score(y_sk, glm_fit.predict(X_sk))))"
      ],
      "execution_count": 70,
      "outputs": [
        {
          "output_type": "stream",
          "text": [
            "Train Accuracy: 0.5176\n",
            "Training Error: 0.48240000000000005\n"
          ],
          "name": "stdout"
        }
      ]
    },
    {
      "cell_type": "code",
      "metadata": {
        "id": "8yTuav3H790I"
      },
      "source": [
        "# separate training and test sets\n",
        "train = smarket.loc[smarket.Year < 2005]\n",
        "smarket_2005 = smarket.loc[smarket.Year >= 2005]"
      ],
      "execution_count": 59,
      "outputs": []
    },
    {
      "cell_type": "code",
      "metadata": {
        "id": "bDHuOvFU8n9l"
      },
      "source": [
        "X_sk_train = train.loc[:,'Lag1':'Volume']\n",
        "y_sk_train = train.Direction\n",
        "\n",
        "X_sk_test = smarket_2005.loc[:,'Lag1':'Volume']\n",
        "y_sk_test = smarket_2005.Direction\n",
        "\n",
        "glm_model_t = LogisticRegression(fit_intercept=True, C=1e9) # Large C for no regularization\n",
        "glm_fit_t = glm_model.fit(X_sk_train, y_sk_train)"
      ],
      "execution_count": 68,
      "outputs": []
    },
    {
      "cell_type": "code",
      "metadata": {
        "id": "Yf2u3Y_v8p15",
        "outputId": "00cc3df3-cd7c-45bb-83dc-0afa499051e8",
        "colab": {
          "base_uri": "https://localhost:8080/",
          "height": 137
        }
      },
      "source": [
        "conf_m = pd.DataFrame(confusion_matrix(y_sk_test, glm_fit.predict(X_sk_test)))\n",
        "conf_m.columns.name = 'Predicted'\n",
        "conf_m.index.name = 'True'\n",
        "conf_m"
      ],
      "execution_count": 61,
      "outputs": [
        {
          "output_type": "execute_result",
          "data": {
            "text/html": [
              "<div>\n",
              "<style scoped>\n",
              "    .dataframe tbody tr th:only-of-type {\n",
              "        vertical-align: middle;\n",
              "    }\n",
              "\n",
              "    .dataframe tbody tr th {\n",
              "        vertical-align: top;\n",
              "    }\n",
              "\n",
              "    .dataframe thead th {\n",
              "        text-align: right;\n",
              "    }\n",
              "</style>\n",
              "<table border=\"1\" class=\"dataframe\">\n",
              "  <thead>\n",
              "    <tr style=\"text-align: right;\">\n",
              "      <th>Predicted</th>\n",
              "      <th>0</th>\n",
              "      <th>1</th>\n",
              "    </tr>\n",
              "    <tr>\n",
              "      <th>True</th>\n",
              "      <th></th>\n",
              "      <th></th>\n",
              "    </tr>\n",
              "  </thead>\n",
              "  <tbody>\n",
              "    <tr>\n",
              "      <th>0</th>\n",
              "      <td>77</td>\n",
              "      <td>34</td>\n",
              "    </tr>\n",
              "    <tr>\n",
              "      <th>1</th>\n",
              "      <td>97</td>\n",
              "      <td>44</td>\n",
              "    </tr>\n",
              "  </tbody>\n",
              "</table>\n",
              "</div>"
            ],
            "text/plain": [
              "Predicted   0   1\n",
              "True             \n",
              "0          77  34\n",
              "1          97  44"
            ]
          },
          "metadata": {
            "tags": []
          },
          "execution_count": 61
        }
      ]
    },
    {
      "cell_type": "code",
      "metadata": {
        "id": "N1fsRoMP8t72",
        "outputId": "f9214ea9-506c-467c-c43a-5c1f92c8a648",
        "colab": {
          "base_uri": "https://localhost:8080/"
        }
      },
      "source": [
        "print('Test Accuracy: ' + str(accuracy_score(y_sk_test, glm_fit.predict(X_sk_test))))\n",
        "print('Test Error: ' + str(1 - accuracy_score(y_sk_test, glm_fit.predict(X_sk_test))))"
      ],
      "execution_count": 69,
      "outputs": [
        {
          "output_type": "stream",
          "text": [
            "Test Accuracy: 0.4801587301587302\n",
            "Test Error: 0.5198412698412698\n"
          ],
          "name": "stdout"
        }
      ]
    },
    {
      "cell_type": "code",
      "metadata": {
        "id": "CW0xIdxt81Ji"
      },
      "source": [
        "X_sk_train_s = train.loc[:,'Lag1':'Lag2']\n",
        "y_sk_train_s = train.Direction\n",
        "\n",
        "X_sk_test_s = smarket_2005.loc[:,'Lag1':'Lag2']\n",
        "y_sk_test_s = smarket_2005.Direction\n",
        "\n",
        "glm_model_t_s = LogisticRegression(fit_intercept=True, C=1e9) # Large C for no regularization\n",
        "glm_fit_t_s = glm_model.fit(X_sk_train_s, y_sk_train_s)"
      ],
      "execution_count": 73,
      "outputs": []
    },
    {
      "cell_type": "code",
      "metadata": {
        "id": "OQ_2pOJU9E4a",
        "outputId": "47e52b58-9827-4eab-8da5-114d2b7800cd",
        "colab": {
          "base_uri": "https://localhost:8080/",
          "height": 137
        }
      },
      "source": [
        "conf_m = pd.DataFrame(confusion_matrix(y_sk_test_s, glm_fit.predict(X_sk_test_s)))\n",
        "conf_m.columns.name = 'Predicted'\n",
        "conf_m.index.name = 'True'\n",
        "conf_m"
      ],
      "execution_count": 64,
      "outputs": [
        {
          "output_type": "execute_result",
          "data": {
            "text/html": [
              "<div>\n",
              "<style scoped>\n",
              "    .dataframe tbody tr th:only-of-type {\n",
              "        vertical-align: middle;\n",
              "    }\n",
              "\n",
              "    .dataframe tbody tr th {\n",
              "        vertical-align: top;\n",
              "    }\n",
              "\n",
              "    .dataframe thead th {\n",
              "        text-align: right;\n",
              "    }\n",
              "</style>\n",
              "<table border=\"1\" class=\"dataframe\">\n",
              "  <thead>\n",
              "    <tr style=\"text-align: right;\">\n",
              "      <th>Predicted</th>\n",
              "      <th>0</th>\n",
              "      <th>1</th>\n",
              "    </tr>\n",
              "    <tr>\n",
              "      <th>True</th>\n",
              "      <th></th>\n",
              "      <th></th>\n",
              "    </tr>\n",
              "  </thead>\n",
              "  <tbody>\n",
              "    <tr>\n",
              "      <th>0</th>\n",
              "      <td>35</td>\n",
              "      <td>76</td>\n",
              "    </tr>\n",
              "    <tr>\n",
              "      <th>1</th>\n",
              "      <td>35</td>\n",
              "      <td>106</td>\n",
              "    </tr>\n",
              "  </tbody>\n",
              "</table>\n",
              "</div>"
            ],
            "text/plain": [
              "Predicted   0    1\n",
              "True              \n",
              "0          35   76\n",
              "1          35  106"
            ]
          },
          "metadata": {
            "tags": []
          },
          "execution_count": 64
        }
      ]
    },
    {
      "cell_type": "code",
      "metadata": {
        "id": "XxlyeWFC9HlL",
        "outputId": "39a18a01-4d35-46df-f455-b4bb62bb360f",
        "colab": {
          "base_uri": "https://localhost:8080/"
        }
      },
      "source": [
        "print('Test Accuracy: ' + str(accuracy_score(y_sk_test_s, glm_fit.predict(X_sk_test_s))))\n",
        "print('Test Error: ' + str(1 - accuracy_score(y_sk_test_s, glm_fit.predict(X_sk_test_s))))"
      ],
      "execution_count": 66,
      "outputs": [
        {
          "output_type": "stream",
          "text": [
            "Test Accuracy: 0.5595238095238095\n",
            "Test Error: 0.44047619047619047\n"
          ],
          "name": "stdout"
        }
      ]
    },
    {
      "cell_type": "code",
      "metadata": {
        "id": "_nTjpQJJ9LP0",
        "outputId": "fcd8b140-6a5b-499b-9787-3ec1e6f6937c",
        "colab": {
          "base_uri": "https://localhost:8080/",
          "height": 107
        }
      },
      "source": [
        "# predictions for arbitrary data\n",
        "\n",
        "predict_data = pd.DataFrame({'Lag1': [1.2, 1.5], 'Lag2': [1.1, -0.8]})\n",
        "\n",
        "df = pd.DataFrame(glm_fit.predict_proba(predict_data))\n",
        "df.columns = ['pred_0', 'pred_1']\n",
        "df"
      ],
      "execution_count": 76,
      "outputs": [
        {
          "output_type": "execute_result",
          "data": {
            "text/html": [
              "<div>\n",
              "<style scoped>\n",
              "    .dataframe tbody tr th:only-of-type {\n",
              "        vertical-align: middle;\n",
              "    }\n",
              "\n",
              "    .dataframe tbody tr th {\n",
              "        vertical-align: top;\n",
              "    }\n",
              "\n",
              "    .dataframe thead th {\n",
              "        text-align: right;\n",
              "    }\n",
              "</style>\n",
              "<table border=\"1\" class=\"dataframe\">\n",
              "  <thead>\n",
              "    <tr style=\"text-align: right;\">\n",
              "      <th></th>\n",
              "      <th>pred_0</th>\n",
              "      <th>pred_1</th>\n",
              "    </tr>\n",
              "  </thead>\n",
              "  <tbody>\n",
              "    <tr>\n",
              "      <th>0</th>\n",
              "      <td>0.520854</td>\n",
              "      <td>0.479146</td>\n",
              "    </tr>\n",
              "    <tr>\n",
              "      <th>1</th>\n",
              "      <td>0.503889</td>\n",
              "      <td>0.496111</td>\n",
              "    </tr>\n",
              "  </tbody>\n",
              "</table>\n",
              "</div>"
            ],
            "text/plain": [
              "     pred_0    pred_1\n",
              "0  0.520854  0.479146\n",
              "1  0.503889  0.496111"
            ]
          },
          "metadata": {
            "tags": []
          },
          "execution_count": 76
        }
      ]
    },
    {
      "cell_type": "markdown",
      "metadata": {
        "id": "RSpk6Bri-qJu"
      },
      "source": [
        "## 4.6.3 Linear Discriminant Analysis"
      ]
    },
    {
      "cell_type": "code",
      "metadata": {
        "id": "MQoTHYdh-L5j"
      },
      "source": [
        "from sklearn.discriminant_analysis import LinearDiscriminantAnalysis\n",
        "\n",
        "X_train = train.loc[:,'Lag1':'Lag2']\n",
        "y_train = train.Direction\n",
        "\n",
        "X_test = smarket_2005.loc[:,'Lag1':'Lag2']\n",
        "y_test = smarket_2005.Direction\n",
        "\n",
        "lda_model = LinearDiscriminantAnalysis()\n",
        "lda_fit = lda_model.fit(X_train, y_train)"
      ],
      "execution_count": 79,
      "outputs": []
    },
    {
      "cell_type": "code",
      "metadata": {
        "id": "FTtsgU4mDe88",
        "outputId": "c1c402d0-c43a-45ba-d724-b4dd0036d37b",
        "colab": {
          "base_uri": "https://localhost:8080/",
          "height": 77
        }
      },
      "source": [
        "df = pd.DataFrame(lda_fit.priors_.reshape((1,2))) # group priors\n",
        "df.columns = ['Down', 'Up']\n",
        "df"
      ],
      "execution_count": 82,
      "outputs": [
        {
          "output_type": "execute_result",
          "data": {
            "text/html": [
              "<div>\n",
              "<style scoped>\n",
              "    .dataframe tbody tr th:only-of-type {\n",
              "        vertical-align: middle;\n",
              "    }\n",
              "\n",
              "    .dataframe tbody tr th {\n",
              "        vertical-align: top;\n",
              "    }\n",
              "\n",
              "    .dataframe thead th {\n",
              "        text-align: right;\n",
              "    }\n",
              "</style>\n",
              "<table border=\"1\" class=\"dataframe\">\n",
              "  <thead>\n",
              "    <tr style=\"text-align: right;\">\n",
              "      <th></th>\n",
              "      <th>Down</th>\n",
              "      <th>Up</th>\n",
              "    </tr>\n",
              "  </thead>\n",
              "  <tbody>\n",
              "    <tr>\n",
              "      <th>0</th>\n",
              "      <td>0.491984</td>\n",
              "      <td>0.508016</td>\n",
              "    </tr>\n",
              "  </tbody>\n",
              "</table>\n",
              "</div>"
            ],
            "text/plain": [
              "       Down        Up\n",
              "0  0.491984  0.508016"
            ]
          },
          "metadata": {
            "tags": []
          },
          "execution_count": 82
        }
      ]
    },
    {
      "cell_type": "code",
      "metadata": {
        "id": "bAu6lOqODffc",
        "outputId": "8241a8ad-422e-4528-e0a2-6472f7390b17",
        "colab": {
          "base_uri": "https://localhost:8080/",
          "height": 107
        }
      },
      "source": [
        "df = pd.DataFrame(lda_fit.means_) # group means\n",
        "df.columns = ['Lag1', 'Lag2']\n",
        "df.index = ['Down', 'Up']\n",
        "df"
      ],
      "execution_count": 86,
      "outputs": [
        {
          "output_type": "execute_result",
          "data": {
            "text/html": [
              "<div>\n",
              "<style scoped>\n",
              "    .dataframe tbody tr th:only-of-type {\n",
              "        vertical-align: middle;\n",
              "    }\n",
              "\n",
              "    .dataframe tbody tr th {\n",
              "        vertical-align: top;\n",
              "    }\n",
              "\n",
              "    .dataframe thead th {\n",
              "        text-align: right;\n",
              "    }\n",
              "</style>\n",
              "<table border=\"1\" class=\"dataframe\">\n",
              "  <thead>\n",
              "    <tr style=\"text-align: right;\">\n",
              "      <th></th>\n",
              "      <th>Lag1</th>\n",
              "      <th>Lag2</th>\n",
              "    </tr>\n",
              "  </thead>\n",
              "  <tbody>\n",
              "    <tr>\n",
              "      <th>Down</th>\n",
              "      <td>0.042790</td>\n",
              "      <td>0.033894</td>\n",
              "    </tr>\n",
              "    <tr>\n",
              "      <th>Up</th>\n",
              "      <td>-0.039546</td>\n",
              "      <td>-0.031325</td>\n",
              "    </tr>\n",
              "  </tbody>\n",
              "</table>\n",
              "</div>"
            ],
            "text/plain": [
              "          Lag1      Lag2\n",
              "Down  0.042790  0.033894\n",
              "Up   -0.039546 -0.031325"
            ]
          },
          "metadata": {
            "tags": []
          },
          "execution_count": 86
        }
      ]
    },
    {
      "cell_type": "code",
      "metadata": {
        "id": "DQweoc0AD-c4",
        "outputId": "83b12a04-3881-490d-9dbb-1b072629a7cb",
        "colab": {
          "base_uri": "https://localhost:8080/"
        }
      },
      "source": [
        "lda_fit.scalings_ # coefficients of ld"
      ],
      "execution_count": 87,
      "outputs": [
        {
          "output_type": "execute_result",
          "data": {
            "text/plain": [
              "array([[-0.64201904],\n",
              "       [-0.51352928]])"
            ]
          },
          "metadata": {
            "tags": []
          },
          "execution_count": 87
        }
      ]
    },
    {
      "cell_type": "code",
      "metadata": {
        "id": "LwGjiCeCHIFW",
        "outputId": "dc24cf12-a217-481b-9ad4-79c532e1a79a",
        "colab": {
          "base_uri": "https://localhost:8080/",
          "height": 224
        }
      },
      "source": [
        "# for plotting lda, needs imporovement\n",
        "ld_sc = X_train.iloc[:, 0] * lda_fit.scalings_[0] + X_train.iloc[:, 1] * lda_fit.scalings_[1]\n",
        "\n",
        "ld = pd.DataFrame({'groups': y_train, 'ld': ld_sc})\n",
        "\n",
        "g = sns.FacetGrid(ld, col='groups')\n",
        "g.map(plt.hist, 'ld');"
      ],
      "execution_count": 88,
      "outputs": [
        {
          "output_type": "display_data",
          "data": {
            "image/png": "[encoded data removed]",
            "text/plain": [
              "<Figure size 432x216 with 2 Axes>"
            ]
          },
          "metadata": {
            "tags": []
          }
        }
      ]
    },
    {
      "cell_type": "code",
      "metadata": {
        "id": "GnKFtIvKHyhg"
      },
      "source": [
        ""
      ],
      "execution_count": null,
      "outputs": []
    }
  ]
}