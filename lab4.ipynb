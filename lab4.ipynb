{
  "nbformat": 4,
  "nbformat_minor": 0,
  "metadata": {
    "colab": {
      "name": "lab4.ipynb",
      "provenance": [],
      "authorship_tag": "ABX9TyNgj/wDM8FCpUYSrBRzv/ds",
      "include_colab_link": true
    },
    "kernelspec": {
      "name": "python3",
      "display_name": "Python 3"
    }
  },
  "cells": [
    {
      "cell_type": "markdown",
      "metadata": {
        "id": "view-in-github",
        "colab_type": "text"
      },
      "source": [
        "<a href=\"https://colab.research.google.com/github/mjalalimanesh/statistical-learning-ISLR-python/blob/master/lab4.ipynb\" target=\"_parent\"><img src=\"https://colab.research.google.com/assets/colab-badge.svg\" alt=\"Open In Colab\"/></a>"
      ]
    },
    {
      "cell_type": "markdown",
      "metadata": {
        "id": "vPirBmxBvEjK"
      },
      "source": [
        "**ISLR book**\n",
        "\n",
        "https://github.com/mjalalimanesh/statistical-learning-ISLR-python\n",
        "\n",
        "**Chapter 4 Lab : Logistic Regression, LDA, QDA, and KNN**"
      ]
    },
    {
      "cell_type": "markdown",
      "metadata": {
        "id": "sQsxSGirvkpc"
      },
      "source": [
        "Import libraries"
      ]
    },
    {
      "cell_type": "code",
      "metadata": {
        "id": "6umprrPGuZil",
        "outputId": "05f909ed-74f4-4892-9e74-2d824ac22a9f",
        "colab": {
          "base_uri": "https://localhost:8080/"
        }
      },
      "source": [
        "# %load ../standard_import.txt\n",
        "import pandas as pd\n",
        "import numpy as np\n",
        "import matplotlib as mpl\n",
        "import matplotlib.pyplot as plt\n",
        "import seaborn as sns\n",
        "\n",
        "import sklearn.linear_model as skl_lm\n",
        "from sklearn.discriminant_analysis import LinearDiscriminantAnalysis\n",
        "from sklearn.discriminant_analysis import QuadraticDiscriminantAnalysis\n",
        "from sklearn.metrics import confusion_matrix, classification_report, precision_score\n",
        "from sklearn import preprocessing\n",
        "from sklearn import neighbors\n",
        "\n",
        "import statsmodels.api as sm\n",
        "import statsmodels.formula.api as smf\n",
        "\n",
        "%matplotlib inline\n",
        "plt.style.use('seaborn-white')"
      ],
      "execution_count": 1,
      "outputs": [
        {
          "output_type": "stream",
          "text": [
            "/usr/local/lib/python3.6/dist-packages/statsmodels/tools/_testing.py:19: FutureWarning: pandas.util.testing is deprecated. Use the functions in the public API at pandas.testing instead.\n",
            "  import pandas.util.testing as tm\n"
          ],
          "name": "stderr"
        }
      ]
    },
    {
      "cell_type": "markdown",
      "metadata": {
        "id": "sP18lBl6vo6r"
      },
      "source": [
        "## 4.6.1 The Stock market data"
      ]
    },
    {
      "cell_type": "code",
      "metadata": {
        "id": "WslWKMIvvuLj",
        "outputId": "d23892f3-dae2-4fed-a85d-54387a7b394e",
        "colab": {
          "base_uri": "https://localhost:8080/",
          "height": 197
        }
      },
      "source": [
        "# load data\n",
        "smarket = pd.read_csv('https://raw.githubusercontent.com/mjalalimanesh/statistical-learning-ISLR-python/master/datasets/Smarket.csv', index_col=0)\n",
        "smarket.Direction = smarket.Direction.astype('category')\n",
        "smarket.head()"
      ],
      "execution_count": 2,
      "outputs": [
        {
          "output_type": "execute_result",
          "data": {
            "text/html": [
              "<div>\n",
              "<style scoped>\n",
              "    .dataframe tbody tr th:only-of-type {\n",
              "        vertical-align: middle;\n",
              "    }\n",
              "\n",
              "    .dataframe tbody tr th {\n",
              "        vertical-align: top;\n",
              "    }\n",
              "\n",
              "    .dataframe thead th {\n",
              "        text-align: right;\n",
              "    }\n",
              "</style>\n",
              "<table border=\"1\" class=\"dataframe\">\n",
              "  <thead>\n",
              "    <tr style=\"text-align: right;\">\n",
              "      <th></th>\n",
              "      <th>Year</th>\n",
              "      <th>Lag1</th>\n",
              "      <th>Lag2</th>\n",
              "      <th>Lag3</th>\n",
              "      <th>Lag4</th>\n",
              "      <th>Lag5</th>\n",
              "      <th>Volume</th>\n",
              "      <th>Today</th>\n",
              "      <th>Direction</th>\n",
              "    </tr>\n",
              "  </thead>\n",
              "  <tbody>\n",
              "    <tr>\n",
              "      <th>1</th>\n",
              "      <td>2001</td>\n",
              "      <td>0.381</td>\n",
              "      <td>-0.192</td>\n",
              "      <td>-2.624</td>\n",
              "      <td>-1.055</td>\n",
              "      <td>5.010</td>\n",
              "      <td>1.1913</td>\n",
              "      <td>0.959</td>\n",
              "      <td>Up</td>\n",
              "    </tr>\n",
              "    <tr>\n",
              "      <th>2</th>\n",
              "      <td>2001</td>\n",
              "      <td>0.959</td>\n",
              "      <td>0.381</td>\n",
              "      <td>-0.192</td>\n",
              "      <td>-2.624</td>\n",
              "      <td>-1.055</td>\n",
              "      <td>1.2965</td>\n",
              "      <td>1.032</td>\n",
              "      <td>Up</td>\n",
              "    </tr>\n",
              "    <tr>\n",
              "      <th>3</th>\n",
              "      <td>2001</td>\n",
              "      <td>1.032</td>\n",
              "      <td>0.959</td>\n",
              "      <td>0.381</td>\n",
              "      <td>-0.192</td>\n",
              "      <td>-2.624</td>\n",
              "      <td>1.4112</td>\n",
              "      <td>-0.623</td>\n",
              "      <td>Down</td>\n",
              "    </tr>\n",
              "    <tr>\n",
              "      <th>4</th>\n",
              "      <td>2001</td>\n",
              "      <td>-0.623</td>\n",
              "      <td>1.032</td>\n",
              "      <td>0.959</td>\n",
              "      <td>0.381</td>\n",
              "      <td>-0.192</td>\n",
              "      <td>1.2760</td>\n",
              "      <td>0.614</td>\n",
              "      <td>Up</td>\n",
              "    </tr>\n",
              "    <tr>\n",
              "      <th>5</th>\n",
              "      <td>2001</td>\n",
              "      <td>0.614</td>\n",
              "      <td>-0.623</td>\n",
              "      <td>1.032</td>\n",
              "      <td>0.959</td>\n",
              "      <td>0.381</td>\n",
              "      <td>1.2057</td>\n",
              "      <td>0.213</td>\n",
              "      <td>Up</td>\n",
              "    </tr>\n",
              "  </tbody>\n",
              "</table>\n",
              "</div>"
            ],
            "text/plain": [
              "   Year   Lag1   Lag2   Lag3   Lag4   Lag5  Volume  Today Direction\n",
              "1  2001  0.381 -0.192 -2.624 -1.055  5.010  1.1913  0.959        Up\n",
              "2  2001  0.959  0.381 -0.192 -2.624 -1.055  1.2965  1.032        Up\n",
              "3  2001  1.032  0.959  0.381 -0.192 -2.624  1.4112 -0.623      Down\n",
              "4  2001 -0.623  1.032  0.959  0.381 -0.192  1.2760  0.614        Up\n",
              "5  2001  0.614 -0.623  1.032  0.959  0.381  1.2057  0.213        Up"
            ]
          },
          "metadata": {
            "tags": []
          },
          "execution_count": 2
        }
      ]
    },
    {
      "cell_type": "code",
      "metadata": {
        "id": "_OOyUOQRwIAj",
        "outputId": "ba4233bf-c6ce-4d80-fd5d-722885a6f52d",
        "colab": {
          "base_uri": "https://localhost:8080/"
        }
      },
      "source": [
        "smarket.columns"
      ],
      "execution_count": 3,
      "outputs": [
        {
          "output_type": "execute_result",
          "data": {
            "text/plain": [
              "Index(['Year', 'Lag1', 'Lag2', 'Lag3', 'Lag4', 'Lag5', 'Volume', 'Today',\n",
              "       'Direction'],\n",
              "      dtype='object')"
            ]
          },
          "metadata": {
            "tags": []
          },
          "execution_count": 3
        }
      ]
    },
    {
      "cell_type": "code",
      "metadata": {
        "id": "ZDRHyCTDwX95",
        "outputId": "f1178ad3-3031-45bf-9d18-b1a01478e0b2",
        "colab": {
          "base_uri": "https://localhost:8080/"
        }
      },
      "source": [
        "smarket.shape"
      ],
      "execution_count": 4,
      "outputs": [
        {
          "output_type": "execute_result",
          "data": {
            "text/plain": [
              "(1250, 9)"
            ]
          },
          "metadata": {
            "tags": []
          },
          "execution_count": 4
        }
      ]
    },
    {
      "cell_type": "code",
      "metadata": {
        "id": "V553dMY5wZxj",
        "outputId": "0666caa2-a55a-4731-e4cb-73ad46147eb8",
        "colab": {
          "base_uri": "https://localhost:8080/",
          "height": 377
        }
      },
      "source": [
        "smarket.describe(include='all')"
      ],
      "execution_count": 5,
      "outputs": [
        {
          "output_type": "execute_result",
          "data": {
            "text/html": [
              "<div>\n",
              "<style scoped>\n",
              "    .dataframe tbody tr th:only-of-type {\n",
              "        vertical-align: middle;\n",
              "    }\n",
              "\n",
              "    .dataframe tbody tr th {\n",
              "        vertical-align: top;\n",
              "    }\n",
              "\n",
              "    .dataframe thead th {\n",
              "        text-align: right;\n",
              "    }\n",
              "</style>\n",
              "<table border=\"1\" class=\"dataframe\">\n",
              "  <thead>\n",
              "    <tr style=\"text-align: right;\">\n",
              "      <th></th>\n",
              "      <th>Year</th>\n",
              "      <th>Lag1</th>\n",
              "      <th>Lag2</th>\n",
              "      <th>Lag3</th>\n",
              "      <th>Lag4</th>\n",
              "      <th>Lag5</th>\n",
              "      <th>Volume</th>\n",
              "      <th>Today</th>\n",
              "      <th>Direction</th>\n",
              "    </tr>\n",
              "  </thead>\n",
              "  <tbody>\n",
              "    <tr>\n",
              "      <th>count</th>\n",
              "      <td>1250.000000</td>\n",
              "      <td>1250.000000</td>\n",
              "      <td>1250.000000</td>\n",
              "      <td>1250.000000</td>\n",
              "      <td>1250.000000</td>\n",
              "      <td>1250.00000</td>\n",
              "      <td>1250.000000</td>\n",
              "      <td>1250.000000</td>\n",
              "      <td>1250</td>\n",
              "    </tr>\n",
              "    <tr>\n",
              "      <th>unique</th>\n",
              "      <td>NaN</td>\n",
              "      <td>NaN</td>\n",
              "      <td>NaN</td>\n",
              "      <td>NaN</td>\n",
              "      <td>NaN</td>\n",
              "      <td>NaN</td>\n",
              "      <td>NaN</td>\n",
              "      <td>NaN</td>\n",
              "      <td>2</td>\n",
              "    </tr>\n",
              "    <tr>\n",
              "      <th>top</th>\n",
              "      <td>NaN</td>\n",
              "      <td>NaN</td>\n",
              "      <td>NaN</td>\n",
              "      <td>NaN</td>\n",
              "      <td>NaN</td>\n",
              "      <td>NaN</td>\n",
              "      <td>NaN</td>\n",
              "      <td>NaN</td>\n",
              "      <td>Up</td>\n",
              "    </tr>\n",
              "    <tr>\n",
              "      <th>freq</th>\n",
              "      <td>NaN</td>\n",
              "      <td>NaN</td>\n",
              "      <td>NaN</td>\n",
              "      <td>NaN</td>\n",
              "      <td>NaN</td>\n",
              "      <td>NaN</td>\n",
              "      <td>NaN</td>\n",
              "      <td>NaN</td>\n",
              "      <td>648</td>\n",
              "    </tr>\n",
              "    <tr>\n",
              "      <th>mean</th>\n",
              "      <td>2003.016000</td>\n",
              "      <td>0.003834</td>\n",
              "      <td>0.003919</td>\n",
              "      <td>0.001716</td>\n",
              "      <td>0.001636</td>\n",
              "      <td>0.00561</td>\n",
              "      <td>1.478305</td>\n",
              "      <td>0.003138</td>\n",
              "      <td>NaN</td>\n",
              "    </tr>\n",
              "    <tr>\n",
              "      <th>std</th>\n",
              "      <td>1.409018</td>\n",
              "      <td>1.136299</td>\n",
              "      <td>1.136280</td>\n",
              "      <td>1.138703</td>\n",
              "      <td>1.138774</td>\n",
              "      <td>1.14755</td>\n",
              "      <td>0.360357</td>\n",
              "      <td>1.136334</td>\n",
              "      <td>NaN</td>\n",
              "    </tr>\n",
              "    <tr>\n",
              "      <th>min</th>\n",
              "      <td>2001.000000</td>\n",
              "      <td>-4.922000</td>\n",
              "      <td>-4.922000</td>\n",
              "      <td>-4.922000</td>\n",
              "      <td>-4.922000</td>\n",
              "      <td>-4.92200</td>\n",
              "      <td>0.356070</td>\n",
              "      <td>-4.922000</td>\n",
              "      <td>NaN</td>\n",
              "    </tr>\n",
              "    <tr>\n",
              "      <th>25%</th>\n",
              "      <td>2002.000000</td>\n",
              "      <td>-0.639500</td>\n",
              "      <td>-0.639500</td>\n",
              "      <td>-0.640000</td>\n",
              "      <td>-0.640000</td>\n",
              "      <td>-0.64000</td>\n",
              "      <td>1.257400</td>\n",
              "      <td>-0.639500</td>\n",
              "      <td>NaN</td>\n",
              "    </tr>\n",
              "    <tr>\n",
              "      <th>50%</th>\n",
              "      <td>2003.000000</td>\n",
              "      <td>0.039000</td>\n",
              "      <td>0.039000</td>\n",
              "      <td>0.038500</td>\n",
              "      <td>0.038500</td>\n",
              "      <td>0.03850</td>\n",
              "      <td>1.422950</td>\n",
              "      <td>0.038500</td>\n",
              "      <td>NaN</td>\n",
              "    </tr>\n",
              "    <tr>\n",
              "      <th>75%</th>\n",
              "      <td>2004.000000</td>\n",
              "      <td>0.596750</td>\n",
              "      <td>0.596750</td>\n",
              "      <td>0.596750</td>\n",
              "      <td>0.596750</td>\n",
              "      <td>0.59700</td>\n",
              "      <td>1.641675</td>\n",
              "      <td>0.596750</td>\n",
              "      <td>NaN</td>\n",
              "    </tr>\n",
              "    <tr>\n",
              "      <th>max</th>\n",
              "      <td>2005.000000</td>\n",
              "      <td>5.733000</td>\n",
              "      <td>5.733000</td>\n",
              "      <td>5.733000</td>\n",
              "      <td>5.733000</td>\n",
              "      <td>5.73300</td>\n",
              "      <td>3.152470</td>\n",
              "      <td>5.733000</td>\n",
              "      <td>NaN</td>\n",
              "    </tr>\n",
              "  </tbody>\n",
              "</table>\n",
              "</div>"
            ],
            "text/plain": [
              "               Year         Lag1  ...        Today  Direction\n",
              "count   1250.000000  1250.000000  ...  1250.000000       1250\n",
              "unique          NaN          NaN  ...          NaN          2\n",
              "top             NaN          NaN  ...          NaN         Up\n",
              "freq            NaN          NaN  ...          NaN        648\n",
              "mean    2003.016000     0.003834  ...     0.003138        NaN\n",
              "std        1.409018     1.136299  ...     1.136334        NaN\n",
              "min     2001.000000    -4.922000  ...    -4.922000        NaN\n",
              "25%     2002.000000    -0.639500  ...    -0.639500        NaN\n",
              "50%     2003.000000     0.039000  ...     0.038500        NaN\n",
              "75%     2004.000000     0.596750  ...     0.596750        NaN\n",
              "max     2005.000000     5.733000  ...     5.733000        NaN\n",
              "\n",
              "[11 rows x 9 columns]"
            ]
          },
          "metadata": {
            "tags": []
          },
          "execution_count": 5
        }
      ]
    },
    {
      "cell_type": "code",
      "metadata": {
        "id": "tJhvYYlUwdvf",
        "outputId": "5c1b49a4-3b15-44a9-91fc-7c1f6ce4e5d4",
        "colab": {
          "base_uri": "https://localhost:8080/"
        }
      },
      "source": [
        "smarket.info(memory_usage='deep')"
      ],
      "execution_count": 6,
      "outputs": [
        {
          "output_type": "stream",
          "text": [
            "<class 'pandas.core.frame.DataFrame'>\n",
            "Int64Index: 1250 entries, 1 to 1250\n",
            "Data columns (total 9 columns):\n",
            " #   Column     Non-Null Count  Dtype   \n",
            "---  ------     --------------  -----   \n",
            " 0   Year       1250 non-null   int64   \n",
            " 1   Lag1       1250 non-null   float64 \n",
            " 2   Lag2       1250 non-null   float64 \n",
            " 3   Lag3       1250 non-null   float64 \n",
            " 4   Lag4       1250 non-null   float64 \n",
            " 5   Lag5       1250 non-null   float64 \n",
            " 6   Volume     1250 non-null   float64 \n",
            " 7   Today      1250 non-null   float64 \n",
            " 8   Direction  1250 non-null   category\n",
            "dtypes: category(1), float64(7), int64(1)\n",
            "memory usage: 89.3 KB\n"
          ],
          "name": "stdout"
        }
      ]
    },
    {
      "cell_type": "code",
      "metadata": {
        "id": "HylSUF4Aw7V3"
      },
      "source": [
        "sns.pairplot(smarket, hue='Direction');"
      ],
      "execution_count": null,
      "outputs": []
    },
    {
      "cell_type": "code",
      "metadata": {
        "id": "q4zLis8Ow75-",
        "outputId": "919671ef-b80a-4380-c20b-545017241b6a",
        "colab": {
          "base_uri": "https://localhost:8080/",
          "height": 287
        }
      },
      "source": [
        "smarket.corr()"
      ],
      "execution_count": 8,
      "outputs": [
        {
          "output_type": "execute_result",
          "data": {
            "text/html": [
              "<div>\n",
              "<style scoped>\n",
              "    .dataframe tbody tr th:only-of-type {\n",
              "        vertical-align: middle;\n",
              "    }\n",
              "\n",
              "    .dataframe tbody tr th {\n",
              "        vertical-align: top;\n",
              "    }\n",
              "\n",
              "    .dataframe thead th {\n",
              "        text-align: right;\n",
              "    }\n",
              "</style>\n",
              "<table border=\"1\" class=\"dataframe\">\n",
              "  <thead>\n",
              "    <tr style=\"text-align: right;\">\n",
              "      <th></th>\n",
              "      <th>Year</th>\n",
              "      <th>Lag1</th>\n",
              "      <th>Lag2</th>\n",
              "      <th>Lag3</th>\n",
              "      <th>Lag4</th>\n",
              "      <th>Lag5</th>\n",
              "      <th>Volume</th>\n",
              "      <th>Today</th>\n",
              "    </tr>\n",
              "  </thead>\n",
              "  <tbody>\n",
              "    <tr>\n",
              "      <th>Year</th>\n",
              "      <td>1.000000</td>\n",
              "      <td>0.029700</td>\n",
              "      <td>0.030596</td>\n",
              "      <td>0.033195</td>\n",
              "      <td>0.035689</td>\n",
              "      <td>0.029788</td>\n",
              "      <td>0.539006</td>\n",
              "      <td>0.030095</td>\n",
              "    </tr>\n",
              "    <tr>\n",
              "      <th>Lag1</th>\n",
              "      <td>0.029700</td>\n",
              "      <td>1.000000</td>\n",
              "      <td>-0.026294</td>\n",
              "      <td>-0.010803</td>\n",
              "      <td>-0.002986</td>\n",
              "      <td>-0.005675</td>\n",
              "      <td>0.040910</td>\n",
              "      <td>-0.026155</td>\n",
              "    </tr>\n",
              "    <tr>\n",
              "      <th>Lag2</th>\n",
              "      <td>0.030596</td>\n",
              "      <td>-0.026294</td>\n",
              "      <td>1.000000</td>\n",
              "      <td>-0.025897</td>\n",
              "      <td>-0.010854</td>\n",
              "      <td>-0.003558</td>\n",
              "      <td>-0.043383</td>\n",
              "      <td>-0.010250</td>\n",
              "    </tr>\n",
              "    <tr>\n",
              "      <th>Lag3</th>\n",
              "      <td>0.033195</td>\n",
              "      <td>-0.010803</td>\n",
              "      <td>-0.025897</td>\n",
              "      <td>1.000000</td>\n",
              "      <td>-0.024051</td>\n",
              "      <td>-0.018808</td>\n",
              "      <td>-0.041824</td>\n",
              "      <td>-0.002448</td>\n",
              "    </tr>\n",
              "    <tr>\n",
              "      <th>Lag4</th>\n",
              "      <td>0.035689</td>\n",
              "      <td>-0.002986</td>\n",
              "      <td>-0.010854</td>\n",
              "      <td>-0.024051</td>\n",
              "      <td>1.000000</td>\n",
              "      <td>-0.027084</td>\n",
              "      <td>-0.048414</td>\n",
              "      <td>-0.006900</td>\n",
              "    </tr>\n",
              "    <tr>\n",
              "      <th>Lag5</th>\n",
              "      <td>0.029788</td>\n",
              "      <td>-0.005675</td>\n",
              "      <td>-0.003558</td>\n",
              "      <td>-0.018808</td>\n",
              "      <td>-0.027084</td>\n",
              "      <td>1.000000</td>\n",
              "      <td>-0.022002</td>\n",
              "      <td>-0.034860</td>\n",
              "    </tr>\n",
              "    <tr>\n",
              "      <th>Volume</th>\n",
              "      <td>0.539006</td>\n",
              "      <td>0.040910</td>\n",
              "      <td>-0.043383</td>\n",
              "      <td>-0.041824</td>\n",
              "      <td>-0.048414</td>\n",
              "      <td>-0.022002</td>\n",
              "      <td>1.000000</td>\n",
              "      <td>0.014592</td>\n",
              "    </tr>\n",
              "    <tr>\n",
              "      <th>Today</th>\n",
              "      <td>0.030095</td>\n",
              "      <td>-0.026155</td>\n",
              "      <td>-0.010250</td>\n",
              "      <td>-0.002448</td>\n",
              "      <td>-0.006900</td>\n",
              "      <td>-0.034860</td>\n",
              "      <td>0.014592</td>\n",
              "      <td>1.000000</td>\n",
              "    </tr>\n",
              "  </tbody>\n",
              "</table>\n",
              "</div>"
            ],
            "text/plain": [
              "            Year      Lag1      Lag2  ...      Lag5    Volume     Today\n",
              "Year    1.000000  0.029700  0.030596  ...  0.029788  0.539006  0.030095\n",
              "Lag1    0.029700  1.000000 -0.026294  ... -0.005675  0.040910 -0.026155\n",
              "Lag2    0.030596 -0.026294  1.000000  ... -0.003558 -0.043383 -0.010250\n",
              "Lag3    0.033195 -0.010803 -0.025897  ... -0.018808 -0.041824 -0.002448\n",
              "Lag4    0.035689 -0.002986 -0.010854  ... -0.027084 -0.048414 -0.006900\n",
              "Lag5    0.029788 -0.005675 -0.003558  ...  1.000000 -0.022002 -0.034860\n",
              "Volume  0.539006  0.040910 -0.043383  ... -0.022002  1.000000  0.014592\n",
              "Today   0.030095 -0.026155 -0.010250  ... -0.034860  0.014592  1.000000\n",
              "\n",
              "[8 rows x 8 columns]"
            ]
          },
          "metadata": {
            "tags": []
          },
          "execution_count": 8
        }
      ]
    },
    {
      "cell_type": "code",
      "metadata": {
        "id": "KpWMegWuyEYf",
        "outputId": "1e1234fe-5241-482f-8270-74cdd3d85966",
        "colab": {
          "base_uri": "https://localhost:8080/",
          "height": 262
        }
      },
      "source": [
        "plt.plot(smarket.Volume);"
      ],
      "execution_count": 9,
      "outputs": [
        {
          "output_type": "display_data",
          "data": {
            "image/png": "[encoded data removed]",
            "text/plain": [
              "<Figure size 432x288 with 1 Axes>"
            ]
          },
          "metadata": {
            "tags": [],
            "needs_background": "light"
          }
        }
      ]
    },
    {
      "cell_type": "markdown",
      "metadata": {
        "id": "wozK6Khz1Ocw"
      },
      "source": [
        "## 4.6.2 Logistic Regression"
      ]
    },
    {
      "cell_type": "markdown",
      "metadata": {
        "id": "JpGJhwdpwwiA"
      },
      "source": [
        "### Using statsmodels"
      ]
    },
    {
      "cell_type": "code",
      "metadata": {
        "id": "116NuyqNybtc",
        "outputId": "bb66f4b6-028c-43a9-c29d-563b67a29271",
        "colab": {
          "base_uri": "https://localhost:8080/"
        }
      },
      "source": [
        "X_sm = smarket.loc[:,'Lag1':'Volume']\n",
        "y_sm_1 = pd.get_dummies(smarket.Direction).iloc[:, 1] # dummy encoding\n",
        "y_sm = preprocessing.LabelEncoder().fit_transform(smarket.Direction)\n",
        "print((y_sm.dtype))\n",
        "print((y_sm_1.dtype))\n",
        "glm_fit_sm = sm.Logit(y_sm, sm.add_constant(X_sm)).fit()\n",
        "print(glm_fit_sm.summary2())"
      ],
      "execution_count": 10,
      "outputs": [
        {
          "output_type": "stream",
          "text": [
            "int64\n",
            "uint8\n",
            "Optimization terminated successfully.\n",
            "         Current function value: 0.691034\n",
            "         Iterations 4\n",
            "                         Results: Logit\n",
            "================================================================\n",
            "Model:              Logit            Pseudo R-squared: 0.002    \n",
            "Dependent Variable: y                AIC:              1741.5841\n",
            "Date:               2020-11-14 07:09 BIC:              1777.5004\n",
            "No. Observations:   1250             Log-Likelihood:   -863.79  \n",
            "Df Model:           6                LL-Null:          -865.59  \n",
            "Df Residuals:       1243             LLR p-value:      0.73187  \n",
            "Converged:          1.0000           Scale:            1.0000   \n",
            "No. Iterations:     4.0000                                      \n",
            "------------------------------------------------------------------\n",
            "           Coef.    Std.Err.      z      P>|z|     [0.025   0.975]\n",
            "------------------------------------------------------------------\n",
            "const     -0.1260     0.2407   -0.5234   0.6007   -0.5978   0.3458\n",
            "Lag1      -0.0731     0.0502   -1.4566   0.1452   -0.1714   0.0253\n",
            "Lag2      -0.0423     0.0501   -0.8446   0.3984   -0.1405   0.0559\n",
            "Lag3       0.0111     0.0499    0.2220   0.8243   -0.0868   0.1090\n",
            "Lag4       0.0094     0.0500    0.1873   0.8514   -0.0886   0.1073\n",
            "Lag5       0.0103     0.0495    0.2083   0.8350   -0.0867   0.1074\n",
            "Volume     0.1354     0.1584    0.8553   0.3924   -0.1749   0.4458\n",
            "================================================================\n",
            "\n"
          ],
          "name": "stdout"
        }
      ]
    },
    {
      "cell_type": "code",
      "metadata": {
        "id": "ou2M5uZEyXvN",
        "outputId": "29cd515b-3c7b-4a70-b2eb-93a9ac09b803",
        "colab": {
          "base_uri": "https://localhost:8080/"
        }
      },
      "source": [
        "glm_fit_sm.params"
      ],
      "execution_count": 11,
      "outputs": [
        {
          "output_type": "execute_result",
          "data": {
            "text/plain": [
              "const    -0.126000\n",
              "Lag1     -0.073074\n",
              "Lag2     -0.042301\n",
              "Lag3      0.011085\n",
              "Lag4      0.009359\n",
              "Lag5      0.010313\n",
              "Volume    0.135441\n",
              "dtype: float64"
            ]
          },
          "metadata": {
            "tags": []
          },
          "execution_count": 11
        }
      ]
    },
    {
      "cell_type": "code",
      "metadata": {
        "id": "82EEq0WQ3zMq",
        "outputId": "45f2b09b-bea6-476f-d1ec-cb1a29e8af09",
        "colab": {
          "base_uri": "https://localhost:8080/"
        }
      },
      "source": [
        "glm_fit_sm.predict()[0:5]"
      ],
      "execution_count": 12,
      "outputs": [
        {
          "output_type": "execute_result",
          "data": {
            "text/plain": [
              "array([0.50708413, 0.48146788, 0.48113883, 0.51522236, 0.51078116])"
            ]
          },
          "metadata": {
            "tags": []
          },
          "execution_count": 12
        }
      ]
    },
    {
      "cell_type": "code",
      "metadata": {
        "id": "jMm3t2tK5QQz"
      },
      "source": [
        "glm_fit_sm_pred = glm_fit_sm.predict() >= 0.5"
      ],
      "execution_count": 13,
      "outputs": []
    },
    {
      "cell_type": "code",
      "metadata": {
        "id": "X9h45vTu4c7H",
        "outputId": "60d12254-caca-4f5a-afec-47580eb1bbd1",
        "colab": {
          "base_uri": "https://localhost:8080/"
        }
      },
      "source": [
        "glm_fit_sm.pred_table()"
      ],
      "execution_count": 14,
      "outputs": [
        {
          "output_type": "execute_result",
          "data": {
            "text/plain": [
              "array([[145., 457.],\n",
              "       [141., 507.]])"
            ]
          },
          "metadata": {
            "tags": []
          },
          "execution_count": 14
        }
      ]
    },
    {
      "cell_type": "code",
      "metadata": {
        "id": "Aw4jiXEI43oa",
        "outputId": "5f9df335-e745-4c40-9f05-78223ac6da10",
        "colab": {
          "base_uri": "https://localhost:8080/"
        }
      },
      "source": [
        "np.mean(glm_fit_sm_pred == y_sm)"
      ],
      "execution_count": 15,
      "outputs": [
        {
          "output_type": "execute_result",
          "data": {
            "text/plain": [
              "0.5216"
            ]
          },
          "metadata": {
            "tags": []
          },
          "execution_count": 15
        }
      ]
    },
    {
      "cell_type": "markdown",
      "metadata": {
        "id": "mKgHzmbM5tvT"
      },
      "source": [
        "### Using scikit-learn"
      ]
    },
    {
      "cell_type": "code",
      "metadata": {
        "id": "GeUhOuXR5wx7"
      },
      "source": [
        "from sklearn.linear_model import LogisticRegression\n",
        "\n",
        "X_sk = smarket.loc[:,'Lag1':'Volume']\n",
        "y_sk = smarket.Direction\n",
        "\n",
        "glm_model = LogisticRegression(fit_intercept=True, C=1e9) # Large C for no regularization\n",
        "glm_fit = glm_model.fit(X_sk, y_sk)"
      ],
      "execution_count": 16,
      "outputs": []
    },
    {
      "cell_type": "code",
      "metadata": {
        "id": "A6JzvvE756pC",
        "outputId": "94d8cc0c-14b8-49fd-dab7-ed66e6b1a38e",
        "colab": {
          "base_uri": "https://localhost:8080/"
        }
      },
      "source": [
        "glm_fit.intercept_, glm_fit.coef_"
      ],
      "execution_count": 17,
      "outputs": [
        {
          "output_type": "execute_result",
          "data": {
            "text/plain": [
              "(array([-0.12600781]),\n",
              " array([[-0.07307339, -0.04230074,  0.01108552,  0.00935968,  0.01031339,\n",
              "          0.13544567]]))"
            ]
          },
          "metadata": {
            "tags": []
          },
          "execution_count": 17
        }
      ]
    },
    {
      "cell_type": "code",
      "metadata": {
        "id": "qyUxFmOa6Zq5",
        "outputId": "ab61ec7e-2355-4c54-b663-a7bb7fd4c589",
        "colab": {
          "base_uri": "https://localhost:8080/",
          "height": 0
        }
      },
      "source": [
        "# prediction summary\n",
        "pd.DataFrame({'prob_0': glm_fit.predict_proba(X_sk)[:, 0], \n",
        "              'prob_1': glm_fit.predict_proba(X_sk)[:, 1], \n",
        "              'pred_class': glm_fit.predict(X_sk)}, \n",
        "             columns=['prob_0', 'prob_1', 'pred_class'])"
      ],
      "execution_count": 18,
      "outputs": [
        {
          "output_type": "execute_result",
          "data": {
            "text/html": [
              "<div>\n",
              "<style scoped>\n",
              "    .dataframe tbody tr th:only-of-type {\n",
              "        vertical-align: middle;\n",
              "    }\n",
              "\n",
              "    .dataframe tbody tr th {\n",
              "        vertical-align: top;\n",
              "    }\n",
              "\n",
              "    .dataframe thead th {\n",
              "        text-align: right;\n",
              "    }\n",
              "</style>\n",
              "<table border=\"1\" class=\"dataframe\">\n",
              "  <thead>\n",
              "    <tr style=\"text-align: right;\">\n",
              "      <th></th>\n",
              "      <th>prob_0</th>\n",
              "      <th>prob_1</th>\n",
              "      <th>pred_class</th>\n",
              "    </tr>\n",
              "  </thead>\n",
              "  <tbody>\n",
              "    <tr>\n",
              "      <th>0</th>\n",
              "      <td>0.492916</td>\n",
              "      <td>0.507084</td>\n",
              "      <td>Up</td>\n",
              "    </tr>\n",
              "    <tr>\n",
              "      <th>1</th>\n",
              "      <td>0.518533</td>\n",
              "      <td>0.481467</td>\n",
              "      <td>Down</td>\n",
              "    </tr>\n",
              "    <tr>\n",
              "      <th>2</th>\n",
              "      <td>0.518861</td>\n",
              "      <td>0.481139</td>\n",
              "      <td>Down</td>\n",
              "    </tr>\n",
              "    <tr>\n",
              "      <th>3</th>\n",
              "      <td>0.484778</td>\n",
              "      <td>0.515222</td>\n",
              "      <td>Up</td>\n",
              "    </tr>\n",
              "    <tr>\n",
              "      <th>4</th>\n",
              "      <td>0.489219</td>\n",
              "      <td>0.510781</td>\n",
              "      <td>Up</td>\n",
              "    </tr>\n",
              "    <tr>\n",
              "      <th>...</th>\n",
              "      <td>...</td>\n",
              "      <td>...</td>\n",
              "      <td>...</td>\n",
              "    </tr>\n",
              "    <tr>\n",
              "      <th>1245</th>\n",
              "      <td>0.480107</td>\n",
              "      <td>0.519893</td>\n",
              "      <td>Up</td>\n",
              "    </tr>\n",
              "    <tr>\n",
              "      <th>1246</th>\n",
              "      <td>0.494075</td>\n",
              "      <td>0.505925</td>\n",
              "      <td>Up</td>\n",
              "    </tr>\n",
              "    <tr>\n",
              "      <th>1247</th>\n",
              "      <td>0.460732</td>\n",
              "      <td>0.539268</td>\n",
              "      <td>Up</td>\n",
              "    </tr>\n",
              "    <tr>\n",
              "      <th>1248</th>\n",
              "      <td>0.473882</td>\n",
              "      <td>0.526118</td>\n",
              "      <td>Up</td>\n",
              "    </tr>\n",
              "    <tr>\n",
              "      <th>1249</th>\n",
              "      <td>0.482084</td>\n",
              "      <td>0.517916</td>\n",
              "      <td>Up</td>\n",
              "    </tr>\n",
              "  </tbody>\n",
              "</table>\n",
              "<p>1250 rows × 3 columns</p>\n",
              "</div>"
            ],
            "text/plain": [
              "        prob_0    prob_1 pred_class\n",
              "0     0.492916  0.507084         Up\n",
              "1     0.518533  0.481467       Down\n",
              "2     0.518861  0.481139       Down\n",
              "3     0.484778  0.515222         Up\n",
              "4     0.489219  0.510781         Up\n",
              "...        ...       ...        ...\n",
              "1245  0.480107  0.519893         Up\n",
              "1246  0.494075  0.505925         Up\n",
              "1247  0.460732  0.539268         Up\n",
              "1248  0.473882  0.526118         Up\n",
              "1249  0.482084  0.517916         Up\n",
              "\n",
              "[1250 rows x 3 columns]"
            ]
          },
          "metadata": {
            "tags": []
          },
          "execution_count": 18
        }
      ]
    },
    {
      "cell_type": "code",
      "metadata": {
        "id": "nGNQOwWZ57Gt",
        "outputId": "252ec1ef-0f1c-41a4-d628-0c35fdd0f1c0",
        "colab": {
          "base_uri": "https://localhost:8080/",
          "height": 0
        }
      },
      "source": [
        "from sklearn.metrics import confusion_matrix, accuracy_score\n",
        "\n",
        "# labeled confusion matrix for predicted values\n",
        "conf_m = pd.DataFrame(confusion_matrix(y_sk, glm_fit.predict(X_sk)))\n",
        "conf_m.columns.name = 'Predicted'\n",
        "conf_m.index.name = 'True'\n",
        "conf_m"
      ],
      "execution_count": 19,
      "outputs": [
        {
          "output_type": "execute_result",
          "data": {
            "text/html": [
              "<div>\n",
              "<style scoped>\n",
              "    .dataframe tbody tr th:only-of-type {\n",
              "        vertical-align: middle;\n",
              "    }\n",
              "\n",
              "    .dataframe tbody tr th {\n",
              "        vertical-align: top;\n",
              "    }\n",
              "\n",
              "    .dataframe thead th {\n",
              "        text-align: right;\n",
              "    }\n",
              "</style>\n",
              "<table border=\"1\" class=\"dataframe\">\n",
              "  <thead>\n",
              "    <tr style=\"text-align: right;\">\n",
              "      <th>Predicted</th>\n",
              "      <th>0</th>\n",
              "      <th>1</th>\n",
              "    </tr>\n",
              "    <tr>\n",
              "      <th>True</th>\n",
              "      <th></th>\n",
              "      <th></th>\n",
              "    </tr>\n",
              "  </thead>\n",
              "  <tbody>\n",
              "    <tr>\n",
              "      <th>0</th>\n",
              "      <td>145</td>\n",
              "      <td>457</td>\n",
              "    </tr>\n",
              "    <tr>\n",
              "      <th>1</th>\n",
              "      <td>141</td>\n",
              "      <td>507</td>\n",
              "    </tr>\n",
              "  </tbody>\n",
              "</table>\n",
              "</div>"
            ],
            "text/plain": [
              "Predicted    0    1\n",
              "True               \n",
              "0          145  457\n",
              "1          141  507"
            ]
          },
          "metadata": {
            "tags": []
          },
          "execution_count": 19
        }
      ]
    },
    {
      "cell_type": "code",
      "metadata": {
        "id": "0YC7o-BR6gbq",
        "outputId": "4e820aa2-72ef-4496-fadc-1d4d5e4a7345",
        "colab": {
          "base_uri": "https://localhost:8080/"
        }
      },
      "source": [
        "print('Train Accuracy: ' + str(accuracy_score(y_sk, glm_fit.predict(X_sk))))\n",
        "print('Training Error: ' + str(1 - accuracy_score(y_sk, glm_fit.predict(X_sk))))"
      ],
      "execution_count": 20,
      "outputs": [
        {
          "output_type": "stream",
          "text": [
            "Train Accuracy: 0.5216\n",
            "Training Error: 0.47840000000000005\n"
          ],
          "name": "stdout"
        }
      ]
    },
    {
      "cell_type": "code",
      "metadata": {
        "id": "8yTuav3H790I"
      },
      "source": [
        "# separate training and test sets\n",
        "train = smarket.loc[smarket.Year < 2005]\n",
        "smarket_2005 = smarket.loc[smarket.Year >= 2005]"
      ],
      "execution_count": 21,
      "outputs": []
    },
    {
      "cell_type": "code",
      "metadata": {
        "id": "bDHuOvFU8n9l"
      },
      "source": [
        "X_sk_train = train.loc[:,'Lag1':'Volume']\n",
        "y_sk_train = train.Direction\n",
        "\n",
        "X_sk_test = smarket_2005.loc[:,'Lag1':'Volume']\n",
        "y_sk_test = smarket_2005.Direction\n",
        "\n",
        "glm_model_t = LogisticRegression(fit_intercept=True, C=1e9) # Large C for no regularization\n",
        "glm_fit_t = glm_model.fit(X_sk_train, y_sk_train)"
      ],
      "execution_count": 22,
      "outputs": []
    },
    {
      "cell_type": "code",
      "metadata": {
        "id": "Yf2u3Y_v8p15",
        "outputId": "cd009759-ee36-4752-ea1b-1cec0f18bc82",
        "colab": {
          "base_uri": "https://localhost:8080/",
          "height": 0
        }
      },
      "source": [
        "conf_m = pd.DataFrame(confusion_matrix(y_sk_test, glm_fit.predict(X_sk_test)))\n",
        "conf_m.columns.name = 'Predicted'\n",
        "conf_m.index.name = 'True'\n",
        "conf_m"
      ],
      "execution_count": 23,
      "outputs": [
        {
          "output_type": "execute_result",
          "data": {
            "text/html": [
              "<div>\n",
              "<style scoped>\n",
              "    .dataframe tbody tr th:only-of-type {\n",
              "        vertical-align: middle;\n",
              "    }\n",
              "\n",
              "    .dataframe tbody tr th {\n",
              "        vertical-align: top;\n",
              "    }\n",
              "\n",
              "    .dataframe thead th {\n",
              "        text-align: right;\n",
              "    }\n",
              "</style>\n",
              "<table border=\"1\" class=\"dataframe\">\n",
              "  <thead>\n",
              "    <tr style=\"text-align: right;\">\n",
              "      <th>Predicted</th>\n",
              "      <th>0</th>\n",
              "      <th>1</th>\n",
              "    </tr>\n",
              "    <tr>\n",
              "      <th>True</th>\n",
              "      <th></th>\n",
              "      <th></th>\n",
              "    </tr>\n",
              "  </thead>\n",
              "  <tbody>\n",
              "    <tr>\n",
              "      <th>0</th>\n",
              "      <td>77</td>\n",
              "      <td>34</td>\n",
              "    </tr>\n",
              "    <tr>\n",
              "      <th>1</th>\n",
              "      <td>97</td>\n",
              "      <td>44</td>\n",
              "    </tr>\n",
              "  </tbody>\n",
              "</table>\n",
              "</div>"
            ],
            "text/plain": [
              "Predicted   0   1\n",
              "True             \n",
              "0          77  34\n",
              "1          97  44"
            ]
          },
          "metadata": {
            "tags": []
          },
          "execution_count": 23
        }
      ]
    },
    {
      "cell_type": "code",
      "metadata": {
        "id": "N1fsRoMP8t72",
        "outputId": "828e33d8-e87e-47c0-f6aa-81b717542006",
        "colab": {
          "base_uri": "https://localhost:8080/"
        }
      },
      "source": [
        "print('Test Accuracy: ' + str(accuracy_score(y_sk_test, glm_fit.predict(X_sk_test))))\n",
        "print('Test Error: ' + str(1 - accuracy_score(y_sk_test, glm_fit.predict(X_sk_test))))"
      ],
      "execution_count": 24,
      "outputs": [
        {
          "output_type": "stream",
          "text": [
            "Test Accuracy: 0.4801587301587302\n",
            "Test Error: 0.5198412698412698\n"
          ],
          "name": "stdout"
        }
      ]
    },
    {
      "cell_type": "code",
      "metadata": {
        "id": "CW0xIdxt81Ji"
      },
      "source": [
        "X_sk_train_s = train.loc[:,'Lag1':'Lag2']\n",
        "y_sk_train_s = train.Direction\n",
        "\n",
        "X_sk_test_s = smarket_2005.loc[:,'Lag1':'Lag2']\n",
        "y_sk_test_s = smarket_2005.Direction\n",
        "\n",
        "glm_model_t_s = LogisticRegression(fit_intercept=True, C=1e9) # Large C for no regularization\n",
        "glm_fit_t_s = glm_model.fit(X_sk_train_s, y_sk_train_s)"
      ],
      "execution_count": 25,
      "outputs": []
    },
    {
      "cell_type": "code",
      "metadata": {
        "id": "OQ_2pOJU9E4a",
        "outputId": "ec9ca094-086e-403d-b36b-c6d50d72eb9e",
        "colab": {
          "base_uri": "https://localhost:8080/",
          "height": 0
        }
      },
      "source": [
        "conf_m = pd.DataFrame(confusion_matrix(y_sk_test_s, glm_fit.predict(X_sk_test_s)))\n",
        "conf_m.columns.name = 'Predicted'\n",
        "conf_m.index.name = 'True'\n",
        "conf_m"
      ],
      "execution_count": 26,
      "outputs": [
        {
          "output_type": "execute_result",
          "data": {
            "text/html": [
              "<div>\n",
              "<style scoped>\n",
              "    .dataframe tbody tr th:only-of-type {\n",
              "        vertical-align: middle;\n",
              "    }\n",
              "\n",
              "    .dataframe tbody tr th {\n",
              "        vertical-align: top;\n",
              "    }\n",
              "\n",
              "    .dataframe thead th {\n",
              "        text-align: right;\n",
              "    }\n",
              "</style>\n",
              "<table border=\"1\" class=\"dataframe\">\n",
              "  <thead>\n",
              "    <tr style=\"text-align: right;\">\n",
              "      <th>Predicted</th>\n",
              "      <th>0</th>\n",
              "      <th>1</th>\n",
              "    </tr>\n",
              "    <tr>\n",
              "      <th>True</th>\n",
              "      <th></th>\n",
              "      <th></th>\n",
              "    </tr>\n",
              "  </thead>\n",
              "  <tbody>\n",
              "    <tr>\n",
              "      <th>0</th>\n",
              "      <td>35</td>\n",
              "      <td>76</td>\n",
              "    </tr>\n",
              "    <tr>\n",
              "      <th>1</th>\n",
              "      <td>35</td>\n",
              "      <td>106</td>\n",
              "    </tr>\n",
              "  </tbody>\n",
              "</table>\n",
              "</div>"
            ],
            "text/plain": [
              "Predicted   0    1\n",
              "True              \n",
              "0          35   76\n",
              "1          35  106"
            ]
          },
          "metadata": {
            "tags": []
          },
          "execution_count": 26
        }
      ]
    },
    {
      "cell_type": "code",
      "metadata": {
        "id": "XxlyeWFC9HlL",
        "outputId": "e9c46a67-2720-44ac-c093-64c202c8bc83",
        "colab": {
          "base_uri": "https://localhost:8080/"
        }
      },
      "source": [
        "print('Test Accuracy: ' + str(accuracy_score(y_sk_test_s, glm_fit.predict(X_sk_test_s))))\n",
        "print('Test Error: ' + str(1 - accuracy_score(y_sk_test_s, glm_fit.predict(X_sk_test_s))))"
      ],
      "execution_count": 27,
      "outputs": [
        {
          "output_type": "stream",
          "text": [
            "Test Accuracy: 0.5595238095238095\n",
            "Test Error: 0.44047619047619047\n"
          ],
          "name": "stdout"
        }
      ]
    },
    {
      "cell_type": "code",
      "metadata": {
        "id": "_nTjpQJJ9LP0",
        "outputId": "09762860-8990-400d-80ea-478547253ca1",
        "colab": {
          "base_uri": "https://localhost:8080/",
          "height": 0
        }
      },
      "source": [
        "# predictions for arbitrary data\n",
        "\n",
        "predict_data = pd.DataFrame({'Lag1': [1.2, 1.5], 'Lag2': [1.1, -0.8]})\n",
        "\n",
        "df = pd.DataFrame(glm_fit.predict_proba(predict_data))\n",
        "df.columns = ['pred_0', 'pred_1']\n",
        "df"
      ],
      "execution_count": 28,
      "outputs": [
        {
          "output_type": "execute_result",
          "data": {
            "text/html": [
              "<div>\n",
              "<style scoped>\n",
              "    .dataframe tbody tr th:only-of-type {\n",
              "        vertical-align: middle;\n",
              "    }\n",
              "\n",
              "    .dataframe tbody tr th {\n",
              "        vertical-align: top;\n",
              "    }\n",
              "\n",
              "    .dataframe thead th {\n",
              "        text-align: right;\n",
              "    }\n",
              "</style>\n",
              "<table border=\"1\" class=\"dataframe\">\n",
              "  <thead>\n",
              "    <tr style=\"text-align: right;\">\n",
              "      <th></th>\n",
              "      <th>pred_0</th>\n",
              "      <th>pred_1</th>\n",
              "    </tr>\n",
              "  </thead>\n",
              "  <tbody>\n",
              "    <tr>\n",
              "      <th>0</th>\n",
              "      <td>0.520854</td>\n",
              "      <td>0.479146</td>\n",
              "    </tr>\n",
              "    <tr>\n",
              "      <th>1</th>\n",
              "      <td>0.503889</td>\n",
              "      <td>0.496111</td>\n",
              "    </tr>\n",
              "  </tbody>\n",
              "</table>\n",
              "</div>"
            ],
            "text/plain": [
              "     pred_0    pred_1\n",
              "0  0.520854  0.479146\n",
              "1  0.503889  0.496111"
            ]
          },
          "metadata": {
            "tags": []
          },
          "execution_count": 28
        }
      ]
    },
    {
      "cell_type": "markdown",
      "metadata": {
        "id": "RSpk6Bri-qJu"
      },
      "source": [
        "## 4.6.3 Linear Discriminant Analysis"
      ]
    },
    {
      "cell_type": "code",
      "metadata": {
        "id": "MQoTHYdh-L5j"
      },
      "source": [
        "from sklearn.discriminant_analysis import LinearDiscriminantAnalysis\n",
        "\n",
        "X_train = train.loc[:,'Lag1':'Lag2']\n",
        "y_train = train.Direction\n",
        "\n",
        "X_test = smarket_2005.loc[:,'Lag1':'Lag2']\n",
        "y_test = smarket_2005.Direction\n",
        "\n",
        "lda_model = LinearDiscriminantAnalysis()\n",
        "lda_fit = lda_model.fit(X_train, y_train)"
      ],
      "execution_count": 29,
      "outputs": []
    },
    {
      "cell_type": "code",
      "metadata": {
        "id": "FTtsgU4mDe88",
        "outputId": "68c55e35-4339-4e15-bf50-69140b285a3e",
        "colab": {
          "base_uri": "https://localhost:8080/",
          "height": 0
        }
      },
      "source": [
        "df = pd.DataFrame(lda_fit.priors_.reshape((1,2))) # group priors\n",
        "df.columns = ['Down', 'Up']\n",
        "df"
      ],
      "execution_count": 30,
      "outputs": [
        {
          "output_type": "execute_result",
          "data": {
            "text/html": [
              "<div>\n",
              "<style scoped>\n",
              "    .dataframe tbody tr th:only-of-type {\n",
              "        vertical-align: middle;\n",
              "    }\n",
              "\n",
              "    .dataframe tbody tr th {\n",
              "        vertical-align: top;\n",
              "    }\n",
              "\n",
              "    .dataframe thead th {\n",
              "        text-align: right;\n",
              "    }\n",
              "</style>\n",
              "<table border=\"1\" class=\"dataframe\">\n",
              "  <thead>\n",
              "    <tr style=\"text-align: right;\">\n",
              "      <th></th>\n",
              "      <th>Down</th>\n",
              "      <th>Up</th>\n",
              "    </tr>\n",
              "  </thead>\n",
              "  <tbody>\n",
              "    <tr>\n",
              "      <th>0</th>\n",
              "      <td>0.491984</td>\n",
              "      <td>0.508016</td>\n",
              "    </tr>\n",
              "  </tbody>\n",
              "</table>\n",
              "</div>"
            ],
            "text/plain": [
              "       Down        Up\n",
              "0  0.491984  0.508016"
            ]
          },
          "metadata": {
            "tags": []
          },
          "execution_count": 30
        }
      ]
    },
    {
      "cell_type": "code",
      "metadata": {
        "id": "bAu6lOqODffc",
        "outputId": "b8ed311a-eeb6-48cf-c622-5eb10e0ce1eb",
        "colab": {
          "base_uri": "https://localhost:8080/",
          "height": 0
        }
      },
      "source": [
        "df = pd.DataFrame(lda_fit.means_) # group means\n",
        "df.columns = ['Lag1', 'Lag2']\n",
        "df.index = ['Down', 'Up']\n",
        "df"
      ],
      "execution_count": 31,
      "outputs": [
        {
          "output_type": "execute_result",
          "data": {
            "text/html": [
              "<div>\n",
              "<style scoped>\n",
              "    .dataframe tbody tr th:only-of-type {\n",
              "        vertical-align: middle;\n",
              "    }\n",
              "\n",
              "    .dataframe tbody tr th {\n",
              "        vertical-align: top;\n",
              "    }\n",
              "\n",
              "    .dataframe thead th {\n",
              "        text-align: right;\n",
              "    }\n",
              "</style>\n",
              "<table border=\"1\" class=\"dataframe\">\n",
              "  <thead>\n",
              "    <tr style=\"text-align: right;\">\n",
              "      <th></th>\n",
              "      <th>Lag1</th>\n",
              "      <th>Lag2</th>\n",
              "    </tr>\n",
              "  </thead>\n",
              "  <tbody>\n",
              "    <tr>\n",
              "      <th>Down</th>\n",
              "      <td>0.042790</td>\n",
              "      <td>0.033894</td>\n",
              "    </tr>\n",
              "    <tr>\n",
              "      <th>Up</th>\n",
              "      <td>-0.039546</td>\n",
              "      <td>-0.031325</td>\n",
              "    </tr>\n",
              "  </tbody>\n",
              "</table>\n",
              "</div>"
            ],
            "text/plain": [
              "          Lag1      Lag2\n",
              "Down  0.042790  0.033894\n",
              "Up   -0.039546 -0.031325"
            ]
          },
          "metadata": {
            "tags": []
          },
          "execution_count": 31
        }
      ]
    },
    {
      "cell_type": "code",
      "metadata": {
        "id": "DQweoc0AD-c4",
        "outputId": "5164a6f1-631e-44c7-e037-c89b3552100c",
        "colab": {
          "base_uri": "https://localhost:8080/"
        }
      },
      "source": [
        "lda_fit.scalings_ # coefficients of ld"
      ],
      "execution_count": 32,
      "outputs": [
        {
          "output_type": "execute_result",
          "data": {
            "text/plain": [
              "array([[-0.64201904],\n",
              "       [-0.51352928]])"
            ]
          },
          "metadata": {
            "tags": []
          },
          "execution_count": 32
        }
      ]
    },
    {
      "cell_type": "code",
      "metadata": {
        "id": "LwGjiCeCHIFW",
        "outputId": "925e522f-8cb7-45fc-c05a-51f4cd7b6ba2",
        "colab": {
          "base_uri": "https://localhost:8080/",
          "height": 0
        }
      },
      "source": [
        "# for plotting lda, needs imporovement\n",
        "linear_discriminants = X_train.iloc[:, 0] * lda_fit.scalings_[0] + X_train.iloc[:, 1] * lda_fit.scalings_[1]\n",
        "\n",
        "ld = pd.DataFrame({'groups': y_train, 'score': linear_discriminants})\n",
        "\n",
        "g = sns.FacetGrid(ld, col='groups',height=4, aspect=1.65)\n",
        "g.map(sns.histplot, 'score', bins=12, stat=\"probability\");"
      ],
      "execution_count": 33,
      "outputs": [
        {
          "output_type": "display_data",
          "data": {
            "image/png": "[encoded data removed]",
            "text/plain": [
              "<Figure size 950.4x288 with 2 Axes>"
            ]
          },
          "metadata": {
            "tags": [],
            "needs_background": "light"
          }
        }
      ]
    },
    {
      "cell_type": "code",
      "metadata": {
        "id": "ruAvuJGPhP0-",
        "outputId": "74a5c415-c537-4a50-d772-cd613900aff8",
        "colab": {
          "base_uri": "https://localhost:8080/",
          "height": 0
        }
      },
      "source": [
        "# prediction summary\n",
        "linear_discriminants = X_test.iloc[:, 0] * lda_fit.scalings_[0] + X_test.iloc[:, 1] * lda_fit.scalings_[1]\n",
        "df = pd.DataFrame({'prob_0': lda_fit.predict_proba(X_test)[:, 0], \n",
        "              'prob_1': lda_fit.predict_proba(X_test)[:, 1],\n",
        "              'linear_discriminants' : linear_discriminants ,\n",
        "              'pred_class': lda_fit.predict(X_test),\n",
        "              'true_class': y_test}, \n",
        "             columns=['prob_0', 'prob_1', 'linear_discriminants' ,'pred_class', 'true_class'])\n",
        "\n",
        "df.reset_index(inplace=True)\n",
        "df[20:30]"
      ],
      "execution_count": 34,
      "outputs": [
        {
          "output_type": "execute_result",
          "data": {
            "text/html": [
              "<div>\n",
              "<style scoped>\n",
              "    .dataframe tbody tr th:only-of-type {\n",
              "        vertical-align: middle;\n",
              "    }\n",
              "\n",
              "    .dataframe tbody tr th {\n",
              "        vertical-align: top;\n",
              "    }\n",
              "\n",
              "    .dataframe thead th {\n",
              "        text-align: right;\n",
              "    }\n",
              "</style>\n",
              "<table border=\"1\" class=\"dataframe\">\n",
              "  <thead>\n",
              "    <tr style=\"text-align: right;\">\n",
              "      <th></th>\n",
              "      <th>index</th>\n",
              "      <th>prob_0</th>\n",
              "      <th>prob_1</th>\n",
              "      <th>linear_discriminants</th>\n",
              "      <th>pred_class</th>\n",
              "      <th>true_class</th>\n",
              "    </tr>\n",
              "  </thead>\n",
              "  <tbody>\n",
              "    <tr>\n",
              "      <th>20</th>\n",
              "      <td>1019</td>\n",
              "      <td>0.500657</td>\n",
              "      <td>0.499343</td>\n",
              "      <td>-0.403468</td>\n",
              "      <td>Down</td>\n",
              "      <td>Up</td>\n",
              "    </tr>\n",
              "    <tr>\n",
              "      <th>21</th>\n",
              "      <td>1020</td>\n",
              "      <td>0.510874</td>\n",
              "      <td>0.489126</td>\n",
              "      <td>-0.876797</td>\n",
              "      <td>Down</td>\n",
              "      <td>Up</td>\n",
              "    </tr>\n",
              "    <tr>\n",
              "      <th>22</th>\n",
              "      <td>1021</td>\n",
              "      <td>0.503992</td>\n",
              "      <td>0.496008</td>\n",
              "      <td>-0.557984</td>\n",
              "      <td>Down</td>\n",
              "      <td>Down</td>\n",
              "    </tr>\n",
              "    <tr>\n",
              "      <th>23</th>\n",
              "      <td>1022</td>\n",
              "      <td>0.491634</td>\n",
              "      <td>0.508366</td>\n",
              "      <td>0.014537</td>\n",
              "      <td>Up</td>\n",
              "      <td>Up</td>\n",
              "    </tr>\n",
              "    <tr>\n",
              "      <th>24</th>\n",
              "      <td>1023</td>\n",
              "      <td>0.504177</td>\n",
              "      <td>0.495823</td>\n",
              "      <td>-0.566541</td>\n",
              "      <td>Down</td>\n",
              "      <td>Down</td>\n",
              "    </tr>\n",
              "    <tr>\n",
              "      <th>25</th>\n",
              "      <td>1024</td>\n",
              "      <td>0.502675</td>\n",
              "      <td>0.497325</td>\n",
              "      <td>-0.496956</td>\n",
              "      <td>Down</td>\n",
              "      <td>Up</td>\n",
              "    </tr>\n",
              "    <tr>\n",
              "      <th>26</th>\n",
              "      <td>1025</td>\n",
              "      <td>0.491404</td>\n",
              "      <td>0.508596</td>\n",
              "      <td>0.025158</td>\n",
              "      <td>Up</td>\n",
              "      <td>Down</td>\n",
              "    </tr>\n",
              "    <tr>\n",
              "      <th>27</th>\n",
              "      <td>1026</td>\n",
              "      <td>0.480596</td>\n",
              "      <td>0.519404</td>\n",
              "      <td>0.526203</td>\n",
              "      <td>Up</td>\n",
              "      <td>Up</td>\n",
              "    </tr>\n",
              "    <tr>\n",
              "      <th>28</th>\n",
              "      <td>1027</td>\n",
              "      <td>0.488272</td>\n",
              "      <td>0.511728</td>\n",
              "      <td>0.170318</td>\n",
              "      <td>Up</td>\n",
              "      <td>Up</td>\n",
              "    </tr>\n",
              "    <tr>\n",
              "      <th>29</th>\n",
              "      <td>1028</td>\n",
              "      <td>0.506219</td>\n",
              "      <td>0.493781</td>\n",
              "      <td>-0.661115</td>\n",
              "      <td>Down</td>\n",
              "      <td>Up</td>\n",
              "    </tr>\n",
              "  </tbody>\n",
              "</table>\n",
              "</div>"
            ],
            "text/plain": [
              "    index    prob_0    prob_1  linear_discriminants pred_class true_class\n",
              "20   1019  0.500657  0.499343             -0.403468       Down         Up\n",
              "21   1020  0.510874  0.489126             -0.876797       Down         Up\n",
              "22   1021  0.503992  0.496008             -0.557984       Down       Down\n",
              "23   1022  0.491634  0.508366              0.014537         Up         Up\n",
              "24   1023  0.504177  0.495823             -0.566541       Down       Down\n",
              "25   1024  0.502675  0.497325             -0.496956       Down         Up\n",
              "26   1025  0.491404  0.508596              0.025158         Up       Down\n",
              "27   1026  0.480596  0.519404              0.526203         Up         Up\n",
              "28   1027  0.488272  0.511728              0.170318         Up         Up\n",
              "29   1028  0.506219  0.493781             -0.661115       Down         Up"
            ]
          },
          "metadata": {
            "tags": []
          },
          "execution_count": 34
        }
      ]
    },
    {
      "cell_type": "code",
      "metadata": {
        "id": "Zpg1ULIhPk1t",
        "outputId": "3903d02d-7a21-472c-bbb3-cce9716de542",
        "colab": {
          "base_uri": "https://localhost:8080/",
          "height": 0
        }
      },
      "source": [
        "# not sure if correct!\n",
        "fig, axs = plt.subplots(1, 2, figsize=(12, 5))\n",
        "\n",
        "y = lda_fit.predict_proba(X_test)[:, 1]\n",
        "sns.scatterplot(x=linear_discriminants, y=y, hue = lda_fit.predict(X_test), s=100, ax=axs[0])\n",
        "axs[0].set_xlabel('linear discriminants', fontsize=12)\n",
        "axs[0].set_ylabel('predicted probability of Up', fontsize=12)\n",
        "axs[0].set_title('hue by predicted label', fontsize=15)\n",
        "\n",
        "sns.scatterplot(x=linear_discriminants, y=y, hue = y_test, s=100, ax=axs[1])\n",
        "axs[1].set_xlabel('linear discriminants', fontsize=12)\n",
        "axs[1].set_ylabel('predicted probability of Up', fontsize=12)\n",
        "axs[1].set_title('hue by true label', fontsize=15)\n"
      ],
      "execution_count": 35,
      "outputs": [
        {
          "output_type": "execute_result",
          "data": {
            "text/plain": [
              "Text(0.5, 1.0, 'hue by true label')"
            ]
          },
          "metadata": {
            "tags": []
          },
          "execution_count": 35
        },
        {
          "output_type": "display_data",
          "data": {
            "image/png": "[encoded data removed]",
            "text/plain": [
              "<Figure size 864x360 with 2 Axes>"
            ]
          },
          "metadata": {
            "tags": [],
            "needs_background": "light"
          }
        }
      ]
    },
    {
      "cell_type": "code",
      "metadata": {
        "id": "qcfFtLtUQ-WH",
        "outputId": "c3d2d9df-287f-432b-bd90-6bdd14ca7824",
        "colab": {
          "base_uri": "https://localhost:8080/"
        }
      },
      "source": [
        "\n",
        "conf_m = pd.DataFrame(confusion_matrix(y_test, glm_fit.predict(X_test)))\n",
        "conf_m.columns.name = 'Predicted'\n",
        "conf_m.index.name = 'True'\n",
        "print('logistic regression confusion matrix\\n')\n",
        "print(conf_m)\n",
        "conf_m = pd.DataFrame(confusion_matrix(y_test, lda_fit.predict(X_test)))\n",
        "conf_m.columns.name = 'Predicted'\n",
        "conf_m.index.name = 'True'\n",
        "print('\\nLDA confusion matrix\\n')\n",
        "print(conf_m)\n"
      ],
      "execution_count": 36,
      "outputs": [
        {
          "output_type": "stream",
          "text": [
            "logistic regression confusion matrix\n",
            "\n",
            "Predicted   0    1\n",
            "True              \n",
            "0          35   76\n",
            "1          35  106\n",
            "\n",
            "LDA confusion matrix\n",
            "\n",
            "Predicted   0    1\n",
            "True              \n",
            "0          35   76\n",
            "1          35  106\n"
          ],
          "name": "stdout"
        }
      ]
    },
    {
      "cell_type": "code",
      "metadata": {
        "id": "t34I0EssitUx",
        "outputId": "5ba3dd83-e488-4fe7-c977-795bd4962446",
        "colab": {
          "base_uri": "https://localhost:8080/"
        }
      },
      "source": [
        "print('Test Accuracy: ' + str(accuracy_score(y_test, lda_fit.predict(X_test))))\n",
        "print('Test Error: ' + str(1 - accuracy_score(y_test, lda_fit.predict(X_test))))"
      ],
      "execution_count": 37,
      "outputs": [
        {
          "output_type": "stream",
          "text": [
            "Test Accuracy: 0.5595238095238095\n",
            "Test Error: 0.44047619047619047\n"
          ],
          "name": "stdout"
        }
      ]
    },
    {
      "cell_type": "markdown",
      "metadata": {
        "id": "KGA18VhU1q4W"
      },
      "source": [
        "## 4.6.4 Quadratic Discriminant Analysis "
      ]
    },
    {
      "cell_type": "code",
      "metadata": {
        "id": "r7iSgHTKkTFm"
      },
      "source": [
        "from sklearn.discriminant_analysis import QuadraticDiscriminantAnalysis\n",
        "\n",
        "X_train = train.loc[:,'Lag1':'Lag2']\n",
        "y_train = train.Direction\n",
        "\n",
        "X_test = smarket_2005.loc[:,'Lag1':'Lag2']\n",
        "y_test = smarket_2005.Direction\n",
        "\n",
        "qda_model = QuadraticDiscriminantAnalysis()\n",
        "qda_fit = qda_model.fit(X_train, y_train)"
      ],
      "execution_count": 38,
      "outputs": []
    },
    {
      "cell_type": "code",
      "metadata": {
        "id": "7Ked28qw2Fmo",
        "outputId": "f75fcb3c-3f3b-41e5-f9ef-6c603a36c7ea",
        "colab": {
          "base_uri": "https://localhost:8080/"
        }
      },
      "source": [
        "qda_fit.priors_ # group priors"
      ],
      "execution_count": 39,
      "outputs": [
        {
          "output_type": "execute_result",
          "data": {
            "text/plain": [
              "array([0.49198397, 0.50801603])"
            ]
          },
          "metadata": {
            "tags": []
          },
          "execution_count": 39
        }
      ]
    },
    {
      "cell_type": "code",
      "metadata": {
        "id": "RDthOVPW2GID",
        "outputId": "ec63639d-97bc-473c-ae08-8204849e5cf5",
        "colab": {
          "base_uri": "https://localhost:8080/"
        }
      },
      "source": [
        "qda_fit.means_ # group means"
      ],
      "execution_count": 40,
      "outputs": [
        {
          "output_type": "execute_result",
          "data": {
            "text/plain": [
              "array([[ 0.04279022,  0.03389409],\n",
              "       [-0.03954635, -0.03132544]])"
            ]
          },
          "metadata": {
            "tags": []
          },
          "execution_count": 40
        }
      ]
    },
    {
      "cell_type": "code",
      "metadata": {
        "id": "0uxficQ72H6D",
        "outputId": "ae3a9be8-cee5-48df-893e-89c8aafe3394",
        "colab": {
          "base_uri": "https://localhost:8080/"
        }
      },
      "source": [
        "qda_fit.scalings_ # coefficients of ld"
      ],
      "execution_count": 41,
      "outputs": [
        {
          "output_type": "execute_result",
          "data": {
            "text/plain": [
              "[array([1.56294495, 1.47927279]), array([1.53455065, 1.47272326])]"
            ]
          },
          "metadata": {
            "tags": []
          },
          "execution_count": 41
        }
      ]
    },
    {
      "cell_type": "code",
      "metadata": {
        "id": "Td_9zpEk2Lcu",
        "outputId": "d8e8b11d-d130-4d62-986e-b9e6b5897457",
        "colab": {
          "base_uri": "https://localhost:8080/",
          "height": 0
        }
      },
      "source": [
        "# prediction summary\n",
        "pd.DataFrame({'prob_0': qda_fit.predict_proba(X_test)[:, 0], \n",
        "              'prob_1': qda_fit.predict_proba(X_test)[:, 1], \n",
        "              'pred_class': qda_fit.predict(X_test)}, \n",
        "             columns=['prob_0', 'prob_1', 'pred_class'])"
      ],
      "execution_count": 42,
      "outputs": [
        {
          "output_type": "execute_result",
          "data": {
            "text/html": [
              "<div>\n",
              "<style scoped>\n",
              "    .dataframe tbody tr th:only-of-type {\n",
              "        vertical-align: middle;\n",
              "    }\n",
              "\n",
              "    .dataframe tbody tr th {\n",
              "        vertical-align: top;\n",
              "    }\n",
              "\n",
              "    .dataframe thead th {\n",
              "        text-align: right;\n",
              "    }\n",
              "</style>\n",
              "<table border=\"1\" class=\"dataframe\">\n",
              "  <thead>\n",
              "    <tr style=\"text-align: right;\">\n",
              "      <th></th>\n",
              "      <th>prob_0</th>\n",
              "      <th>prob_1</th>\n",
              "      <th>pred_class</th>\n",
              "    </tr>\n",
              "  </thead>\n",
              "  <tbody>\n",
              "    <tr>\n",
              "      <th>0</th>\n",
              "      <td>0.487324</td>\n",
              "      <td>0.512676</td>\n",
              "      <td>Up</td>\n",
              "    </tr>\n",
              "    <tr>\n",
              "      <th>1</th>\n",
              "      <td>0.475901</td>\n",
              "      <td>0.524099</td>\n",
              "      <td>Up</td>\n",
              "    </tr>\n",
              "    <tr>\n",
              "      <th>2</th>\n",
              "      <td>0.463691</td>\n",
              "      <td>0.536309</td>\n",
              "      <td>Up</td>\n",
              "    </tr>\n",
              "    <tr>\n",
              "      <th>3</th>\n",
              "      <td>0.473925</td>\n",
              "      <td>0.526075</td>\n",
              "      <td>Up</td>\n",
              "    </tr>\n",
              "    <tr>\n",
              "      <th>4</th>\n",
              "      <td>0.490343</td>\n",
              "      <td>0.509657</td>\n",
              "      <td>Up</td>\n",
              "    </tr>\n",
              "    <tr>\n",
              "      <th>...</th>\n",
              "      <td>...</td>\n",
              "      <td>...</td>\n",
              "      <td>...</td>\n",
              "    </tr>\n",
              "    <tr>\n",
              "      <th>247</th>\n",
              "      <td>0.497670</td>\n",
              "      <td>0.502330</td>\n",
              "      <td>Up</td>\n",
              "    </tr>\n",
              "    <tr>\n",
              "      <th>248</th>\n",
              "      <td>0.494787</td>\n",
              "      <td>0.505213</td>\n",
              "      <td>Up</td>\n",
              "    </tr>\n",
              "    <tr>\n",
              "      <th>249</th>\n",
              "      <td>0.475864</td>\n",
              "      <td>0.524136</td>\n",
              "      <td>Up</td>\n",
              "    </tr>\n",
              "    <tr>\n",
              "      <th>250</th>\n",
              "      <td>0.482695</td>\n",
              "      <td>0.517305</td>\n",
              "      <td>Up</td>\n",
              "    </tr>\n",
              "    <tr>\n",
              "      <th>251</th>\n",
              "      <td>0.486446</td>\n",
              "      <td>0.513554</td>\n",
              "      <td>Up</td>\n",
              "    </tr>\n",
              "  </tbody>\n",
              "</table>\n",
              "<p>252 rows × 3 columns</p>\n",
              "</div>"
            ],
            "text/plain": [
              "       prob_0    prob_1 pred_class\n",
              "0    0.487324  0.512676         Up\n",
              "1    0.475901  0.524099         Up\n",
              "2    0.463691  0.536309         Up\n",
              "3    0.473925  0.526075         Up\n",
              "4    0.490343  0.509657         Up\n",
              "..        ...       ...        ...\n",
              "247  0.497670  0.502330         Up\n",
              "248  0.494787  0.505213         Up\n",
              "249  0.475864  0.524136         Up\n",
              "250  0.482695  0.517305         Up\n",
              "251  0.486446  0.513554         Up\n",
              "\n",
              "[252 rows x 3 columns]"
            ]
          },
          "metadata": {
            "tags": []
          },
          "execution_count": 42
        }
      ]
    },
    {
      "cell_type": "code",
      "metadata": {
        "id": "mTD1er8Y2OCH",
        "outputId": "191a085a-1c87-4e45-aa77-1ef738225b21",
        "colab": {
          "base_uri": "https://localhost:8080/",
          "height": 0
        }
      },
      "source": [
        "conf_m = pd.DataFrame(confusion_matrix(y_test, qda_fit.predict(X_test)))\n",
        "conf_m.columns.name = 'Predicted'\n",
        "conf_m.index.name = 'True'\n",
        "conf_m"
      ],
      "execution_count": 43,
      "outputs": [
        {
          "output_type": "execute_result",
          "data": {
            "text/html": [
              "<div>\n",
              "<style scoped>\n",
              "    .dataframe tbody tr th:only-of-type {\n",
              "        vertical-align: middle;\n",
              "    }\n",
              "\n",
              "    .dataframe tbody tr th {\n",
              "        vertical-align: top;\n",
              "    }\n",
              "\n",
              "    .dataframe thead th {\n",
              "        text-align: right;\n",
              "    }\n",
              "</style>\n",
              "<table border=\"1\" class=\"dataframe\">\n",
              "  <thead>\n",
              "    <tr style=\"text-align: right;\">\n",
              "      <th>Predicted</th>\n",
              "      <th>0</th>\n",
              "      <th>1</th>\n",
              "    </tr>\n",
              "    <tr>\n",
              "      <th>True</th>\n",
              "      <th></th>\n",
              "      <th></th>\n",
              "    </tr>\n",
              "  </thead>\n",
              "  <tbody>\n",
              "    <tr>\n",
              "      <th>0</th>\n",
              "      <td>30</td>\n",
              "      <td>81</td>\n",
              "    </tr>\n",
              "    <tr>\n",
              "      <th>1</th>\n",
              "      <td>20</td>\n",
              "      <td>121</td>\n",
              "    </tr>\n",
              "  </tbody>\n",
              "</table>\n",
              "</div>"
            ],
            "text/plain": [
              "Predicted   0    1\n",
              "True              \n",
              "0          30   81\n",
              "1          20  121"
            ]
          },
          "metadata": {
            "tags": []
          },
          "execution_count": 43
        }
      ]
    },
    {
      "cell_type": "code",
      "metadata": {
        "id": "3WOI6pnH2Sxg",
        "outputId": "687d4d82-2061-49dc-a079-b4ade382691c",
        "colab": {
          "base_uri": "https://localhost:8080/"
        }
      },
      "source": [
        "print('Accuracy: ' + str(accuracy_score(y_test, qda_fit.predict(X_test))))\n",
        "print('Test Error: ' + str(1 - accuracy_score(y_test, qda_fit.predict(X_test))))"
      ],
      "execution_count": 44,
      "outputs": [
        {
          "output_type": "stream",
          "text": [
            "Accuracy: 0.5992063492063492\n",
            "Test Error: 0.4007936507936508\n"
          ],
          "name": "stdout"
        }
      ]
    },
    {
      "cell_type": "markdown",
      "metadata": {
        "id": "FTi9DIn623bh"
      },
      "source": [
        "## 4.6.5 K-Nearest Neighbors"
      ]
    },
    {
      "cell_type": "code",
      "metadata": {
        "id": "BQS44kiF2UU3"
      },
      "source": [
        "from sklearn.neighbors import KNeighborsClassifier\n",
        "\n",
        "X_train = train.loc[:,'Lag1':'Lag2']\n",
        "y_train = train.Direction\n",
        "\n",
        "X_test = smarket_2005.loc[:,'Lag1':'Lag2']\n",
        "y_test = smarket_2005.Direction\n",
        "\n",
        "knn_model = KNeighborsClassifier(n_neighbors=1)\n",
        "knn_fit = knn_model.fit(X_train, y_train)"
      ],
      "execution_count": 45,
      "outputs": []
    },
    {
      "cell_type": "code",
      "metadata": {
        "id": "oY-8YpzD4Oyw",
        "outputId": "eb17adab-7ee5-4377-aeb4-8091e6134e59",
        "colab": {
          "base_uri": "https://localhost:8080/",
          "height": 0
        }
      },
      "source": [
        "# prediction summary\n",
        "pd.DataFrame({'true_class' : y_test,\n",
        "              'pred_class': knn_fit.predict(X_test)}, \n",
        "             columns=['true_class', 'pred_class'])"
      ],
      "execution_count": 46,
      "outputs": [
        {
          "output_type": "execute_result",
          "data": {
            "text/html": [
              "<div>\n",
              "<style scoped>\n",
              "    .dataframe tbody tr th:only-of-type {\n",
              "        vertical-align: middle;\n",
              "    }\n",
              "\n",
              "    .dataframe tbody tr th {\n",
              "        vertical-align: top;\n",
              "    }\n",
              "\n",
              "    .dataframe thead th {\n",
              "        text-align: right;\n",
              "    }\n",
              "</style>\n",
              "<table border=\"1\" class=\"dataframe\">\n",
              "  <thead>\n",
              "    <tr style=\"text-align: right;\">\n",
              "      <th></th>\n",
              "      <th>true_class</th>\n",
              "      <th>pred_class</th>\n",
              "    </tr>\n",
              "  </thead>\n",
              "  <tbody>\n",
              "    <tr>\n",
              "      <th>999</th>\n",
              "      <td>Down</td>\n",
              "      <td>Up</td>\n",
              "    </tr>\n",
              "    <tr>\n",
              "      <th>1000</th>\n",
              "      <td>Down</td>\n",
              "      <td>Down</td>\n",
              "    </tr>\n",
              "    <tr>\n",
              "      <th>1001</th>\n",
              "      <td>Down</td>\n",
              "      <td>Up</td>\n",
              "    </tr>\n",
              "    <tr>\n",
              "      <th>1002</th>\n",
              "      <td>Up</td>\n",
              "      <td>Up</td>\n",
              "    </tr>\n",
              "    <tr>\n",
              "      <th>1003</th>\n",
              "      <td>Down</td>\n",
              "      <td>Up</td>\n",
              "    </tr>\n",
              "    <tr>\n",
              "      <th>...</th>\n",
              "      <td>...</td>\n",
              "      <td>...</td>\n",
              "    </tr>\n",
              "    <tr>\n",
              "      <th>1246</th>\n",
              "      <td>Up</td>\n",
              "      <td>Down</td>\n",
              "    </tr>\n",
              "    <tr>\n",
              "      <th>1247</th>\n",
              "      <td>Down</td>\n",
              "      <td>Down</td>\n",
              "    </tr>\n",
              "    <tr>\n",
              "      <th>1248</th>\n",
              "      <td>Up</td>\n",
              "      <td>Up</td>\n",
              "    </tr>\n",
              "    <tr>\n",
              "      <th>1249</th>\n",
              "      <td>Down</td>\n",
              "      <td>Down</td>\n",
              "    </tr>\n",
              "    <tr>\n",
              "      <th>1250</th>\n",
              "      <td>Down</td>\n",
              "      <td>Up</td>\n",
              "    </tr>\n",
              "  </tbody>\n",
              "</table>\n",
              "<p>252 rows × 2 columns</p>\n",
              "</div>"
            ],
            "text/plain": [
              "     true_class pred_class\n",
              "999        Down         Up\n",
              "1000       Down       Down\n",
              "1001       Down         Up\n",
              "1002         Up         Up\n",
              "1003       Down         Up\n",
              "...         ...        ...\n",
              "1246         Up       Down\n",
              "1247       Down       Down\n",
              "1248         Up         Up\n",
              "1249       Down       Down\n",
              "1250       Down         Up\n",
              "\n",
              "[252 rows x 2 columns]"
            ]
          },
          "metadata": {
            "tags": []
          },
          "execution_count": 46
        }
      ]
    },
    {
      "cell_type": "code",
      "metadata": {
        "id": "rWn2AKZA4TDn",
        "outputId": "ffa8c5b6-8940-4001-db67-38214c3a9a7a",
        "colab": {
          "base_uri": "https://localhost:8080/",
          "height": 0
        }
      },
      "source": [
        "conf_m = pd.DataFrame(confusion_matrix(y_test, knn_fit.predict(X_test)))\n",
        "conf_m.columns.name = 'Predicted'\n",
        "conf_m.index.name = 'True'\n",
        "conf_m"
      ],
      "execution_count": 47,
      "outputs": [
        {
          "output_type": "execute_result",
          "data": {
            "text/html": [
              "<div>\n",
              "<style scoped>\n",
              "    .dataframe tbody tr th:only-of-type {\n",
              "        vertical-align: middle;\n",
              "    }\n",
              "\n",
              "    .dataframe tbody tr th {\n",
              "        vertical-align: top;\n",
              "    }\n",
              "\n",
              "    .dataframe thead th {\n",
              "        text-align: right;\n",
              "    }\n",
              "</style>\n",
              "<table border=\"1\" class=\"dataframe\">\n",
              "  <thead>\n",
              "    <tr style=\"text-align: right;\">\n",
              "      <th>Predicted</th>\n",
              "      <th>0</th>\n",
              "      <th>1</th>\n",
              "    </tr>\n",
              "    <tr>\n",
              "      <th>True</th>\n",
              "      <th></th>\n",
              "      <th></th>\n",
              "    </tr>\n",
              "  </thead>\n",
              "  <tbody>\n",
              "    <tr>\n",
              "      <th>0</th>\n",
              "      <td>43</td>\n",
              "      <td>68</td>\n",
              "    </tr>\n",
              "    <tr>\n",
              "      <th>1</th>\n",
              "      <td>58</td>\n",
              "      <td>83</td>\n",
              "    </tr>\n",
              "  </tbody>\n",
              "</table>\n",
              "</div>"
            ],
            "text/plain": [
              "Predicted   0   1\n",
              "True             \n",
              "0          43  68\n",
              "1          58  83"
            ]
          },
          "metadata": {
            "tags": []
          },
          "execution_count": 47
        }
      ]
    },
    {
      "cell_type": "code",
      "metadata": {
        "id": "W3wo4XlB4VL6",
        "outputId": "29b297ff-8565-4141-9c8b-dcb7eca24ca0",
        "colab": {
          "base_uri": "https://localhost:8080/"
        }
      },
      "source": [
        "print('Accuracy: ' + str(accuracy_score(y_test, knn_fit.predict(X_test))))\n",
        "print('Test Error: ' + str(1 - accuracy_score(y_test, knn_fit.predict(X_test))))"
      ],
      "execution_count": 48,
      "outputs": [
        {
          "output_type": "stream",
          "text": [
            "Accuracy: 0.5\n",
            "Test Error: 0.5\n"
          ],
          "name": "stdout"
        }
      ]
    },
    {
      "cell_type": "code",
      "metadata": {
        "id": "fdua8-C74XmJ"
      },
      "source": [
        "knn_model_3 = KNeighborsClassifier(n_neighbors=3)\n",
        "knn_fit_3 = knn_model_3.fit(X_train, y_train)"
      ],
      "execution_count": 49,
      "outputs": []
    },
    {
      "cell_type": "code",
      "metadata": {
        "id": "_WEbSwOG4qzy",
        "outputId": "eecc57e7-21a6-4d13-8a80-6a16350c2329",
        "colab": {
          "base_uri": "https://localhost:8080/"
        }
      },
      "source": [
        "print('Accuracy: ' + str(accuracy_score(y_test, knn_fit_3.predict(X_test))))\n",
        "print('Test Error: ' + str(1 - accuracy_score(y_test, knn_fit_3.predict(X_test))))"
      ],
      "execution_count": 50,
      "outputs": [
        {
          "output_type": "stream",
          "text": [
            "Accuracy: 0.5317460317460317\n",
            "Test Error: 0.46825396825396826\n"
          ],
          "name": "stdout"
        }
      ]
    },
    {
      "cell_type": "markdown",
      "metadata": {
        "id": "qiM2Wtxv4yG5"
      },
      "source": [
        "## 4.6.6 An Application to Caravan Insurance Data"
      ]
    },
    {
      "cell_type": "code",
      "metadata": {
        "id": "2MbdXITp4s1f"
      },
      "source": [
        "# load data\n",
        "caravan = pd.read_csv('https://raw.githubusercontent.com/mjalalimanesh/statistical-learning-ISLR-python/master/datasets/Caravan.csv', index_col=0)\n",
        "caravan.Purchase = caravan.Purchase.astype('category')\n",
        "caravan.head()"
      ],
      "execution_count": null,
      "outputs": []
    },
    {
      "cell_type": "code",
      "metadata": {
        "id": "J6dK7ah3E6xY"
      },
      "source": [
        "caravan.info(memory_usage='deep')"
      ],
      "execution_count": null,
      "outputs": []
    },
    {
      "cell_type": "code",
      "metadata": {
        "id": "xTL2LmUvFNO0",
        "outputId": "fcf6b8d3-fc33-4c0c-a0fd-07b0dcb8390e",
        "colab": {
          "base_uri": "https://localhost:8080/"
        }
      },
      "source": [
        "caravan.Purchase.value_counts()"
      ],
      "execution_count": 53,
      "outputs": [
        {
          "output_type": "execute_result",
          "data": {
            "text/plain": [
              "No     5474\n",
              "Yes     348\n",
              "Name: Purchase, dtype: int64"
            ]
          },
          "metadata": {
            "tags": []
          },
          "execution_count": 53
        }
      ]
    },
    {
      "cell_type": "code",
      "metadata": {
        "id": "b43ssWcxFSRq",
        "outputId": "e99b85dd-905c-4271-e250-9b5e6bfea4b9",
        "colab": {
          "base_uri": "https://localhost:8080/"
        }
      },
      "source": [
        "caravan.Purchase.value_counts()['Yes']/len(caravan)"
      ],
      "execution_count": 54,
      "outputs": [
        {
          "output_type": "execute_result",
          "data": {
            "text/plain": [
              "0.05977327378907592"
            ]
          },
          "metadata": {
            "tags": []
          },
          "execution_count": 54
        }
      ]
    },
    {
      "cell_type": "code",
      "metadata": {
        "id": "7y5XnmCuFWnA"
      },
      "source": [
        "X = caravan.iloc[:, :-1]\n",
        "y = caravan.iloc[:,-1]\n",
        "from sklearn.preprocessing import StandardScaler\n",
        "X = StandardScaler().fit(X).transform(X)"
      ],
      "execution_count": 63,
      "outputs": []
    },
    {
      "cell_type": "code",
      "metadata": {
        "id": "6EIkpEiOl2vr"
      },
      "source": [
        "X_train = X[1001:]\n",
        "y_train = y[1001:]\n",
        "\n",
        "X_test = X[:1000]\n",
        "y_test = y[:1000]\n",
        "\n",
        "knn_model = KNeighborsClassifier(n_neighbors=1)\n",
        "knn_fit = knn_model.fit(X_train, y_train)"
      ],
      "execution_count": 66,
      "outputs": []
    },
    {
      "cell_type": "code",
      "metadata": {
        "id": "EqttqkJTl4b-",
        "outputId": "99a96482-e683-4269-f31c-118e6f57ae4e",
        "colab": {
          "base_uri": "https://localhost:8080/",
          "height": 137
        }
      },
      "source": [
        "conf_m = pd.DataFrame(confusion_matrix(y_test, knn_fit.predict(X_test)))\n",
        "conf_m.columns.name = 'Predicted'\n",
        "conf_m.index.name = 'True'\n",
        "conf_m"
      ],
      "execution_count": 67,
      "outputs": [
        {
          "output_type": "execute_result",
          "data": {
            "text/html": [
              "<div>\n",
              "<style scoped>\n",
              "    .dataframe tbody tr th:only-of-type {\n",
              "        vertical-align: middle;\n",
              "    }\n",
              "\n",
              "    .dataframe tbody tr th {\n",
              "        vertical-align: top;\n",
              "    }\n",
              "\n",
              "    .dataframe thead th {\n",
              "        text-align: right;\n",
              "    }\n",
              "</style>\n",
              "<table border=\"1\" class=\"dataframe\">\n",
              "  <thead>\n",
              "    <tr style=\"text-align: right;\">\n",
              "      <th>Predicted</th>\n",
              "      <th>0</th>\n",
              "      <th>1</th>\n",
              "    </tr>\n",
              "    <tr>\n",
              "      <th>True</th>\n",
              "      <th></th>\n",
              "      <th></th>\n",
              "    </tr>\n",
              "  </thead>\n",
              "  <tbody>\n",
              "    <tr>\n",
              "      <th>0</th>\n",
              "      <td>873</td>\n",
              "      <td>68</td>\n",
              "    </tr>\n",
              "    <tr>\n",
              "      <th>1</th>\n",
              "      <td>50</td>\n",
              "      <td>9</td>\n",
              "    </tr>\n",
              "  </tbody>\n",
              "</table>\n",
              "</div>"
            ],
            "text/plain": [
              "Predicted    0   1\n",
              "True              \n",
              "0          873  68\n",
              "1           50   9"
            ]
          },
          "metadata": {
            "tags": []
          },
          "execution_count": 67
        }
      ]
    },
    {
      "cell_type": "code",
      "metadata": {
        "id": "NNMVdppTnXkN",
        "outputId": "d8295b65-9c8f-4820-d03f-d55f16c170e5",
        "colab": {
          "base_uri": "https://localhost:8080/"
        }
      },
      "source": [
        "print('Accuracy: ' + str(accuracy_score(y_test, knn_fit.predict(X_test))))\n",
        "print('Test Error: ' + str(1 - accuracy_score(y_test, knn_fit.predict(X_test))))"
      ],
      "execution_count": 68,
      "outputs": [
        {
          "output_type": "stream",
          "text": [
            "Accuracy: 0.882\n",
            "Test Error: 0.118\n"
          ],
          "name": "stdout"
        }
      ]
    },
    {
      "cell_type": "code",
      "metadata": {
        "id": "ouKIC98nndUy",
        "outputId": "f37039c3-0fd3-405b-b9c3-5b7b5ed45904",
        "colab": {
          "base_uri": "https://localhost:8080/"
        }
      },
      "source": [
        "np.mean(y_test != 'No')"
      ],
      "execution_count": 73,
      "outputs": [
        {
          "output_type": "execute_result",
          "data": {
            "text/plain": [
              "0.059"
            ]
          },
          "metadata": {
            "tags": []
          },
          "execution_count": 73
        }
      ]
    },
    {
      "cell_type": "code",
      "metadata": {
        "id": "PeqKEgi4nvi7",
        "outputId": "39b42974-9a03-4780-84d0-1bb7fa6b34aa",
        "colab": {
          "base_uri": "https://localhost:8080/"
        }
      },
      "source": [
        "from sklearn.metrics import precision_score\n",
        "print('Precision for \\'Yes\\': ' + str(precision_score(y_test, knn_fit.predict(X_test), pos_label='Yes')))"
      ],
      "execution_count": 74,
      "outputs": [
        {
          "output_type": "stream",
          "text": [
            "Precision for 'Yes': 0.11688311688311688\n"
          ],
          "name": "stdout"
        }
      ]
    },
    {
      "cell_type": "code",
      "metadata": {
        "id": "UO_MOiu_qvWf",
        "outputId": "463097cc-5073-4fcc-ef7a-6e99b7f6ff01",
        "colab": {
          "base_uri": "https://localhost:8080/"
        }
      },
      "source": [
        "knn_model = KNeighborsClassifier(n_neighbors=3)\n",
        "knn_fit3 = knn_model.fit(X_train, y_train)\n",
        "\n",
        "print('Precision for \\'Yes\\': ' + str(precision_score(y_test, knn_fit3.predict(X_test), pos_label='Yes')))"
      ],
      "execution_count": 75,
      "outputs": [
        {
          "output_type": "stream",
          "text": [
            "Precision for 'Yes': 0.2\n"
          ],
          "name": "stdout"
        }
      ]
    },
    {
      "cell_type": "code",
      "metadata": {
        "id": "31ivOZNtq1IR",
        "outputId": "19550780-c30b-4bcb-be6d-5ad87ccb457d",
        "colab": {
          "base_uri": "https://localhost:8080/"
        }
      },
      "source": [
        "knn_model = KNeighborsClassifier(n_neighbors=5)\n",
        "knn_fit5 = knn_model.fit(X_train, y_train)\n",
        "\n",
        "print('Precision for \\'Yes\\': ' + str(precision_score(y_test, knn_fit5.predict(X_test), pos_label='Yes')))"
      ],
      "execution_count": 76,
      "outputs": [
        {
          "output_type": "stream",
          "text": [
            "Precision for 'Yes': 0.2857142857142857\n"
          ],
          "name": "stdout"
        }
      ]
    },
    {
      "cell_type": "code",
      "metadata": {
        "id": "2SRb8NU6q5d-",
        "outputId": "7fea8af4-75a8-4ad3-cce9-73424d822214",
        "colab": {
          "base_uri": "https://localhost:8080/"
        }
      },
      "source": [
        "knn_model = KNeighborsClassifier(n_neighbors=6)\n",
        "knn_fit5 = knn_model.fit(X_train, y_train)\n",
        "\n",
        "print('Precision for \\'Yes\\': ' + str(precision_score(y_test, knn_fit5.predict(X_test), pos_label='Yes')))"
      ],
      "execution_count": 79,
      "outputs": [
        {
          "output_type": "stream",
          "text": [
            "Precision for 'Yes': 0.3333333333333333\n"
          ],
          "name": "stdout"
        }
      ]
    },
    {
      "cell_type": "code",
      "metadata": {
        "id": "ZLoALsu7q7AM"
      },
      "source": [
        "glm_model = LogisticRegression(fit_intercept=True, C=1e9, max_iter=500) # Large C for no regularization\n",
        "glm_fit = glm_model.fit(X_train, y_train)"
      ],
      "execution_count": 89,
      "outputs": []
    },
    {
      "cell_type": "code",
      "metadata": {
        "id": "zGh5add2rLgY",
        "outputId": "5a4ef4c7-0d81-4059-b432-226e1c6902d2",
        "colab": {
          "base_uri": "https://localhost:8080/",
          "height": 137
        }
      },
      "source": [
        "glm_pred_50 = pd.Series(glm_fit.predict_proba(X_test)[:, 1] > 0.5).map({False: 'No', True: 'Yes'})\n",
        "\n",
        "conf_m = pd.DataFrame(confusion_matrix(y_test, glm_pred_50))\n",
        "conf_m.columns.name = 'Predicted'\n",
        "conf_m.index.name = 'True'\n",
        "conf_m"
      ],
      "execution_count": 90,
      "outputs": [
        {
          "output_type": "execute_result",
          "data": {
            "text/html": [
              "<div>\n",
              "<style scoped>\n",
              "    .dataframe tbody tr th:only-of-type {\n",
              "        vertical-align: middle;\n",
              "    }\n",
              "\n",
              "    .dataframe tbody tr th {\n",
              "        vertical-align: top;\n",
              "    }\n",
              "\n",
              "    .dataframe thead th {\n",
              "        text-align: right;\n",
              "    }\n",
              "</style>\n",
              "<table border=\"1\" class=\"dataframe\">\n",
              "  <thead>\n",
              "    <tr style=\"text-align: right;\">\n",
              "      <th>Predicted</th>\n",
              "      <th>0</th>\n",
              "      <th>1</th>\n",
              "    </tr>\n",
              "    <tr>\n",
              "      <th>True</th>\n",
              "      <th></th>\n",
              "      <th></th>\n",
              "    </tr>\n",
              "  </thead>\n",
              "  <tbody>\n",
              "    <tr>\n",
              "      <th>0</th>\n",
              "      <td>934</td>\n",
              "      <td>7</td>\n",
              "    </tr>\n",
              "    <tr>\n",
              "      <th>1</th>\n",
              "      <td>59</td>\n",
              "      <td>0</td>\n",
              "    </tr>\n",
              "  </tbody>\n",
              "</table>\n",
              "</div>"
            ],
            "text/plain": [
              "Predicted    0  1\n",
              "True             \n",
              "0          934  7\n",
              "1           59  0"
            ]
          },
          "metadata": {
            "tags": []
          },
          "execution_count": 90
        }
      ]
    },
    {
      "cell_type": "code",
      "metadata": {
        "id": "5GvWMweotW4f",
        "outputId": "6ef6cbc8-d43c-4fc2-9dec-c9df10a0be20",
        "colab": {
          "base_uri": "https://localhost:8080/",
          "height": 137
        }
      },
      "source": [
        "glm_pred_50 = pd.Series(glm_fit.predict_proba(X_test)[:, 1] > 0.25).map({False: 'No', True: 'Yes'})\n",
        "\n",
        "conf_m = pd.DataFrame(confusion_matrix(y_test, glm_pred_50))\n",
        "conf_m.columns.name = 'Predicted'\n",
        "conf_m.index.name = 'True'\n",
        "conf_m"
      ],
      "execution_count": 91,
      "outputs": [
        {
          "output_type": "execute_result",
          "data": {
            "text/html": [
              "<div>\n",
              "<style scoped>\n",
              "    .dataframe tbody tr th:only-of-type {\n",
              "        vertical-align: middle;\n",
              "    }\n",
              "\n",
              "    .dataframe tbody tr th {\n",
              "        vertical-align: top;\n",
              "    }\n",
              "\n",
              "    .dataframe thead th {\n",
              "        text-align: right;\n",
              "    }\n",
              "</style>\n",
              "<table border=\"1\" class=\"dataframe\">\n",
              "  <thead>\n",
              "    <tr style=\"text-align: right;\">\n",
              "      <th>Predicted</th>\n",
              "      <th>0</th>\n",
              "      <th>1</th>\n",
              "    </tr>\n",
              "    <tr>\n",
              "      <th>True</th>\n",
              "      <th></th>\n",
              "      <th></th>\n",
              "    </tr>\n",
              "  </thead>\n",
              "  <tbody>\n",
              "    <tr>\n",
              "      <th>0</th>\n",
              "      <td>918</td>\n",
              "      <td>23</td>\n",
              "    </tr>\n",
              "    <tr>\n",
              "      <th>1</th>\n",
              "      <td>48</td>\n",
              "      <td>11</td>\n",
              "    </tr>\n",
              "  </tbody>\n",
              "</table>\n",
              "</div>"
            ],
            "text/plain": [
              "Predicted    0   1\n",
              "True              \n",
              "0          918  23\n",
              "1           48  11"
            ]
          },
          "metadata": {
            "tags": []
          },
          "execution_count": 91
        }
      ]
    },
    {
      "cell_type": "code",
      "metadata": {
        "id": "7l5Ht4XJtX7J",
        "outputId": "45e61bcc-7dc5-42a2-e00f-9732bee22757",
        "colab": {
          "base_uri": "https://localhost:8080/"
        }
      },
      "source": [
        "print('Precision for \\'Yes\\': ' + str(precision_score(y_test, glm_pred_50, pos_label='Yes')))"
      ],
      "execution_count": 92,
      "outputs": [
        {
          "output_type": "stream",
          "text": [
            "Precision for 'Yes': 0.3235294117647059\n"
          ],
          "name": "stdout"
        }
      ]
    },
    {
      "cell_type": "code",
      "metadata": {
        "id": "NvxRlfO0toxw"
      },
      "source": [
        ""
      ],
      "execution_count": null,
      "outputs": []
    }
  ]
}