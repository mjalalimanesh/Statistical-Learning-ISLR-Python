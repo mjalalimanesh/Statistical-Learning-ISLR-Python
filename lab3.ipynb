{
  "nbformat": 4,
  "nbformat_minor": 0,
  "metadata": {
    "colab": {
      "name": "lab3.ipynb",
      "provenance": [],
      "authorship_tag": "ABX9TyMdrLzNhDbSp5n88eWrTtTI",
      "include_colab_link": true
    },
    "kernelspec": {
      "name": "python3",
      "display_name": "Python 3"
    }
  },
  "cells": [
    {
      "cell_type": "markdown",
      "metadata": {
        "id": "view-in-github",
        "colab_type": "text"
      },
      "source": [
        "<a href=\"https://colab.research.google.com/github/mjalalimanesh/Statistical-Learning-ISLR-Python/blob/master/lab3.ipynb\" target=\"_parent\"><img src=\"https://colab.research.google.com/assets/colab-badge.svg\" alt=\"Open In Colab\"/></a>"
      ]
    },
    {
      "cell_type": "markdown",
      "metadata": {
        "id": "x53nx0ra9tR3",
        "colab_type": "text"
      },
      "source": [
        "# 3.6  Lab: Linear Regression"
      ]
    },
    {
      "cell_type": "markdown",
      "metadata": {
        "id": "PMshW_XM94Wd",
        "colab_type": "text"
      },
      "source": [
        "### 3.6.1 Libraries"
      ]
    },
    {
      "cell_type": "code",
      "metadata": {
        "id": "cKlOJ-ryu2HZ",
        "colab_type": "code",
        "colab": {}
      },
      "source": [
        "import numpy as np\n",
        "import pandas as pd\n",
        "\n",
        "import seaborn as sns\n",
        "import matplotlib.pyplot as plt\n",
        "\n",
        "import statsmodels.api as sm\n",
        "import statsmodels.formula.api as smf\n",
        "\n",
        "plt.style.use('seaborn') # pretty matplotlib plots"
      ],
      "execution_count": 13,
      "outputs": []
    },
    {
      "cell_type": "markdown",
      "metadata": {
        "id": "d6JSx8Lr-QOE",
        "colab_type": "text"
      },
      "source": [
        "Load Data"
      ]
    },
    {
      "cell_type": "code",
      "metadata": {
        "id": "CSLHSLKt-NOV",
        "colab_type": "code",
        "colab": {
          "base_uri": "https://localhost:8080/",
          "height": 204
        },
        "outputId": "b6ca1e38-9d47-44a1-8ed6-1274d98e9380"
      },
      "source": [
        "path = \"https://raw.githubusercontent.com/mjalalimanesh/Statistical-Learning-ISLR-Python/master/datasets/Boston.csv\"\n",
        "boston = pd.read_csv(path, index_col=0)\n",
        "boston.head()"
      ],
      "execution_count": 5,
      "outputs": [
        {
          "output_type": "execute_result",
          "data": {
            "text/html": [
              "<div>\n",
              "<style scoped>\n",
              "    .dataframe tbody tr th:only-of-type {\n",
              "        vertical-align: middle;\n",
              "    }\n",
              "\n",
              "    .dataframe tbody tr th {\n",
              "        vertical-align: top;\n",
              "    }\n",
              "\n",
              "    .dataframe thead th {\n",
              "        text-align: right;\n",
              "    }\n",
              "</style>\n",
              "<table border=\"1\" class=\"dataframe\">\n",
              "  <thead>\n",
              "    <tr style=\"text-align: right;\">\n",
              "      <th></th>\n",
              "      <th>crim</th>\n",
              "      <th>zn</th>\n",
              "      <th>indus</th>\n",
              "      <th>chas</th>\n",
              "      <th>nox</th>\n",
              "      <th>rm</th>\n",
              "      <th>age</th>\n",
              "      <th>dis</th>\n",
              "      <th>rad</th>\n",
              "      <th>tax</th>\n",
              "      <th>ptratio</th>\n",
              "      <th>black</th>\n",
              "      <th>lstat</th>\n",
              "      <th>medv</th>\n",
              "    </tr>\n",
              "  </thead>\n",
              "  <tbody>\n",
              "    <tr>\n",
              "      <th>1</th>\n",
              "      <td>0.00632</td>\n",
              "      <td>18.0</td>\n",
              "      <td>2.31</td>\n",
              "      <td>0</td>\n",
              "      <td>0.538</td>\n",
              "      <td>6.575</td>\n",
              "      <td>65.2</td>\n",
              "      <td>4.0900</td>\n",
              "      <td>1</td>\n",
              "      <td>296</td>\n",
              "      <td>15.3</td>\n",
              "      <td>396.90</td>\n",
              "      <td>4.98</td>\n",
              "      <td>24.0</td>\n",
              "    </tr>\n",
              "    <tr>\n",
              "      <th>2</th>\n",
              "      <td>0.02731</td>\n",
              "      <td>0.0</td>\n",
              "      <td>7.07</td>\n",
              "      <td>0</td>\n",
              "      <td>0.469</td>\n",
              "      <td>6.421</td>\n",
              "      <td>78.9</td>\n",
              "      <td>4.9671</td>\n",
              "      <td>2</td>\n",
              "      <td>242</td>\n",
              "      <td>17.8</td>\n",
              "      <td>396.90</td>\n",
              "      <td>9.14</td>\n",
              "      <td>21.6</td>\n",
              "    </tr>\n",
              "    <tr>\n",
              "      <th>3</th>\n",
              "      <td>0.02729</td>\n",
              "      <td>0.0</td>\n",
              "      <td>7.07</td>\n",
              "      <td>0</td>\n",
              "      <td>0.469</td>\n",
              "      <td>7.185</td>\n",
              "      <td>61.1</td>\n",
              "      <td>4.9671</td>\n",
              "      <td>2</td>\n",
              "      <td>242</td>\n",
              "      <td>17.8</td>\n",
              "      <td>392.83</td>\n",
              "      <td>4.03</td>\n",
              "      <td>34.7</td>\n",
              "    </tr>\n",
              "    <tr>\n",
              "      <th>4</th>\n",
              "      <td>0.03237</td>\n",
              "      <td>0.0</td>\n",
              "      <td>2.18</td>\n",
              "      <td>0</td>\n",
              "      <td>0.458</td>\n",
              "      <td>6.998</td>\n",
              "      <td>45.8</td>\n",
              "      <td>6.0622</td>\n",
              "      <td>3</td>\n",
              "      <td>222</td>\n",
              "      <td>18.7</td>\n",
              "      <td>394.63</td>\n",
              "      <td>2.94</td>\n",
              "      <td>33.4</td>\n",
              "    </tr>\n",
              "    <tr>\n",
              "      <th>5</th>\n",
              "      <td>0.06905</td>\n",
              "      <td>0.0</td>\n",
              "      <td>2.18</td>\n",
              "      <td>0</td>\n",
              "      <td>0.458</td>\n",
              "      <td>7.147</td>\n",
              "      <td>54.2</td>\n",
              "      <td>6.0622</td>\n",
              "      <td>3</td>\n",
              "      <td>222</td>\n",
              "      <td>18.7</td>\n",
              "      <td>396.90</td>\n",
              "      <td>5.33</td>\n",
              "      <td>36.2</td>\n",
              "    </tr>\n",
              "  </tbody>\n",
              "</table>\n",
              "</div>"
            ],
            "text/plain": [
              "      crim    zn  indus  chas    nox  ...  tax  ptratio   black  lstat  medv\n",
              "1  0.00632  18.0   2.31     0  0.538  ...  296     15.3  396.90   4.98  24.0\n",
              "2  0.02731   0.0   7.07     0  0.469  ...  242     17.8  396.90   9.14  21.6\n",
              "3  0.02729   0.0   7.07     0  0.469  ...  242     17.8  392.83   4.03  34.7\n",
              "4  0.03237   0.0   2.18     0  0.458  ...  222     18.7  394.63   2.94  33.4\n",
              "5  0.06905   0.0   2.18     0  0.458  ...  222     18.7  396.90   5.33  36.2\n",
              "\n",
              "[5 rows x 14 columns]"
            ]
          },
          "metadata": {
            "tags": []
          },
          "execution_count": 5
        }
      ]
    },
    {
      "cell_type": "markdown",
      "metadata": {
        "id": "8YdwmPR3_K1u",
        "colab_type": "text"
      },
      "source": [
        "### 3.6.2 Simple Linear Regression"
      ]
    },
    {
      "cell_type": "markdown",
      "metadata": {
        "id": "Az3JHKwNADBI",
        "colab_type": "text"
      },
      "source": [
        "#### Using scikit-learn"
      ]
    },
    {
      "cell_type": "code",
      "metadata": {
        "id": "_MxfFLPd-wT9",
        "colab_type": "code",
        "colab": {
          "base_uri": "https://localhost:8080/",
          "height": 34
        },
        "outputId": "c19c49d1-31e7-4e8b-e23c-b0379fa283e6"
      },
      "source": [
        "from sklearn import linear_model\n",
        "\n",
        "# ols model with intercept\n",
        "ols_sl = linear_model.LinearRegression(fit_intercept=True) \n",
        "\n",
        "x_train = np.asanyarray(boston['lstat']).reshape((-1, 1))\n",
        "y_true = np.asanyarray(boston['medv'])\n",
        "ols_sl.fit(x_train, y_true)\n",
        "\n",
        "# summary\n",
        "ols_sl.intercept_, ols_sl.coef_"
      ],
      "execution_count": 9,
      "outputs": [
        {
          "output_type": "execute_result",
          "data": {
            "text/plain": [
              "(34.5538408793831, array([-0.95004935]))"
            ]
          },
          "metadata": {
            "tags": []
          },
          "execution_count": 9
        }
      ]
    },
    {
      "cell_type": "code",
      "metadata": {
        "id": "yX39DjOeATSz",
        "colab_type": "code",
        "colab": {
          "base_uri": "https://localhost:8080/",
          "height": 51
        },
        "outputId": "417a8932-6f78-4d21-f1e9-92055962f7e7"
      },
      "source": [
        "# metrics\n",
        "from sklearn.metrics import mean_squared_error\n",
        "\n",
        "y_pred = ols_sl.predict(x_train)\n",
        "\n",
        "ols_sl_summary = {'Ex. Var or R2_Score': ols_sl.score(x_train, y_true),\n",
        "                  'MSE': mean_squared_error(y_true, y_pred)}\n",
        "\n",
        "for k, v in ols_sl_summary.items():\n",
        "    print(k, ':', v)"
      ],
      "execution_count": 12,
      "outputs": [
        {
          "output_type": "stream",
          "text": [
            "Ex. Var or R2_Score : 0.5441462975864797\n",
            "MSE : 38.48296722989415\n"
          ],
          "name": "stdout"
        }
      ]
    },
    {
      "cell_type": "markdown",
      "metadata": {
        "id": "Zxy-ffAGB-zS",
        "colab_type": "text"
      },
      "source": [
        "#### Using Statmodels"
      ]
    },
    {
      "cell_type": "markdown",
      "metadata": {
        "id": "qx9bAXpuHzTk",
        "colab_type": "text"
      },
      "source": [
        "prints p-values, f-score, confidense intervals and ..."
      ]
    },
    {
      "cell_type": "code",
      "metadata": {
        "id": "TgGs-YcABplX",
        "colab_type": "code",
        "colab": {
          "base_uri": "https://localhost:8080/",
          "height": 442
        },
        "outputId": "98f25f40-6b42-4902-c076-d4810cdac6ae"
      },
      "source": [
        "import statsmodels.api as sm\n",
        "\n",
        "# predictor & dependent var\n",
        "x_train = boston['lstat']\n",
        "y_true = boston['medv']\n",
        "\n",
        "# ols model with intercept added to predictor\n",
        "ols_sm = sm.OLS(y_true, sm.add_constant(x_train)).fit()\n",
        "\n",
        "# fitted model and summary\n",
        "print(ols_sm.summary())"
      ],
      "execution_count": 31,
      "outputs": [
        {
          "output_type": "stream",
          "text": [
            "                            OLS Regression Results                            \n",
            "==============================================================================\n",
            "Dep. Variable:                   medv   R-squared:                       0.544\n",
            "Model:                            OLS   Adj. R-squared:                  0.543\n",
            "Method:                 Least Squares   F-statistic:                     601.6\n",
            "Date:                Thu, 24 Sep 2020   Prob (F-statistic):           5.08e-88\n",
            "Time:                        07:52:07   Log-Likelihood:                -1641.5\n",
            "No. Observations:                 506   AIC:                             3287.\n",
            "Df Residuals:                     504   BIC:                             3295.\n",
            "Df Model:                           1                                         \n",
            "Covariance Type:            nonrobust                                         \n",
            "==============================================================================\n",
            "                 coef    std err          t      P>|t|      [0.025      0.975]\n",
            "------------------------------------------------------------------------------\n",
            "const         34.5538      0.563     61.415      0.000      33.448      35.659\n",
            "lstat         -0.9500      0.039    -24.528      0.000      -1.026      -0.874\n",
            "==============================================================================\n",
            "Omnibus:                      137.043   Durbin-Watson:                   0.892\n",
            "Prob(Omnibus):                  0.000   Jarque-Bera (JB):              291.373\n",
            "Skew:                           1.453   Prob(JB):                     5.36e-64\n",
            "Kurtosis:                       5.319   Cond. No.                         29.7\n",
            "==============================================================================\n",
            "\n",
            "Warnings:\n",
            "[1] Standard Errors assume that the covariance matrix of the errors is correctly specified.\n"
          ],
          "name": "stdout"
        }
      ]
    },
    {
      "cell_type": "code",
      "metadata": {
        "id": "l1h0gZ45DtuJ",
        "colab_type": "code",
        "colab": {
          "base_uri": "https://localhost:8080/",
          "height": 34
        },
        "outputId": "aa95b2f2-9dff-43e2-b50b-9f66344268de"
      },
      "source": [
        "ols_sm.predict(sm.add_constant([5, 10, 15]))"
      ],
      "execution_count": 32,
      "outputs": [
        {
          "output_type": "execute_result",
          "data": {
            "text/plain": [
              "array([29.80359411, 25.05334734, 20.30310057])"
            ]
          },
          "metadata": {
            "tags": []
          },
          "execution_count": 32
        }
      ]
    },
    {
      "cell_type": "code",
      "metadata": {
        "id": "e7DnkOHqEmwM",
        "colab_type": "code",
        "colab": {
          "base_uri": "https://localhost:8080/",
          "height": 419
        },
        "outputId": "953f24a2-3699-4a37-86c1-e6ef35fd12b1"
      },
      "source": [
        "# prediction intervals\n",
        "from statsmodels.sandbox.regression.predstd import wls_prediction_std\n",
        "from collections import OrderedDict\n",
        "\n",
        "y_pred = ols_sm_results.predict(sm.add_constant(x_train))\n",
        "prstd, iv_l, iv_u = wls_prediction_std(ols_sm_results)\n",
        "\n",
        "pred_dict = OrderedDict({'x_train': x_train,\n",
        "                         'y_pred': y_pred, \n",
        "                         'y_true': y_true, \n",
        "                         'lwr': iv_l, \n",
        "                         'upr': iv_u, \n",
        "                         'pred_se': prstd})\n",
        "\n",
        "pd.DataFrame(pred_dict)"
      ],
      "execution_count": 35,
      "outputs": [
        {
          "output_type": "execute_result",
          "data": {
            "text/html": [
              "<div>\n",
              "<style scoped>\n",
              "    .dataframe tbody tr th:only-of-type {\n",
              "        vertical-align: middle;\n",
              "    }\n",
              "\n",
              "    .dataframe tbody tr th {\n",
              "        vertical-align: top;\n",
              "    }\n",
              "\n",
              "    .dataframe thead th {\n",
              "        text-align: right;\n",
              "    }\n",
              "</style>\n",
              "<table border=\"1\" class=\"dataframe\">\n",
              "  <thead>\n",
              "    <tr style=\"text-align: right;\">\n",
              "      <th></th>\n",
              "      <th>x_train</th>\n",
              "      <th>y_pred</th>\n",
              "      <th>y_true</th>\n",
              "      <th>lwr</th>\n",
              "      <th>upr</th>\n",
              "      <th>pred_se</th>\n",
              "    </tr>\n",
              "  </thead>\n",
              "  <tbody>\n",
              "    <tr>\n",
              "      <th>1</th>\n",
              "      <td>4.98</td>\n",
              "      <td>29.822595</td>\n",
              "      <td>24.0</td>\n",
              "      <td>17.584603</td>\n",
              "      <td>42.060587</td>\n",
              "      <td>6.228994</td>\n",
              "    </tr>\n",
              "    <tr>\n",
              "      <th>2</th>\n",
              "      <td>9.14</td>\n",
              "      <td>25.870390</td>\n",
              "      <td>21.6</td>\n",
              "      <td>13.643413</td>\n",
              "      <td>38.097367</td>\n",
              "      <td>6.223387</td>\n",
              "    </tr>\n",
              "    <tr>\n",
              "      <th>3</th>\n",
              "      <td>4.03</td>\n",
              "      <td>30.725142</td>\n",
              "      <td>34.7</td>\n",
              "      <td>18.483488</td>\n",
              "      <td>42.966796</td>\n",
              "      <td>6.230858</td>\n",
              "    </tr>\n",
              "    <tr>\n",
              "      <th>4</th>\n",
              "      <td>2.94</td>\n",
              "      <td>31.760696</td>\n",
              "      <td>33.4</td>\n",
              "      <td>19.514315</td>\n",
              "      <td>44.007076</td>\n",
              "      <td>6.233264</td>\n",
              "    </tr>\n",
              "    <tr>\n",
              "      <th>5</th>\n",
              "      <td>5.33</td>\n",
              "      <td>29.490078</td>\n",
              "      <td>36.2</td>\n",
              "      <td>17.253328</td>\n",
              "      <td>41.726828</td>\n",
              "      <td>6.228362</td>\n",
              "    </tr>\n",
              "    <tr>\n",
              "      <th>...</th>\n",
              "      <td>...</td>\n",
              "      <td>...</td>\n",
              "      <td>...</td>\n",
              "      <td>...</td>\n",
              "      <td>...</td>\n",
              "      <td>...</td>\n",
              "    </tr>\n",
              "    <tr>\n",
              "      <th>502</th>\n",
              "      <td>9.67</td>\n",
              "      <td>25.366864</td>\n",
              "      <td>22.4</td>\n",
              "      <td>13.140702</td>\n",
              "      <td>37.593025</td>\n",
              "      <td>6.222972</td>\n",
              "    </tr>\n",
              "    <tr>\n",
              "      <th>503</th>\n",
              "      <td>9.08</td>\n",
              "      <td>25.927393</td>\n",
              "      <td>20.6</td>\n",
              "      <td>13.700315</td>\n",
              "      <td>38.154470</td>\n",
              "      <td>6.223438</td>\n",
              "    </tr>\n",
              "    <tr>\n",
              "      <th>504</th>\n",
              "      <td>5.64</td>\n",
              "      <td>29.195563</td>\n",
              "      <td>23.9</td>\n",
              "      <td>16.959864</td>\n",
              "      <td>41.431261</td>\n",
              "      <td>6.227826</td>\n",
              "    </tr>\n",
              "    <tr>\n",
              "      <th>505</th>\n",
              "      <td>6.48</td>\n",
              "      <td>28.397521</td>\n",
              "      <td>22.0</td>\n",
              "      <td>16.164444</td>\n",
              "      <td>40.630598</td>\n",
              "      <td>6.226492</td>\n",
              "    </tr>\n",
              "    <tr>\n",
              "      <th>506</th>\n",
              "      <td>7.88</td>\n",
              "      <td>27.067452</td>\n",
              "      <td>11.9</td>\n",
              "      <td>14.838003</td>\n",
              "      <td>39.296901</td>\n",
              "      <td>6.224646</td>\n",
              "    </tr>\n",
              "  </tbody>\n",
              "</table>\n",
              "<p>506 rows × 6 columns</p>\n",
              "</div>"
            ],
            "text/plain": [
              "     x_train     y_pred  y_true        lwr        upr   pred_se\n",
              "1       4.98  29.822595    24.0  17.584603  42.060587  6.228994\n",
              "2       9.14  25.870390    21.6  13.643413  38.097367  6.223387\n",
              "3       4.03  30.725142    34.7  18.483488  42.966796  6.230858\n",
              "4       2.94  31.760696    33.4  19.514315  44.007076  6.233264\n",
              "5       5.33  29.490078    36.2  17.253328  41.726828  6.228362\n",
              "..       ...        ...     ...        ...        ...       ...\n",
              "502     9.67  25.366864    22.4  13.140702  37.593025  6.222972\n",
              "503     9.08  25.927393    20.6  13.700315  38.154470  6.223438\n",
              "504     5.64  29.195563    23.9  16.959864  41.431261  6.227826\n",
              "505     6.48  28.397521    22.0  16.164444  40.630598  6.226492\n",
              "506     7.88  27.067452    11.9  14.838003  39.296901  6.224646\n",
              "\n",
              "[506 rows x 6 columns]"
            ]
          },
          "metadata": {
            "tags": []
          },
          "execution_count": 35
        }
      ]
    },
    {
      "cell_type": "code",
      "metadata": {
        "id": "opyoWyp3HLEk",
        "colab_type": "code",
        "colab": {}
      },
      "source": [
        ""
      ],
      "execution_count": null,
      "outputs": []
    }
  ]
}