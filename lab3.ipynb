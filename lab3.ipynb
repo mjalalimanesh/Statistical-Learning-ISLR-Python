{
  "nbformat": 4,
  "nbformat_minor": 0,
  "metadata": {
    "colab": {
      "name": "lab3.ipynb",
      "provenance": [],
      "authorship_tag": "ABX9TyMwypy4UFdJEVt2pB5shWoJ",
      "include_colab_link": true
    },
    "kernelspec": {
      "name": "python3",
      "display_name": "Python 3"
    }
  },
  "cells": [
    {
      "cell_type": "markdown",
      "metadata": {
        "id": "view-in-github",
        "colab_type": "text"
      },
      "source": [
        "<a href=\"https://colab.research.google.com/github/mjalalimanesh/Statistical-Learning-ISLR-Python/blob/master/lab3.ipynb\" target=\"_parent\"><img src=\"https://colab.research.google.com/assets/colab-badge.svg\" alt=\"Open In Colab\"/></a>"
      ]
    },
    {
      "cell_type": "markdown",
      "metadata": {
        "id": "x53nx0ra9tR3",
        "colab_type": "text"
      },
      "source": [
        "# 3.6  Lab: Linear Regression"
      ]
    },
    {
      "cell_type": "markdown",
      "metadata": {
        "id": "PMshW_XM94Wd",
        "colab_type": "text"
      },
      "source": [
        "### 3.6.1 Libraries"
      ]
    },
    {
      "cell_type": "code",
      "metadata": {
        "id": "cKlOJ-ryu2HZ",
        "colab_type": "code",
        "colab": {
          "base_uri": "https://localhost:8080/",
          "height": 71
        },
        "outputId": "27f2b912-9946-42a6-fba6-5d17fd18cd3c"
      },
      "source": [
        "import numpy as np\n",
        "import pandas as pd\n",
        "\n",
        "import seaborn as sns\n",
        "import matplotlib.pyplot as plt\n",
        "\n",
        "import statsmodels.api as sm\n",
        "import statsmodels.formula.api as smf\n",
        "\n",
        "plt.style.use('seaborn') # pretty matplotlib plots"
      ],
      "execution_count": 1,
      "outputs": [
        {
          "output_type": "stream",
          "text": [
            "/usr/local/lib/python3.6/dist-packages/statsmodels/tools/_testing.py:19: FutureWarning: pandas.util.testing is deprecated. Use the functions in the public API at pandas.testing instead.\n",
            "  import pandas.util.testing as tm\n"
          ],
          "name": "stderr"
        }
      ]
    },
    {
      "cell_type": "markdown",
      "metadata": {
        "id": "d6JSx8Lr-QOE",
        "colab_type": "text"
      },
      "source": [
        "Load Data"
      ]
    },
    {
      "cell_type": "code",
      "metadata": {
        "id": "CSLHSLKt-NOV",
        "colab_type": "code",
        "colab": {
          "base_uri": "https://localhost:8080/",
          "height": 204
        },
        "outputId": "80fbc66e-317c-496d-ac54-eb71f513abff"
      },
      "source": [
        "path = \"https://raw.githubusercontent.com/mjalalimanesh/Statistical-Learning-ISLR-Python/master/datasets/Boston.csv\"\n",
        "boston = pd.read_csv(path, index_col=0)\n",
        "boston.head()"
      ],
      "execution_count": 8,
      "outputs": [
        {
          "output_type": "execute_result",
          "data": {
            "text/html": [
              "<div>\n",
              "<style scoped>\n",
              "    .dataframe tbody tr th:only-of-type {\n",
              "        vertical-align: middle;\n",
              "    }\n",
              "\n",
              "    .dataframe tbody tr th {\n",
              "        vertical-align: top;\n",
              "    }\n",
              "\n",
              "    .dataframe thead th {\n",
              "        text-align: right;\n",
              "    }\n",
              "</style>\n",
              "<table border=\"1\" class=\"dataframe\">\n",
              "  <thead>\n",
              "    <tr style=\"text-align: right;\">\n",
              "      <th></th>\n",
              "      <th>crim</th>\n",
              "      <th>zn</th>\n",
              "      <th>indus</th>\n",
              "      <th>chas</th>\n",
              "      <th>nox</th>\n",
              "      <th>rm</th>\n",
              "      <th>age</th>\n",
              "      <th>dis</th>\n",
              "      <th>rad</th>\n",
              "      <th>tax</th>\n",
              "      <th>ptratio</th>\n",
              "      <th>black</th>\n",
              "      <th>lstat</th>\n",
              "      <th>medv</th>\n",
              "    </tr>\n",
              "  </thead>\n",
              "  <tbody>\n",
              "    <tr>\n",
              "      <th>1</th>\n",
              "      <td>0.00632</td>\n",
              "      <td>18.0</td>\n",
              "      <td>2.31</td>\n",
              "      <td>0</td>\n",
              "      <td>0.538</td>\n",
              "      <td>6.575</td>\n",
              "      <td>65.2</td>\n",
              "      <td>4.0900</td>\n",
              "      <td>1</td>\n",
              "      <td>296</td>\n",
              "      <td>15.3</td>\n",
              "      <td>396.90</td>\n",
              "      <td>4.98</td>\n",
              "      <td>24.0</td>\n",
              "    </tr>\n",
              "    <tr>\n",
              "      <th>2</th>\n",
              "      <td>0.02731</td>\n",
              "      <td>0.0</td>\n",
              "      <td>7.07</td>\n",
              "      <td>0</td>\n",
              "      <td>0.469</td>\n",
              "      <td>6.421</td>\n",
              "      <td>78.9</td>\n",
              "      <td>4.9671</td>\n",
              "      <td>2</td>\n",
              "      <td>242</td>\n",
              "      <td>17.8</td>\n",
              "      <td>396.90</td>\n",
              "      <td>9.14</td>\n",
              "      <td>21.6</td>\n",
              "    </tr>\n",
              "    <tr>\n",
              "      <th>3</th>\n",
              "      <td>0.02729</td>\n",
              "      <td>0.0</td>\n",
              "      <td>7.07</td>\n",
              "      <td>0</td>\n",
              "      <td>0.469</td>\n",
              "      <td>7.185</td>\n",
              "      <td>61.1</td>\n",
              "      <td>4.9671</td>\n",
              "      <td>2</td>\n",
              "      <td>242</td>\n",
              "      <td>17.8</td>\n",
              "      <td>392.83</td>\n",
              "      <td>4.03</td>\n",
              "      <td>34.7</td>\n",
              "    </tr>\n",
              "    <tr>\n",
              "      <th>4</th>\n",
              "      <td>0.03237</td>\n",
              "      <td>0.0</td>\n",
              "      <td>2.18</td>\n",
              "      <td>0</td>\n",
              "      <td>0.458</td>\n",
              "      <td>6.998</td>\n",
              "      <td>45.8</td>\n",
              "      <td>6.0622</td>\n",
              "      <td>3</td>\n",
              "      <td>222</td>\n",
              "      <td>18.7</td>\n",
              "      <td>394.63</td>\n",
              "      <td>2.94</td>\n",
              "      <td>33.4</td>\n",
              "    </tr>\n",
              "    <tr>\n",
              "      <th>5</th>\n",
              "      <td>0.06905</td>\n",
              "      <td>0.0</td>\n",
              "      <td>2.18</td>\n",
              "      <td>0</td>\n",
              "      <td>0.458</td>\n",
              "      <td>7.147</td>\n",
              "      <td>54.2</td>\n",
              "      <td>6.0622</td>\n",
              "      <td>3</td>\n",
              "      <td>222</td>\n",
              "      <td>18.7</td>\n",
              "      <td>396.90</td>\n",
              "      <td>5.33</td>\n",
              "      <td>36.2</td>\n",
              "    </tr>\n",
              "  </tbody>\n",
              "</table>\n",
              "</div>"
            ],
            "text/plain": [
              "      crim    zn  indus  chas    nox  ...  tax  ptratio   black  lstat  medv\n",
              "1  0.00632  18.0   2.31     0  0.538  ...  296     15.3  396.90   4.98  24.0\n",
              "2  0.02731   0.0   7.07     0  0.469  ...  242     17.8  396.90   9.14  21.6\n",
              "3  0.02729   0.0   7.07     0  0.469  ...  242     17.8  392.83   4.03  34.7\n",
              "4  0.03237   0.0   2.18     0  0.458  ...  222     18.7  394.63   2.94  33.4\n",
              "5  0.06905   0.0   2.18     0  0.458  ...  222     18.7  396.90   5.33  36.2\n",
              "\n",
              "[5 rows x 14 columns]"
            ]
          },
          "metadata": {
            "tags": []
          },
          "execution_count": 8
        }
      ]
    },
    {
      "cell_type": "markdown",
      "metadata": {
        "id": "8YdwmPR3_K1u",
        "colab_type": "text"
      },
      "source": [
        "### 3.6.2 Simple Linear Regression"
      ]
    },
    {
      "cell_type": "markdown",
      "metadata": {
        "id": "Az3JHKwNADBI",
        "colab_type": "text"
      },
      "source": [
        "#### Using scikit-learn"
      ]
    },
    {
      "cell_type": "code",
      "metadata": {
        "id": "_MxfFLPd-wT9",
        "colab_type": "code",
        "colab": {
          "base_uri": "https://localhost:8080/",
          "height": 34
        },
        "outputId": "a6842479-1cf2-4ea9-dc18-9966e7e97f51"
      },
      "source": [
        "from sklearn import linear_model\n",
        "\n",
        "# ols model with intercept\n",
        "ols_sl = linear_model.LinearRegression(fit_intercept=True) \n",
        "\n",
        "x_train = np.asanyarray(boston['lstat']).reshape((-1, 1))\n",
        "y_true = np.asanyarray(boston['medv'])\n",
        "ols_sl.fit(x_train, y_true)\n",
        "\n",
        "# summary\n",
        "ols_sl.intercept_, ols_sl.coef_"
      ],
      "execution_count": 9,
      "outputs": [
        {
          "output_type": "execute_result",
          "data": {
            "text/plain": [
              "(34.5538408793831, array([-0.95004935]))"
            ]
          },
          "metadata": {
            "tags": []
          },
          "execution_count": 9
        }
      ]
    },
    {
      "cell_type": "code",
      "metadata": {
        "id": "yX39DjOeATSz",
        "colab_type": "code",
        "colab": {
          "base_uri": "https://localhost:8080/",
          "height": 51
        },
        "outputId": "7e34e6ec-6cf2-4f20-e8fb-8080b94098f1"
      },
      "source": [
        "# metrics\n",
        "from sklearn.metrics import mean_squared_error\n",
        "\n",
        "y_pred = ols_sl.predict(x_train)\n",
        "\n",
        "ols_sl_summary = {'Ex. Var or R2_Score': ols_sl.score(x_train, y_true),\n",
        "                  'MSE': mean_squared_error(y_true, y_pred)}\n",
        "\n",
        "for k, v in ols_sl_summary.items():\n",
        "    print(k, ':', v)"
      ],
      "execution_count": 10,
      "outputs": [
        {
          "output_type": "stream",
          "text": [
            "Ex. Var or R2_Score : 0.5441462975864797\n",
            "MSE : 38.48296722989415\n"
          ],
          "name": "stdout"
        }
      ]
    },
    {
      "cell_type": "markdown",
      "metadata": {
        "id": "Zxy-ffAGB-zS",
        "colab_type": "text"
      },
      "source": [
        "#### Using Statmodels"
      ]
    },
    {
      "cell_type": "markdown",
      "metadata": {
        "id": "qx9bAXpuHzTk",
        "colab_type": "text"
      },
      "source": [
        "prints p-values, f-score, confidense intervals and ..."
      ]
    },
    {
      "cell_type": "code",
      "metadata": {
        "id": "TgGs-YcABplX",
        "colab_type": "code",
        "colab": {
          "base_uri": "https://localhost:8080/",
          "height": 442
        },
        "outputId": "cb019634-b57e-4ae4-b2a9-191f8e05cf7f"
      },
      "source": [
        "import statsmodels.api as sm\n",
        "\n",
        "# predictor & dependent var\n",
        "x_train = boston['lstat']\n",
        "y_true = boston['medv']\n",
        "\n",
        "# ols model with intercept added to predictor\n",
        "ols_sm = sm.OLS(y_true, sm.add_constant(x_train)).fit()\n",
        "\n",
        "# fitted model and summary\n",
        "print(ols_sm.summary())"
      ],
      "execution_count": 11,
      "outputs": [
        {
          "output_type": "stream",
          "text": [
            "                            OLS Regression Results                            \n",
            "==============================================================================\n",
            "Dep. Variable:                   medv   R-squared:                       0.544\n",
            "Model:                            OLS   Adj. R-squared:                  0.543\n",
            "Method:                 Least Squares   F-statistic:                     601.6\n",
            "Date:                Fri, 25 Sep 2020   Prob (F-statistic):           5.08e-88\n",
            "Time:                        05:58:25   Log-Likelihood:                -1641.5\n",
            "No. Observations:                 506   AIC:                             3287.\n",
            "Df Residuals:                     504   BIC:                             3295.\n",
            "Df Model:                           1                                         \n",
            "Covariance Type:            nonrobust                                         \n",
            "==============================================================================\n",
            "                 coef    std err          t      P>|t|      [0.025      0.975]\n",
            "------------------------------------------------------------------------------\n",
            "const         34.5538      0.563     61.415      0.000      33.448      35.659\n",
            "lstat         -0.9500      0.039    -24.528      0.000      -1.026      -0.874\n",
            "==============================================================================\n",
            "Omnibus:                      137.043   Durbin-Watson:                   0.892\n",
            "Prob(Omnibus):                  0.000   Jarque-Bera (JB):              291.373\n",
            "Skew:                           1.453   Prob(JB):                     5.36e-64\n",
            "Kurtosis:                       5.319   Cond. No.                         29.7\n",
            "==============================================================================\n",
            "\n",
            "Warnings:\n",
            "[1] Standard Errors assume that the covariance matrix of the errors is correctly specified.\n"
          ],
          "name": "stdout"
        }
      ]
    },
    {
      "cell_type": "code",
      "metadata": {
        "id": "l1h0gZ45DtuJ",
        "colab_type": "code",
        "colab": {
          "base_uri": "https://localhost:8080/",
          "height": 34
        },
        "outputId": "bebfcf77-5fb2-445c-e1ec-4ba16319bce7"
      },
      "source": [
        "ols_sm.predict(sm.add_constant([5, 10, 15]))"
      ],
      "execution_count": 12,
      "outputs": [
        {
          "output_type": "execute_result",
          "data": {
            "text/plain": [
              "array([29.80359411, 25.05334734, 20.30310057])"
            ]
          },
          "metadata": {
            "tags": []
          },
          "execution_count": 12
        }
      ]
    },
    {
      "cell_type": "markdown",
      "metadata": {
        "id": "zci0e1ZJ5Wsd",
        "colab_type": "text"
      },
      "source": [
        "produce confidence and prediction interval for prediction of medv"
      ]
    },
    {
      "cell_type": "code",
      "metadata": {
        "id": "opyoWyp3HLEk",
        "colab_type": "code",
        "colab": {
          "base_uri": "https://localhost:8080/",
          "height": 142
        },
        "outputId": "d5b40295-9311-44ec-9b51-ddfd1fdafcf4"
      },
      "source": [
        "predictions = ols_sm.get_prediction(sm.add_constant([5, 10, 15]))\n",
        "intervals_df = predictions.summary_frame(alpha=0.05)\n",
        "intervals_df.drop(\"mean_se\", axis=1 , inplace=True)\n",
        "intervals_df.columns = [\"fit\", \"ci-lwr\", \"ci-upr\", \"pi-lwr\", \"pi-upr\"]\n",
        "intervals_df.head()"
      ],
      "execution_count": 27,
      "outputs": [
        {
          "output_type": "execute_result",
          "data": {
            "text/html": [
              "<div>\n",
              "<style scoped>\n",
              "    .dataframe tbody tr th:only-of-type {\n",
              "        vertical-align: middle;\n",
              "    }\n",
              "\n",
              "    .dataframe tbody tr th {\n",
              "        vertical-align: top;\n",
              "    }\n",
              "\n",
              "    .dataframe thead th {\n",
              "        text-align: right;\n",
              "    }\n",
              "</style>\n",
              "<table border=\"1\" class=\"dataframe\">\n",
              "  <thead>\n",
              "    <tr style=\"text-align: right;\">\n",
              "      <th></th>\n",
              "      <th>fit</th>\n",
              "      <th>ci-lwr</th>\n",
              "      <th>ci-upr</th>\n",
              "      <th>pi-lwr</th>\n",
              "      <th>pi-upr</th>\n",
              "    </tr>\n",
              "  </thead>\n",
              "  <tbody>\n",
              "    <tr>\n",
              "      <th>0</th>\n",
              "      <td>29.803594</td>\n",
              "      <td>29.007412</td>\n",
              "      <td>30.599776</td>\n",
              "      <td>17.565675</td>\n",
              "      <td>42.041513</td>\n",
              "    </tr>\n",
              "    <tr>\n",
              "      <th>1</th>\n",
              "      <td>25.053347</td>\n",
              "      <td>24.474132</td>\n",
              "      <td>25.632563</td>\n",
              "      <td>12.827626</td>\n",
              "      <td>37.279068</td>\n",
              "    </tr>\n",
              "    <tr>\n",
              "      <th>2</th>\n",
              "      <td>20.303101</td>\n",
              "      <td>19.731588</td>\n",
              "      <td>20.874613</td>\n",
              "      <td>8.077742</td>\n",
              "      <td>32.528459</td>\n",
              "    </tr>\n",
              "  </tbody>\n",
              "</table>\n",
              "</div>"
            ],
            "text/plain": [
              "         fit     ci-lwr     ci-upr     pi-lwr     pi-upr\n",
              "0  29.803594  29.007412  30.599776  17.565675  42.041513\n",
              "1  25.053347  24.474132  25.632563  12.827626  37.279068\n",
              "2  20.303101  19.731588  20.874613   8.077742  32.528459"
            ]
          },
          "metadata": {
            "tags": []
          },
          "execution_count": 27
        }
      ]
    },
    {
      "cell_type": "code",
      "metadata": {
        "id": "X-5TpVzB2BWM",
        "colab_type": "code",
        "colab": {}
      },
      "source": [
        "fig = plt.figure(figsize=(10, 8))\n",
        "ax = fig.add_subplot()\n",
        "sns.regplot(x='lstat', y='medv', data=boston, ax=ax, line_kws={\"linewidth\":3, \"color\":'r'}, s=100)"
      ],
      "execution_count": null,
      "outputs": []
    },
    {
      "cell_type": "code",
      "metadata": {
        "id": "l5_oXacQ8LSE",
        "colab_type": "code",
        "colab": {}
      },
      "source": [
        ""
      ],
      "execution_count": null,
      "outputs": []
    }
  ]
}